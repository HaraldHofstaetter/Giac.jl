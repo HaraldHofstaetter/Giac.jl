{
 "cells": [
  {
   "cell_type": "code",
   "execution_count": 1,
   "metadata": {
    "collapsed": false,
    "scrolled": true
   },
   "outputs": [],
   "source": [
    "using Giac"
   ]
  },
  {
   "cell_type": "code",
   "execution_count": 2,
   "metadata": {
    "collapsed": false
   },
   "outputs": [
    {
     "data": {
      "text/plain": [
       "(x,y,z)"
      ]
     },
     "execution_count": 2,
     "metadata": {},
     "output_type": "execute_result"
    }
   ],
   "source": [
    "@giac x y z # define some Giac identifiers"
   ]
  },
  {
   "cell_type": "code",
   "execution_count": 3,
   "metadata": {
    "collapsed": false
   },
   "outputs": [
    {
     "data": {
      "text/plain": [
       "exp(x)*sin(x)"
      ]
     },
     "execution_count": 3,
     "metadata": {},
     "output_type": "execute_result"
    }
   ],
   "source": [
    "ex = exp(x)*sin(x) # build a symbolic expression"
   ]
  },
  {
   "cell_type": "code",
   "execution_count": 4,
   "metadata": {
    "collapsed": false
   },
   "outputs": [
    {
     "data": {
      "text/plain": [
       "exp(x)*sin(x)+exp(x)*cos(x)"
      ]
     },
     "execution_count": 4,
     "metadata": {},
     "output_type": "execute_result"
    }
   ],
   "source": [
    "diff(ex, x) # perform symbolic manipulations"
   ]
  },
  {
   "cell_type": "code",
   "execution_count": 5,
   "metadata": {
    "collapsed": false
   },
   "outputs": [
    {
     "data": {
      "text/plain": [
       "1.41421356237"
      ]
     },
     "execution_count": 5,
     "metadata": {},
     "output_type": "execute_result"
    }
   ],
   "source": [
    "ex = convert(giac, sqrt(2)) # not what we expected: sqrt(2) is computed by Julia first and then transferred to Giac"
   ]
  },
  {
   "cell_type": "code",
   "execution_count": 6,
   "metadata": {
    "collapsed": false
   },
   "outputs": [
    {
     "data": {
      "text/plain": [
       "sqrt(2)"
      ]
     },
     "execution_count": 6,
     "metadata": {},
     "output_type": "execute_result"
    }
   ],
   "source": [
    "ex = convert(giac,\"sqrt(2)\") # OK, uses the giac parser"
   ]
  },
  {
   "cell_type": "code",
   "execution_count": 7,
   "metadata": {
    "collapsed": false
   },
   "outputs": [
    {
     "data": {
      "text/plain": [
       "1.4142135623730923"
      ]
     },
     "execution_count": 7,
     "metadata": {},
     "output_type": "execute_result"
    }
   ],
   "source": [
    "convert(Number, ex) # convert back to a Julia number, "
   ]
  },
  {
   "cell_type": "code",
   "execution_count": 8,
   "metadata": {
    "collapsed": false
   },
   "outputs": [
    {
     "data": {
      "text/plain": [
       "100"
      ]
     },
     "execution_count": 8,
     "metadata": {},
     "output_type": "execute_result"
    }
   ],
   "source": [
    "@giac Digits=100 # Want more digits? Change Giac configuration parameter Digits."
   ]
  },
  {
   "cell_type": "code",
   "execution_count": 9,
   "metadata": {
    "collapsed": false
   },
   "outputs": [
    {
     "data": {
      "text/plain": [
       "1.414213562373095048801688724209698078569671875376948073176679737990732478462102"
      ]
     },
     "execution_count": 9,
     "metadata": {},
     "output_type": "execute_result"
    }
   ],
   "source": [
    "convert(Number, ex)"
   ]
  },
  {
   "cell_type": "code",
   "execution_count": 10,
   "metadata": {
    "collapsed": false
   },
   "outputs": [
    {
     "data": {
      "text/plain": [
       "sqrt(2)"
      ]
     },
     "execution_count": 10,
     "metadata": {},
     "output_type": "execute_result"
    }
   ],
   "source": [
    "ex = giac(\"sqrt(2)\") # has the same effect as ex=convert(giac,\"sqrt(2)\") from above."
   ]
  },
  {
   "cell_type": "code",
   "execution_count": 11,
   "metadata": {
    "collapsed": false
   },
   "outputs": [
    {
     "data": {
      "text/plain": [
       "sqrt(2)"
      ]
     },
     "execution_count": 11,
     "metadata": {},
     "output_type": "execute_result"
    }
   ],
   "source": [
    "ex = sqrt(giac(2)) # this has the same effect, too. "
   ]
  },
  {
   "cell_type": "code",
   "execution_count": 12,
   "metadata": {
    "collapsed": false
   },
   "outputs": [
    {
     "data": {
      "text/plain": [
       "0"
      ]
     },
     "execution_count": 12,
     "metadata": {},
     "output_type": "execute_result"
    }
   ],
   "source": [
    "ex=2^200 # this is done in Int64 arithmetics, results in overflow and gives a nonsense answer."
   ]
  },
  {
   "cell_type": "code",
   "execution_count": 13,
   "metadata": {
    "collapsed": false
   },
   "outputs": [
    {
     "data": {
      "text/plain": [
       "1606938044258990275541962092341162602522202993782792835301376"
      ]
     },
     "execution_count": 13,
     "metadata": {},
     "output_type": "execute_result"
    }
   ],
   "source": [
    "ex=BigInt(2)^200 # OK, uses Julia BigInt arithmetics. The result is a BigInt."
   ]
  },
  {
   "cell_type": "code",
   "execution_count": 14,
   "metadata": {
    "collapsed": false
   },
   "outputs": [
    {
     "data": {
      "text/plain": [
       "BigInt"
      ]
     },
     "execution_count": 14,
     "metadata": {},
     "output_type": "execute_result"
    }
   ],
   "source": [
    "typeof(ex)"
   ]
  },
  {
   "cell_type": "code",
   "execution_count": 15,
   "metadata": {
    "collapsed": false
   },
   "outputs": [
    {
     "data": {
      "text/plain": [
       "1606938044258990275541962092341162602522202993782792835301376"
      ]
     },
     "execution_count": 15,
     "metadata": {},
     "output_type": "execute_result"
    }
   ],
   "source": [
    "ex=giac(2)^200 # OK, uses Giac arithmetics. The result is a Giac object."
   ]
  },
  {
   "cell_type": "code",
   "execution_count": 16,
   "metadata": {
    "collapsed": false
   },
   "outputs": [
    {
     "data": {
      "text/plain": [
       "Giac.giac_ZINT"
      ]
     },
     "execution_count": 16,
     "metadata": {},
     "output_type": "execute_result"
    }
   ],
   "source": [
    "typeof(ex)"
   ]
  },
  {
   "cell_type": "code",
   "execution_count": 17,
   "metadata": {
    "collapsed": false
   },
   "outputs": [
    {
     "data": {
      "text/plain": [
       "1606938044258990275541962092341162602522202993782792835301376"
      ]
     },
     "execution_count": 17,
     "metadata": {},
     "output_type": "execute_result"
    }
   ],
   "source": [
    "ex=convert(Number, ex) # convert Giac object back to Julia number"
   ]
  },
  {
   "cell_type": "code",
   "execution_count": 18,
   "metadata": {
    "collapsed": false
   },
   "outputs": [
    {
     "data": {
      "text/plain": [
       "BigInt"
      ]
     },
     "execution_count": 18,
     "metadata": {},
     "output_type": "execute_result"
    }
   ],
   "source": [
    "typeof(ex)"
   ]
  },
  {
   "cell_type": "code",
   "execution_count": 19,
   "metadata": {
    "collapsed": false
   },
   "outputs": [
    {
     "data": {
      "text/plain": [
       "17"
      ]
     },
     "execution_count": 19,
     "metadata": {},
     "output_type": "execute_result"
    }
   ],
   "source": [
    "@giac a=17 # define a Giac variable"
   ]
  },
  {
   "cell_type": "code",
   "execution_count": 20,
   "metadata": {
    "collapsed": false
   },
   "outputs": [
    {
     "data": {
      "text/plain": [
       "Giac.giac_IDNT"
      ]
     },
     "execution_count": 20,
     "metadata": {},
     "output_type": "execute_result"
    }
   ],
   "source": [
    "typeof(a) # "
   ]
  },
  {
   "cell_type": "code",
   "execution_count": 21,
   "metadata": {
    "collapsed": false
   },
   "outputs": [
    {
     "data": {
      "text/plain": [
       "a"
      ]
     },
     "execution_count": 21,
     "metadata": {},
     "output_type": "execute_result"
    }
   ],
   "source": [
    "a # not evaluated"
   ]
  },
  {
   "cell_type": "code",
   "execution_count": 22,
   "metadata": {
    "collapsed": false
   },
   "outputs": [
    {
     "data": {
      "text/plain": [
       "17"
      ]
     },
     "execution_count": 22,
     "metadata": {},
     "output_type": "execute_result"
    }
   ],
   "source": [
    "ex = evaluate(a) # now we get the value of the variable as a Giac object"
   ]
  },
  {
   "cell_type": "code",
   "execution_count": 23,
   "metadata": {
    "collapsed": false
   },
   "outputs": [
    {
     "data": {
      "text/plain": [
       "Giac.giac_INT_"
      ]
     },
     "execution_count": 23,
     "metadata": {},
     "output_type": "execute_result"
    }
   ],
   "source": [
    "typeof(ex)"
   ]
  },
  {
   "cell_type": "code",
   "execution_count": 24,
   "metadata": {
    "collapsed": false
   },
   "outputs": [
    {
     "data": {
      "text/plain": [
       "17"
      ]
     },
     "execution_count": 24,
     "metadata": {},
     "output_type": "execute_result"
    }
   ],
   "source": [
    "ex = convert(Number, a) # now we get the value of the variable as a Julia number"
   ]
  },
  {
   "cell_type": "code",
   "execution_count": 25,
   "metadata": {
    "collapsed": false
   },
   "outputs": [
    {
     "data": {
      "text/plain": [
       "Int32"
      ]
     },
     "execution_count": 25,
     "metadata": {},
     "output_type": "execute_result"
    }
   ],
   "source": [
    "typeof(ex)"
   ]
  },
  {
   "cell_type": "code",
   "execution_count": 26,
   "metadata": {
    "collapsed": false
   },
   "outputs": [
    {
     "data": {
      "text/plain": [
       "17"
      ]
     },
     "execution_count": 26,
     "metadata": {},
     "output_type": "execute_result"
    }
   ],
   "source": [
    "evaluate(giac(\"a\")) # the value of a is available inside Giac"
   ]
  },
  {
   "cell_type": "code",
   "execution_count": 27,
   "metadata": {
    "collapsed": false
   },
   "outputs": [
    {
     "data": {
      "text/plain": [
       "2"
      ]
     },
     "execution_count": 27,
     "metadata": {},
     "output_type": "execute_result"
    }
   ],
   "source": [
    "evaluate(giac(\"a:=2\")) # the value of a can be changed inside of Giac"
   ]
  },
  {
   "cell_type": "code",
   "execution_count": 28,
   "metadata": {
    "collapsed": false
   },
   "outputs": [
    {
     "data": {
      "text/plain": [
       "2"
      ]
     },
     "execution_count": 28,
     "metadata": {},
     "output_type": "execute_result"
    }
   ],
   "source": [
    "evaluate(a)"
   ]
  },
  {
   "cell_type": "code",
   "execution_count": 29,
   "metadata": {
    "collapsed": false
   },
   "outputs": [
    {
     "data": {
      "text/plain": [
       "4"
      ]
     },
     "execution_count": 29,
     "metadata": {},
     "output_type": "execute_result"
    }
   ],
   "source": [
    "store(4,a)"
   ]
  },
  {
   "cell_type": "code",
   "execution_count": 30,
   "metadata": {
    "collapsed": false
   },
   "outputs": [
    {
     "data": {
      "text/plain": [
       "4"
      ]
     },
     "execution_count": 30,
     "metadata": {},
     "output_type": "execute_result"
    }
   ],
   "source": [
    "evaluate(a)"
   ]
  },
  {
   "cell_type": "code",
   "execution_count": 31,
   "metadata": {
    "collapsed": false
   },
   "outputs": [
    {
     "data": {
      "text/plain": [
       " (x)->sin(x)"
      ]
     },
     "execution_count": 31,
     "metadata": {},
     "output_type": "execute_result"
    }
   ],
   "source": [
    "@giac f(x)=sin(x) # define a Giac function "
   ]
  },
  {
   "cell_type": "code",
   "execution_count": 32,
   "metadata": {
    "collapsed": false
   },
   "outputs": [
    {
     "data": {
      "text/plain": [
       "sin(1)"
      ]
     },
     "execution_count": 32,
     "metadata": {},
     "output_type": "execute_result"
    }
   ],
   "source": [
    "evaluate(f(1)) # use the function"
   ]
  },
  {
   "cell_type": "code",
   "execution_count": 33,
   "metadata": {
    "collapsed": false
   },
   "outputs": [
    {
     "data": {
      "text/plain": [
       "0"
      ]
     },
     "execution_count": 33,
     "metadata": {},
     "output_type": "execute_result"
    }
   ],
   "source": [
    "evaluate(f(pi))"
   ]
  },
  {
   "cell_type": "code",
   "execution_count": 34,
   "metadata": {
    "collapsed": false
   },
   "outputs": [
    {
     "data": {
      "text/plain": [
       "cos(x)"
      ]
     },
     "execution_count": 34,
     "metadata": {},
     "output_type": "execute_result"
    }
   ],
   "source": [
    "f'(x) # ' gives the derivative "
   ]
  },
  {
   "cell_type": "code",
   "execution_count": 35,
   "metadata": {
    "collapsed": false
   },
   "outputs": [
    {
     "data": {
      "text/plain": [
       "-1"
      ]
     },
     "execution_count": 35,
     "metadata": {},
     "output_type": "execute_result"
    }
   ],
   "source": [
    "f'(pi) "
   ]
  },
  {
   "cell_type": "code",
   "execution_count": 36,
   "metadata": {
    "collapsed": false
   },
   "outputs": [
    {
     "data": {
      "text/plain": [
       "(anonymous function)"
      ]
     },
     "execution_count": 36,
     "metadata": {},
     "output_type": "execute_result"
    }
   ],
   "source": [
    "f1 = convert(Function, f) # Convert a Giac function to a Julia function. \n",
    "                          # Conversion uses Julia's LLVM-based just-in-time compiler, \n",
    "                          # thus the resulting Julia function is evaluated very fast."
   ]
  },
  {
   "cell_type": "code",
   "execution_count": 37,
   "metadata": {
    "collapsed": false
   },
   "outputs": [
    {
     "data": {
      "text/plain": [
       "Giac.giac_IDNT"
      ]
     },
     "execution_count": 37,
     "metadata": {},
     "output_type": "execute_result"
    }
   ],
   "source": [
    "typeof(f)"
   ]
  },
  {
   "cell_type": "code",
   "execution_count": 38,
   "metadata": {
    "collapsed": false
   },
   "outputs": [
    {
     "data": {
      "text/plain": [
       "Function"
      ]
     },
     "execution_count": 38,
     "metadata": {},
     "output_type": "execute_result"
    }
   ],
   "source": [
    "typeof(f1)"
   ]
  },
  {
   "cell_type": "code",
   "execution_count": 39,
   "metadata": {
    "collapsed": false
   },
   "outputs": [
    {
     "data": {
      "text/plain": [
       "8-element Array{Float64,1}:\n",
       " -1.22465e-16\n",
       " -0.781831   \n",
       " -0.974928   \n",
       " -0.433884   \n",
       "  0.433884   \n",
       "  0.974928   \n",
       "  0.781831   \n",
       "  1.22465e-16"
      ]
     },
     "execution_count": 39,
     "metadata": {},
     "output_type": "execute_result"
    }
   ],
   "source": [
    "map( f1, linspace(-pi,pi,8) ) # f1 can be used as any Julia function "
   ]
  },
  {
   "cell_type": "code",
   "execution_count": 40,
   "metadata": {
    "collapsed": false
   },
   "outputs": [
    {
     "data": {
      "text/plain": [
       "8-element Array{Giac.giac_SYMB,1}:\n",
       " f(-3.1415926535898) \n",
       " f(-2.2439947525641) \n",
       " f(-1.3463968515385) \n",
       " f(-0.44879895051283)\n",
       " f(0.44879895051283) \n",
       " f(1.3463968515385)  \n",
       " f(2.2439947525641)  \n",
       " f(3.1415926535898)  "
      ]
     },
     "execution_count": 40,
     "metadata": {},
     "output_type": "execute_result"
    }
   ],
   "source": [
    "map( f, linspace(-pi,pi,8) ) # actually, sometimes also f can be used where a Julia function is expected,  \n",
    "                             # but not always with the same effect"
   ]
  },
  {
   "cell_type": "code",
   "execution_count": 41,
   "metadata": {
    "collapsed": false
   },
   "outputs": [
    {
     "data": {
      "text/plain": [
       " (x,y)->x*y"
      ]
     },
     "execution_count": 41,
     "metadata": {},
     "output_type": "execute_result"
    }
   ],
   "source": [
    "@giac g(x,y)=x*y # define a Giac function with two arguments"
   ]
  },
  {
   "cell_type": "code",
   "execution_count": 42,
   "metadata": {
    "collapsed": false
   },
   "outputs": [
    {
     "data": {
      "text/plain": [
       "2*sqrt(2)"
      ]
     },
     "execution_count": 42,
     "metadata": {},
     "output_type": "execute_result"
    }
   ],
   "source": [
    "evaluate(g(2,sqrt(giac(2)))) # use the function"
   ]
  },
  {
   "cell_type": "code",
   "execution_count": 43,
   "metadata": {
    "collapsed": false
   },
   "outputs": [
    {
     "data": {
      "text/plain": [
       "(anonymous function)"
      ]
     },
     "execution_count": 43,
     "metadata": {},
     "output_type": "execute_result"
    }
   ],
   "source": [
    "g1=convert(Function, g) # convert to a Julia function"
   ]
  },
  {
   "cell_type": "code",
   "execution_count": 44,
   "metadata": {
    "collapsed": false
   },
   "outputs": [
    {
     "data": {
      "text/plain": [
       "2.8284271247461903"
      ]
     },
     "execution_count": 44,
     "metadata": {},
     "output_type": "execute_result"
    }
   ],
   "source": [
    "g1(2,sqrt(2))"
   ]
  },
  {
   "cell_type": "code",
   "execution_count": 45,
   "metadata": {
    "collapsed": false
   },
   "outputs": [
    {
     "data": {
      "text/plain": [
       "3-element Array{Pair{A,B},1}:\n",
       " a=>4           \n",
       " f=> (x)->sin(x)\n",
       " g=> (x,y)->x*y "
      ]
     },
     "execution_count": 45,
     "metadata": {},
     "output_type": "execute_result"
    }
   ],
   "source": [
    "giac_vars() # print all Giac variables (including userdefined functions)"
   ]
  },
  {
   "cell_type": "code",
   "execution_count": 46,
   "metadata": {
    "collapsed": false
   },
   "outputs": [
    {
     "name": "stderr",
     "output_type": "stream",
     "text": [
      "WARNING: New definition \n",
      "    +(AbstractArray{T<:Any, 2}, WoodburyMatrices.SymWoodbury) at /home/hofi/.julia/v0.4/WoodburyMatrices/src/SymWoodburyMatrices.jl:106\n",
      "is ambiguous with: \n",
      "    +(DataArrays.DataArray, AbstractArray) at /home/hofi/.julia/v0.4/DataArrays/src/operators.jl:276.\n",
      "To fix, define \n",
      "    +(DataArrays.DataArray{T<:Any, 2}, WoodburyMatrices.SymWoodbury)\n",
      "before the new definition.\n",
      "WARNING: New definition \n",
      "    +(AbstractArray{T<:Any, 2}, WoodburyMatrices.SymWoodbury) at /home/hofi/.julia/v0.4/WoodburyMatrices/src/SymWoodburyMatrices.jl:106\n",
      "is ambiguous with: \n",
      "    +(DataArrays.AbstractDataArray, AbstractArray) at /home/hofi/.julia/v0.4/DataArrays/src/operators.jl:300.\n",
      "To fix, define \n",
      "    +(DataArrays.AbstractDataArray{T<:Any, 2}, WoodburyMatrices.SymWoodbury)\n",
      "before the new definition.\n"
     ]
    }
   ],
   "source": [
    "using Gadfly # plotting is best left to a suitable Julia package"
   ]
  },
  {
   "cell_type": "code",
   "execution_count": 47,
   "metadata": {
    "collapsed": true
   },
   "outputs": [],
   "source": [
    "set_default_plot_size(24cm, 16cm)"
   ]
  },
  {
   "cell_type": "code",
   "execution_count": 48,
   "metadata": {
    "collapsed": false
   },
   "outputs": [
    {
     "data": {
      "image/svg+xml": [
       "<?xml version=\"1.0\" encoding=\"UTF-8\"?>\n",
       "<svg xmlns=\"http://www.w3.org/2000/svg\"\n",
       "     xmlns:xlink=\"http://www.w3.org/1999/xlink\"\n",
       "     xmlns:gadfly=\"http://www.gadflyjl.org/ns\"\n",
       "     version=\"1.2\"\n",
       "     width=\"240mm\" height=\"160mm\" viewBox=\"0 0 240 160\"\n",
       "     stroke=\"none\"\n",
       "     fill=\"#000000\"\n",
       "     stroke-width=\"0.3\"\n",
       "     font-size=\"3.88\"\n",
       ">\n",
       "<g class=\"plotroot xscalable yscalable\" id=\"img-1aa9ffeb-1\">\n",
       "  <g font-size=\"3.88\" font-family=\"'PT Sans','Helvetica Neue','Helvetica',sans-serif\" fill=\"#564A55\" stroke=\"#000000\" stroke-opacity=\"0.000\" id=\"img-1aa9ffeb-2\">\n",
       "    <text x=\"122.95\" y=\"148.39\" text-anchor=\"middle\" dy=\"0.6em\">x</text>\n",
       "  </g>\n",
       "  <g class=\"guide xlabels\" font-size=\"2.82\" font-family=\"'PT Sans Caption','Helvetica Neue','Helvetica',sans-serif\" fill=\"#6C606B\" id=\"img-1aa9ffeb-3\">\n",
       "    <text x=\"21.74\" y=\"141.72\" text-anchor=\"middle\" dy=\"0.6em\">-4</text>\n",
       "    <text x=\"72.35\" y=\"141.72\" text-anchor=\"middle\" dy=\"0.6em\">-2</text>\n",
       "    <text x=\"122.95\" y=\"141.72\" text-anchor=\"middle\" dy=\"0.6em\">0</text>\n",
       "    <text x=\"173.56\" y=\"141.72\" text-anchor=\"middle\" dy=\"0.6em\">2</text>\n",
       "    <text x=\"224.16\" y=\"141.72\" text-anchor=\"middle\" dy=\"0.6em\">4</text>\n",
       "  </g>\n",
       "  <g class=\"guide colorkey\" id=\"img-1aa9ffeb-4\">\n",
       "    <g fill=\"#4C404B\" font-size=\"2.82\" font-family=\"'PT Sans','Helvetica Neue','Helvetica',sans-serif\" id=\"img-1aa9ffeb-5\">\n",
       "      <text x=\"230.63\" y=\"72.86\" dy=\"0.35em\" id=\"img-1aa9ffeb-6\" class=\"color_f1\">f<tspan style=\"dominant-baseline:inherit\" dy=\"0.6em\" font-size=\"83%\">1</tspan><tspan dy=\"-0.498000em\"></tspan></text>\n",
       "      <text x=\"230.63\" y=\"77.8\" dy=\"0.35em\" id=\"img-1aa9ffeb-7\" class=\"color_f2\">f<tspan style=\"dominant-baseline:inherit\" dy=\"0.6em\" font-size=\"83%\">2</tspan><tspan dy=\"-0.498000em\"></tspan></text>\n",
       "    </g>\n",
       "    <g stroke=\"#000000\" stroke-opacity=\"0.000\" id=\"img-1aa9ffeb-8\">\n",
       "      <rect x=\"227.16\" y=\"71.62\" width=\"2.47\" height=\"2.47\" id=\"img-1aa9ffeb-9\" class=\"color_f1\" fill=\"#00BFFF\"/>\n",
       "      <rect x=\"227.16\" y=\"76.56\" width=\"2.47\" height=\"2.47\" id=\"img-1aa9ffeb-10\" class=\"color_f2\" fill=\"#D4CA3A\"/>\n",
       "    </g>\n",
       "    <g fill=\"#362A35\" font-size=\"3.88\" font-family=\"'PT Sans','Helvetica Neue','Helvetica',sans-serif\" stroke=\"#000000\" stroke-opacity=\"0.000\" id=\"img-1aa9ffeb-11\">\n",
       "      <text x=\"227.16\" y=\"67.72\" id=\"img-1aa9ffeb-12\">Color</text>\n",
       "    </g>\n",
       "  </g>\n",
       "<g clip-path=\"url(#img-1aa9ffeb-13)\">\n",
       "  <g id=\"img-1aa9ffeb-14\">\n",
       "    <g pointer-events=\"visible\" opacity=\"1\" fill=\"#000000\" fill-opacity=\"0.000\" stroke=\"#000000\" stroke-opacity=\"0.000\" class=\"guide background\" id=\"img-1aa9ffeb-15\">\n",
       "      <rect x=\"19.75\" y=\"5\" width=\"206.42\" height=\"135.72\" id=\"img-1aa9ffeb-16\"/>\n",
       "    </g>\n",
       "    <g class=\"guide ygridlines xfixed\" stroke-dasharray=\"0.5,0.5\" stroke-width=\"0.2\" stroke=\"#D0D0E0\" id=\"img-1aa9ffeb-17\">\n",
       "      <path fill=\"none\" d=\"M19.75,138.72 L 226.16 138.72\" id=\"img-1aa9ffeb-18\"/>\n",
       "      <path fill=\"none\" d=\"M19.75,105.79 L 226.16 105.79\" id=\"img-1aa9ffeb-19\"/>\n",
       "      <path fill=\"none\" d=\"M19.75,72.86 L 226.16 72.86\" id=\"img-1aa9ffeb-20\"/>\n",
       "      <path fill=\"none\" d=\"M19.75,39.93 L 226.16 39.93\" id=\"img-1aa9ffeb-21\"/>\n",
       "      <path fill=\"none\" d=\"M19.75,7 L 226.16 7\" id=\"img-1aa9ffeb-22\"/>\n",
       "    </g>\n",
       "    <g class=\"guide xgridlines yfixed\" stroke-dasharray=\"0.5,0.5\" stroke-width=\"0.2\" stroke=\"#D0D0E0\" id=\"img-1aa9ffeb-23\">\n",
       "      <path fill=\"none\" d=\"M21.74,5 L 21.74 140.72\" id=\"img-1aa9ffeb-24\"/>\n",
       "      <path fill=\"none\" d=\"M72.35,5 L 72.35 140.72\" id=\"img-1aa9ffeb-25\"/>\n",
       "      <path fill=\"none\" d=\"M122.95,5 L 122.95 140.72\" id=\"img-1aa9ffeb-26\"/>\n",
       "      <path fill=\"none\" d=\"M173.56,5 L 173.56 140.72\" id=\"img-1aa9ffeb-27\"/>\n",
       "      <path fill=\"none\" d=\"M224.16,5 L 224.16 140.72\" id=\"img-1aa9ffeb-28\"/>\n",
       "    </g>\n",
       "    <g class=\"plotpanel\" id=\"img-1aa9ffeb-29\">\n",
       "      <g stroke-width=\"0.3\" fill=\"#000000\" fill-opacity=\"0.000\" stroke-dasharray=\"none\" id=\"img-1aa9ffeb-30\">\n",
       "        <path fill=\"none\" d=\"M43.46,72.86 L 44.1 74.52 44.74 76.18 45.38 77.84 46.02 79.49 46.66 81.14 47.3 82.79 47.93 84.43 48.57 86.06 49.21 87.69 49.85 89.3 50.49 90.9 51.13 92.5 51.76 94.08 52.4 95.64 53.04 97.19 53.68 98.73 54.32 100.25 54.96 101.75 55.6 103.24 56.23 104.7 56.87 106.15 57.51 107.57 58.15 108.97 58.79 110.35 59.43 111.7 60.06 113.03 60.7 114.34 61.34 115.61 61.98 116.86 62.62 118.09 63.26 119.28 63.9 120.44 64.53 121.58 65.17 122.68 65.81 123.75 66.45 124.79 67.09 125.79 67.73 126.77 68.36 127.7 69 128.6 69.64 129.47 70.28 130.3 70.92 131.1 71.56 131.85 72.2 132.57 72.83 133.26 73.47 133.9 74.11 134.5 74.75 135.07 75.39 135.59 76.03 136.08 76.67 136.52 77.3 136.93 77.94 137.29 78.58 137.62 79.22 137.9 79.86 138.14 80.5 138.34 81.13 138.49 81.77 138.61 82.41 138.68 83.05 138.71 83.69 138.7 84.33 138.65 84.97 138.56 85.6 138.42 86.24 138.24 86.88 138.02 87.52 137.76 88.16 137.46 88.8 137.12 89.43 136.73 90.07 136.31 90.71 135.84 91.35 135.34 91.99 134.79 92.63 134.21 93.27 133.58 93.9 132.92 94.54 132.22 95.18 131.48 95.82 130.7 96.46 129.89 97.1 129.04 97.73 128.16 98.37 127.24 99.01 126.28 99.65 125.29 100.29 124.27 100.93 123.22 101.57 122.13 102.2 121.01 102.84 119.86 103.48 118.69 104.12 117.48 104.76 116.24 105.4 114.98 106.03 113.69 106.67 112.37 107.31 111.03 107.95 109.66 108.59 108.27 109.23 106.86 109.87 105.43 110.5 103.97 111.14 102.5 111.78 101 112.42 99.49 113.06 97.96 113.7 96.42 114.33 94.86 114.97 93.29 115.61 91.7 116.25 90.1 116.89 88.49 117.53 86.87 118.17 85.25 118.8 83.61 119.44 81.97 120.08 80.32 120.72 78.67 121.36 77.01 122 75.35 122.63 73.69 123.27 72.03 123.91 70.37 124.55 68.71 125.19 67.05 125.83 65.4 126.47 63.75 127.1 62.1 127.74 60.47 128.38 58.84 129.02 57.22 129.66 55.61 130.3 54.01 130.94 52.43 131.57 50.85 132.21 49.3 132.85 47.75 133.49 46.22 134.13 44.71 134.77 43.22 135.4 41.74 136.04 40.29 136.68 38.86 137.32 37.44 137.96 36.05 138.6 34.69 139.24 33.35 139.87 32.03 140.51 30.74 141.15 29.47 141.79 28.24 142.43 27.03 143.07 25.85 143.7 24.7 144.34 23.58 144.98 22.5 145.62 21.44 146.26 20.42 146.9 19.43 147.54 18.48 148.17 17.56 148.81 16.67 149.45 15.82 150.09 15.01 150.73 14.23 151.37 13.5 152 12.8 152.64 12.13 153.28 11.51 153.92 10.92 154.56 10.38 155.2 9.87 155.84 9.41 156.47 8.98 157.11 8.6 157.75 8.26 158.39 7.95 159.03 7.69 159.67 7.47 160.3 7.29 160.94 7.16 161.58 7.06 162.22 7.01 162.86 7 163.5 7.03 164.14 7.11 164.77 7.22 165.41 7.38 166.05 7.58 166.69 7.82 167.33 8.1 167.97 8.42 168.6 8.79 169.24 9.19 169.88 9.64 170.52 10.12 171.16 10.65 171.8 11.21 172.44 11.82 173.07 12.46 173.71 13.14 174.35 13.86 174.99 14.62 175.63 15.41 176.27 16.24 176.9 17.11 177.54 18.01 178.18 18.95 178.82 19.92 179.46 20.93 180.1 21.97 180.74 23.04 181.37 24.14 182.01 25.27 182.65 26.44 183.29 27.63 183.93 28.85 184.57 30.1 185.2 31.38 185.84 32.68 186.48 34.01 187.12 35.37 187.76 36.75 188.4 38.15 189.04 39.57 189.67 41.01 190.31 42.48 190.95 43.96 191.59 45.46 192.23 46.98 192.87 48.52 193.51 50.07 194.14 51.64 194.78 53.22 195.42 54.81 196.06 56.42 196.7 58.03 197.34 59.65 197.97 61.29 198.61 62.92 199.25 64.57 199.89 66.22 200.53 67.88 201.17 69.54 201.81 71.2 202.44 72.86\" id=\"img-1aa9ffeb-31\" stroke=\"#00BFFF\" class=\"geometry color_f1\"/>\n",
       "        <path fill=\"none\" d=\"M43.46,138.72 L 44.1 138.69 44.74 138.63 45.38 138.53 46.02 138.38 46.66 138.19 47.3 137.96 47.93 137.69 48.57 137.38 49.21 137.02 49.85 136.63 50.49 136.19 51.13 135.72 51.76 135.2 52.4 134.65 53.04 134.05 53.68 133.42 54.32 132.75 54.96 132.04 55.6 131.29 56.23 130.5 56.87 129.68 57.51 128.82 58.15 127.93 58.79 127 59.43 126.04 60.06 125.04 60.7 124.01 61.34 122.95 61.98 121.85 62.62 120.73 63.26 119.57 63.9 118.39 64.53 117.17 65.17 115.93 65.81 114.66 66.45 113.36 67.09 112.04 67.73 110.69 68.36 109.32 69 107.92 69.64 106.5 70.28 105.06 70.92 103.6 71.56 102.13 72.2 100.63 72.83 99.11 73.47 97.58 74.11 96.03 74.75 94.47 75.39 92.89 76.03 91.3 76.67 89.7 77.3 88.09 77.94 86.47 78.58 84.84 79.22 83.2 79.86 81.56 80.5 79.91 81.13 78.25 81.77 76.59 82.41 74.93 83.05 73.27 83.69 71.61 84.33 69.95 84.97 68.29 85.6 66.63 86.24 64.98 86.88 63.34 87.52 61.69 88.16 60.06 88.8 58.43 89.43 56.82 90.07 55.21 90.71 53.62 91.35 52.03 91.99 50.46 92.63 48.91 93.27 47.37 93.9 45.84 94.54 44.34 95.18 42.85 95.82 41.38 96.46 39.93 97.1 38.5 97.73 37.09 98.37 35.71 99.01 34.35 99.65 33.01 100.29 31.7 100.93 30.42 101.57 29.16 102.2 27.93 102.84 26.73 103.48 25.56 104.12 24.42 104.76 23.31 105.4 22.23 106.03 21.18 106.67 20.17 107.31 19.19 107.95 18.24 108.59 17.33 109.23 16.46 109.87 15.62 110.5 14.81 111.14 14.05 111.78 13.32 112.42 12.63 113.06 11.97 113.7 11.36 114.33 10.78 114.97 10.25 115.61 9.75 116.25 9.3 116.89 8.88 117.53 8.51 118.17 8.18 118.8 7.88 119.44 7.63 120.08 7.42 120.72 7.26 121.36 7.13 122 7.05 122.63 7.01 123.27 7.01 123.91 7.05 124.55 7.13 125.19 7.26 125.83 7.42 126.47 7.63 127.1 7.88 127.74 8.18 128.38 8.51 129.02 8.88 129.66 9.3 130.3 9.75 130.94 10.25 131.57 10.78 132.21 11.36 132.85 11.97 133.49 12.63 134.13 13.32 134.77 14.05 135.4 14.81 136.04 15.62 136.68 16.46 137.32 17.33 137.96 18.24 138.6 19.19 139.24 20.17 139.87 21.18 140.51 22.23 141.15 23.31 141.79 24.42 142.43 25.56 143.07 26.73 143.7 27.93 144.34 29.16 144.98 30.42 145.62 31.7 146.26 33.01 146.9 34.35 147.54 35.71 148.17 37.09 148.81 38.5 149.45 39.93 150.09 41.38 150.73 42.85 151.37 44.34 152 45.84 152.64 47.37 153.28 48.91 153.92 50.46 154.56 52.03 155.2 53.62 155.84 55.21 156.47 56.82 157.11 58.43 157.75 60.06 158.39 61.69 159.03 63.34 159.67 64.98 160.3 66.63 160.94 68.29 161.58 69.95 162.22 71.61 162.86 73.27 163.5 74.93 164.14 76.59 164.77 78.25 165.41 79.91 166.05 81.56 166.69 83.2 167.33 84.84 167.97 86.47 168.6 88.09 169.24 89.7 169.88 91.3 170.52 92.89 171.16 94.47 171.8 96.03 172.44 97.58 173.07 99.11 173.71 100.63 174.35 102.13 174.99 103.6 175.63 105.06 176.27 106.5 176.9 107.92 177.54 109.32 178.18 110.69 178.82 112.04 179.46 113.36 180.1 114.66 180.74 115.93 181.37 117.17 182.01 118.39 182.65 119.57 183.29 120.73 183.93 121.85 184.57 122.95 185.2 124.01 185.84 125.04 186.48 126.04 187.12 127 187.76 127.93 188.4 128.82 189.04 129.68 189.67 130.5 190.31 131.29 190.95 132.04 191.59 132.75 192.23 133.42 192.87 134.05 193.51 134.65 194.14 135.2 194.78 135.72 195.42 136.19 196.06 136.63 196.7 137.02 197.34 137.38 197.97 137.69 198.61 137.96 199.25 138.19 199.89 138.38 200.53 138.53 201.17 138.63 201.81 138.69 202.44 138.72\" id=\"img-1aa9ffeb-32\" stroke=\"#D4CA3A\" class=\"geometry color_f2\"/>\n",
       "      </g>\n",
       "    </g>\n",
       "  </g>\n",
       "</g>\n",
       "  <g class=\"guide ylabels\" font-size=\"2.82\" font-family=\"'PT Sans Caption','Helvetica Neue','Helvetica',sans-serif\" fill=\"#6C606B\" id=\"img-1aa9ffeb-33\">\n",
       "    <text x=\"18.74\" y=\"138.72\" text-anchor=\"end\" dy=\"0.35em\" id=\"img-1aa9ffeb-34\">-1.0</text>\n",
       "    <text x=\"18.74\" y=\"105.79\" text-anchor=\"end\" dy=\"0.35em\" id=\"img-1aa9ffeb-35\">-0.5</text>\n",
       "    <text x=\"18.74\" y=\"72.86\" text-anchor=\"end\" dy=\"0.35em\" id=\"img-1aa9ffeb-36\">0.0</text>\n",
       "    <text x=\"18.74\" y=\"39.93\" text-anchor=\"end\" dy=\"0.35em\" id=\"img-1aa9ffeb-37\">0.5</text>\n",
       "    <text x=\"18.74\" y=\"7\" text-anchor=\"end\" dy=\"0.35em\" id=\"img-1aa9ffeb-38\">1.0</text>\n",
       "  </g>\n",
       "  <g font-size=\"3.88\" font-family=\"'PT Sans','Helvetica Neue','Helvetica',sans-serif\" fill=\"#564A55\" stroke=\"#000000\" stroke-opacity=\"0.000\" id=\"img-1aa9ffeb-39\">\n",
       "    <text x=\"8.81\" y=\"70.86\" text-anchor=\"middle\" dy=\"0.35em\" transform=\"rotate(-90, 8.81, 72.86)\" id=\"img-1aa9ffeb-40\">f(x)</text>\n",
       "  </g>\n",
       "</g>\n",
       "<defs>\n",
       "  <clipPath id=\"img-1aa9ffeb-13\">\n",
       "  <path d=\"M19.75,5 L 226.16 5 226.16 140.72 19.75 140.72\" />\n",
       "</clipPath>\n",
       "</defs>\n",
       "</svg>\n"
      ],
      "text/html": [
       "<?xml version=\"1.0\" encoding=\"UTF-8\"?>\n",
       "<svg xmlns=\"http://www.w3.org/2000/svg\"\n",
       "     xmlns:xlink=\"http://www.w3.org/1999/xlink\"\n",
       "     xmlns:gadfly=\"http://www.gadflyjl.org/ns\"\n",
       "     version=\"1.2\"\n",
       "     width=\"240mm\" height=\"160mm\" viewBox=\"0 0 240 160\"\n",
       "     stroke=\"none\"\n",
       "     fill=\"#000000\"\n",
       "     stroke-width=\"0.3\"\n",
       "     font-size=\"3.88\"\n",
       "\n",
       "     id=\"img-c54ac09e\">\n",
       "<g class=\"plotroot xscalable yscalable\" id=\"img-c54ac09e-1\">\n",
       "  <g font-size=\"3.88\" font-family=\"'PT Sans','Helvetica Neue','Helvetica',sans-serif\" fill=\"#564A55\" stroke=\"#000000\" stroke-opacity=\"0.000\" id=\"img-c54ac09e-2\">\n",
       "    <text x=\"122.95\" y=\"148.39\" text-anchor=\"middle\" dy=\"0.6em\">x</text>\n",
       "  </g>\n",
       "  <g class=\"guide xlabels\" font-size=\"2.82\" font-family=\"'PT Sans Caption','Helvetica Neue','Helvetica',sans-serif\" fill=\"#6C606B\" id=\"img-c54ac09e-3\">\n",
       "    <text x=\"-231.28\" y=\"144.39\" text-anchor=\"middle\" visibility=\"hidden\" gadfly:scale=\"1.0\">-14</text>\n",
       "    <text x=\"-180.67\" y=\"144.39\" text-anchor=\"middle\" visibility=\"hidden\" gadfly:scale=\"1.0\">-12</text>\n",
       "    <text x=\"-130.07\" y=\"144.39\" text-anchor=\"middle\" visibility=\"hidden\" gadfly:scale=\"1.0\">-10</text>\n",
       "    <text x=\"-79.46\" y=\"144.39\" text-anchor=\"middle\" visibility=\"hidden\" gadfly:scale=\"1.0\">-8</text>\n",
       "    <text x=\"-28.86\" y=\"144.39\" text-anchor=\"middle\" visibility=\"hidden\" gadfly:scale=\"1.0\">-6</text>\n",
       "    <text x=\"21.74\" y=\"144.39\" text-anchor=\"middle\" visibility=\"visible\" gadfly:scale=\"1.0\">-4</text>\n",
       "    <text x=\"72.35\" y=\"144.39\" text-anchor=\"middle\" visibility=\"visible\" gadfly:scale=\"1.0\">-2</text>\n",
       "    <text x=\"122.95\" y=\"144.39\" text-anchor=\"middle\" visibility=\"visible\" gadfly:scale=\"1.0\">0</text>\n",
       "    <text x=\"173.56\" y=\"144.39\" text-anchor=\"middle\" visibility=\"visible\" gadfly:scale=\"1.0\">2</text>\n",
       "    <text x=\"224.16\" y=\"144.39\" text-anchor=\"middle\" visibility=\"visible\" gadfly:scale=\"1.0\">4</text>\n",
       "    <text x=\"274.77\" y=\"144.39\" text-anchor=\"middle\" visibility=\"hidden\" gadfly:scale=\"1.0\">6</text>\n",
       "    <text x=\"325.37\" y=\"144.39\" text-anchor=\"middle\" visibility=\"hidden\" gadfly:scale=\"1.0\">8</text>\n",
       "    <text x=\"375.98\" y=\"144.39\" text-anchor=\"middle\" visibility=\"hidden\" gadfly:scale=\"1.0\">10</text>\n",
       "    <text x=\"426.58\" y=\"144.39\" text-anchor=\"middle\" visibility=\"hidden\" gadfly:scale=\"1.0\">12</text>\n",
       "    <text x=\"477.19\" y=\"144.39\" text-anchor=\"middle\" visibility=\"hidden\" gadfly:scale=\"1.0\">14</text>\n",
       "    <text x=\"-180.67\" y=\"144.39\" text-anchor=\"middle\" visibility=\"hidden\" gadfly:scale=\"10.0\">-12.0</text>\n",
       "    <text x=\"-168.02\" y=\"144.39\" text-anchor=\"middle\" visibility=\"hidden\" gadfly:scale=\"10.0\">-11.5</text>\n",
       "    <text x=\"-155.37\" y=\"144.39\" text-anchor=\"middle\" visibility=\"hidden\" gadfly:scale=\"10.0\">-11.0</text>\n",
       "    <text x=\"-142.72\" y=\"144.39\" text-anchor=\"middle\" visibility=\"hidden\" gadfly:scale=\"10.0\">-10.5</text>\n",
       "    <text x=\"-130.07\" y=\"144.39\" text-anchor=\"middle\" visibility=\"hidden\" gadfly:scale=\"10.0\">-10.0</text>\n",
       "    <text x=\"-117.42\" y=\"144.39\" text-anchor=\"middle\" visibility=\"hidden\" gadfly:scale=\"10.0\">-9.5</text>\n",
       "    <text x=\"-104.77\" y=\"144.39\" text-anchor=\"middle\" visibility=\"hidden\" gadfly:scale=\"10.0\">-9.0</text>\n",
       "    <text x=\"-92.12\" y=\"144.39\" text-anchor=\"middle\" visibility=\"hidden\" gadfly:scale=\"10.0\">-8.5</text>\n",
       "    <text x=\"-79.46\" y=\"144.39\" text-anchor=\"middle\" visibility=\"hidden\" gadfly:scale=\"10.0\">-8.0</text>\n",
       "    <text x=\"-66.81\" y=\"144.39\" text-anchor=\"middle\" visibility=\"hidden\" gadfly:scale=\"10.0\">-7.5</text>\n",
       "    <text x=\"-54.16\" y=\"144.39\" text-anchor=\"middle\" visibility=\"hidden\" gadfly:scale=\"10.0\">-7.0</text>\n",
       "    <text x=\"-41.51\" y=\"144.39\" text-anchor=\"middle\" visibility=\"hidden\" gadfly:scale=\"10.0\">-6.5</text>\n",
       "    <text x=\"-28.86\" y=\"144.39\" text-anchor=\"middle\" visibility=\"hidden\" gadfly:scale=\"10.0\">-6.0</text>\n",
       "    <text x=\"-16.21\" y=\"144.39\" text-anchor=\"middle\" visibility=\"hidden\" gadfly:scale=\"10.0\">-5.5</text>\n",
       "    <text x=\"-3.56\" y=\"144.39\" text-anchor=\"middle\" visibility=\"hidden\" gadfly:scale=\"10.0\">-5.0</text>\n",
       "    <text x=\"9.09\" y=\"144.39\" text-anchor=\"middle\" visibility=\"hidden\" gadfly:scale=\"10.0\">-4.5</text>\n",
       "    <text x=\"21.74\" y=\"144.39\" text-anchor=\"middle\" visibility=\"hidden\" gadfly:scale=\"10.0\">-4.0</text>\n",
       "    <text x=\"34.4\" y=\"144.39\" text-anchor=\"middle\" visibility=\"hidden\" gadfly:scale=\"10.0\">-3.5</text>\n",
       "    <text x=\"47.05\" y=\"144.39\" text-anchor=\"middle\" visibility=\"hidden\" gadfly:scale=\"10.0\">-3.0</text>\n",
       "    <text x=\"59.7\" y=\"144.39\" text-anchor=\"middle\" visibility=\"hidden\" gadfly:scale=\"10.0\">-2.5</text>\n",
       "    <text x=\"72.35\" y=\"144.39\" text-anchor=\"middle\" visibility=\"hidden\" gadfly:scale=\"10.0\">-2.0</text>\n",
       "    <text x=\"85\" y=\"144.39\" text-anchor=\"middle\" visibility=\"hidden\" gadfly:scale=\"10.0\">-1.5</text>\n",
       "    <text x=\"97.65\" y=\"144.39\" text-anchor=\"middle\" visibility=\"hidden\" gadfly:scale=\"10.0\">-1.0</text>\n",
       "    <text x=\"110.3\" y=\"144.39\" text-anchor=\"middle\" visibility=\"hidden\" gadfly:scale=\"10.0\">-0.5</text>\n",
       "    <text x=\"122.95\" y=\"144.39\" text-anchor=\"middle\" visibility=\"hidden\" gadfly:scale=\"10.0\">0.0</text>\n",
       "    <text x=\"135.61\" y=\"144.39\" text-anchor=\"middle\" visibility=\"hidden\" gadfly:scale=\"10.0\">0.5</text>\n",
       "    <text x=\"148.26\" y=\"144.39\" text-anchor=\"middle\" visibility=\"hidden\" gadfly:scale=\"10.0\">1.0</text>\n",
       "    <text x=\"160.91\" y=\"144.39\" text-anchor=\"middle\" visibility=\"hidden\" gadfly:scale=\"10.0\">1.5</text>\n",
       "    <text x=\"173.56\" y=\"144.39\" text-anchor=\"middle\" visibility=\"hidden\" gadfly:scale=\"10.0\">2.0</text>\n",
       "    <text x=\"186.21\" y=\"144.39\" text-anchor=\"middle\" visibility=\"hidden\" gadfly:scale=\"10.0\">2.5</text>\n",
       "    <text x=\"198.86\" y=\"144.39\" text-anchor=\"middle\" visibility=\"hidden\" gadfly:scale=\"10.0\">3.0</text>\n",
       "    <text x=\"211.51\" y=\"144.39\" text-anchor=\"middle\" visibility=\"hidden\" gadfly:scale=\"10.0\">3.5</text>\n",
       "    <text x=\"224.16\" y=\"144.39\" text-anchor=\"middle\" visibility=\"hidden\" gadfly:scale=\"10.0\">4.0</text>\n",
       "    <text x=\"236.81\" y=\"144.39\" text-anchor=\"middle\" visibility=\"hidden\" gadfly:scale=\"10.0\">4.5</text>\n",
       "    <text x=\"249.47\" y=\"144.39\" text-anchor=\"middle\" visibility=\"hidden\" gadfly:scale=\"10.0\">5.0</text>\n",
       "    <text x=\"262.12\" y=\"144.39\" text-anchor=\"middle\" visibility=\"hidden\" gadfly:scale=\"10.0\">5.5</text>\n",
       "    <text x=\"274.77\" y=\"144.39\" text-anchor=\"middle\" visibility=\"hidden\" gadfly:scale=\"10.0\">6.0</text>\n",
       "    <text x=\"287.42\" y=\"144.39\" text-anchor=\"middle\" visibility=\"hidden\" gadfly:scale=\"10.0\">6.5</text>\n",
       "    <text x=\"300.07\" y=\"144.39\" text-anchor=\"middle\" visibility=\"hidden\" gadfly:scale=\"10.0\">7.0</text>\n",
       "    <text x=\"312.72\" y=\"144.39\" text-anchor=\"middle\" visibility=\"hidden\" gadfly:scale=\"10.0\">7.5</text>\n",
       "    <text x=\"325.37\" y=\"144.39\" text-anchor=\"middle\" visibility=\"hidden\" gadfly:scale=\"10.0\">8.0</text>\n",
       "    <text x=\"338.02\" y=\"144.39\" text-anchor=\"middle\" visibility=\"hidden\" gadfly:scale=\"10.0\">8.5</text>\n",
       "    <text x=\"350.67\" y=\"144.39\" text-anchor=\"middle\" visibility=\"hidden\" gadfly:scale=\"10.0\">9.0</text>\n",
       "    <text x=\"363.33\" y=\"144.39\" text-anchor=\"middle\" visibility=\"hidden\" gadfly:scale=\"10.0\">9.5</text>\n",
       "    <text x=\"375.98\" y=\"144.39\" text-anchor=\"middle\" visibility=\"hidden\" gadfly:scale=\"10.0\">10.0</text>\n",
       "    <text x=\"388.63\" y=\"144.39\" text-anchor=\"middle\" visibility=\"hidden\" gadfly:scale=\"10.0\">10.5</text>\n",
       "    <text x=\"401.28\" y=\"144.39\" text-anchor=\"middle\" visibility=\"hidden\" gadfly:scale=\"10.0\">11.0</text>\n",
       "    <text x=\"413.93\" y=\"144.39\" text-anchor=\"middle\" visibility=\"hidden\" gadfly:scale=\"10.0\">11.5</text>\n",
       "    <text x=\"426.58\" y=\"144.39\" text-anchor=\"middle\" visibility=\"hidden\" gadfly:scale=\"10.0\">12.0</text>\n",
       "    <text x=\"-383.09\" y=\"144.39\" text-anchor=\"middle\" visibility=\"hidden\" gadfly:scale=\"0.5\">-20</text>\n",
       "    <text x=\"-130.07\" y=\"144.39\" text-anchor=\"middle\" visibility=\"hidden\" gadfly:scale=\"0.5\">-10</text>\n",
       "    <text x=\"122.95\" y=\"144.39\" text-anchor=\"middle\" visibility=\"hidden\" gadfly:scale=\"0.5\">0</text>\n",
       "    <text x=\"375.98\" y=\"144.39\" text-anchor=\"middle\" visibility=\"hidden\" gadfly:scale=\"0.5\">10</text>\n",
       "    <text x=\"629\" y=\"144.39\" text-anchor=\"middle\" visibility=\"hidden\" gadfly:scale=\"0.5\">20</text>\n",
       "    <text x=\"-180.67\" y=\"144.39\" text-anchor=\"middle\" visibility=\"hidden\" gadfly:scale=\"5.0\">-12.0</text>\n",
       "    <text x=\"-168.02\" y=\"144.39\" text-anchor=\"middle\" visibility=\"hidden\" gadfly:scale=\"5.0\">-11.5</text>\n",
       "    <text x=\"-155.37\" y=\"144.39\" text-anchor=\"middle\" visibility=\"hidden\" gadfly:scale=\"5.0\">-11.0</text>\n",
       "    <text x=\"-142.72\" y=\"144.39\" text-anchor=\"middle\" visibility=\"hidden\" gadfly:scale=\"5.0\">-10.5</text>\n",
       "    <text x=\"-130.07\" y=\"144.39\" text-anchor=\"middle\" visibility=\"hidden\" gadfly:scale=\"5.0\">-10.0</text>\n",
       "    <text x=\"-117.42\" y=\"144.39\" text-anchor=\"middle\" visibility=\"hidden\" gadfly:scale=\"5.0\">-9.5</text>\n",
       "    <text x=\"-104.77\" y=\"144.39\" text-anchor=\"middle\" visibility=\"hidden\" gadfly:scale=\"5.0\">-9.0</text>\n",
       "    <text x=\"-92.12\" y=\"144.39\" text-anchor=\"middle\" visibility=\"hidden\" gadfly:scale=\"5.0\">-8.5</text>\n",
       "    <text x=\"-79.46\" y=\"144.39\" text-anchor=\"middle\" visibility=\"hidden\" gadfly:scale=\"5.0\">-8.0</text>\n",
       "    <text x=\"-66.81\" y=\"144.39\" text-anchor=\"middle\" visibility=\"hidden\" gadfly:scale=\"5.0\">-7.5</text>\n",
       "    <text x=\"-54.16\" y=\"144.39\" text-anchor=\"middle\" visibility=\"hidden\" gadfly:scale=\"5.0\">-7.0</text>\n",
       "    <text x=\"-41.51\" y=\"144.39\" text-anchor=\"middle\" visibility=\"hidden\" gadfly:scale=\"5.0\">-6.5</text>\n",
       "    <text x=\"-28.86\" y=\"144.39\" text-anchor=\"middle\" visibility=\"hidden\" gadfly:scale=\"5.0\">-6.0</text>\n",
       "    <text x=\"-16.21\" y=\"144.39\" text-anchor=\"middle\" visibility=\"hidden\" gadfly:scale=\"5.0\">-5.5</text>\n",
       "    <text x=\"-3.56\" y=\"144.39\" text-anchor=\"middle\" visibility=\"hidden\" gadfly:scale=\"5.0\">-5.0</text>\n",
       "    <text x=\"9.09\" y=\"144.39\" text-anchor=\"middle\" visibility=\"hidden\" gadfly:scale=\"5.0\">-4.5</text>\n",
       "    <text x=\"21.74\" y=\"144.39\" text-anchor=\"middle\" visibility=\"hidden\" gadfly:scale=\"5.0\">-4.0</text>\n",
       "    <text x=\"34.4\" y=\"144.39\" text-anchor=\"middle\" visibility=\"hidden\" gadfly:scale=\"5.0\">-3.5</text>\n",
       "    <text x=\"47.05\" y=\"144.39\" text-anchor=\"middle\" visibility=\"hidden\" gadfly:scale=\"5.0\">-3.0</text>\n",
       "    <text x=\"59.7\" y=\"144.39\" text-anchor=\"middle\" visibility=\"hidden\" gadfly:scale=\"5.0\">-2.5</text>\n",
       "    <text x=\"72.35\" y=\"144.39\" text-anchor=\"middle\" visibility=\"hidden\" gadfly:scale=\"5.0\">-2.0</text>\n",
       "    <text x=\"85\" y=\"144.39\" text-anchor=\"middle\" visibility=\"hidden\" gadfly:scale=\"5.0\">-1.5</text>\n",
       "    <text x=\"97.65\" y=\"144.39\" text-anchor=\"middle\" visibility=\"hidden\" gadfly:scale=\"5.0\">-1.0</text>\n",
       "    <text x=\"110.3\" y=\"144.39\" text-anchor=\"middle\" visibility=\"hidden\" gadfly:scale=\"5.0\">-0.5</text>\n",
       "    <text x=\"122.95\" y=\"144.39\" text-anchor=\"middle\" visibility=\"hidden\" gadfly:scale=\"5.0\">0.0</text>\n",
       "    <text x=\"135.61\" y=\"144.39\" text-anchor=\"middle\" visibility=\"hidden\" gadfly:scale=\"5.0\">0.5</text>\n",
       "    <text x=\"148.26\" y=\"144.39\" text-anchor=\"middle\" visibility=\"hidden\" gadfly:scale=\"5.0\">1.0</text>\n",
       "    <text x=\"160.91\" y=\"144.39\" text-anchor=\"middle\" visibility=\"hidden\" gadfly:scale=\"5.0\">1.5</text>\n",
       "    <text x=\"173.56\" y=\"144.39\" text-anchor=\"middle\" visibility=\"hidden\" gadfly:scale=\"5.0\">2.0</text>\n",
       "    <text x=\"186.21\" y=\"144.39\" text-anchor=\"middle\" visibility=\"hidden\" gadfly:scale=\"5.0\">2.5</text>\n",
       "    <text x=\"198.86\" y=\"144.39\" text-anchor=\"middle\" visibility=\"hidden\" gadfly:scale=\"5.0\">3.0</text>\n",
       "    <text x=\"211.51\" y=\"144.39\" text-anchor=\"middle\" visibility=\"hidden\" gadfly:scale=\"5.0\">3.5</text>\n",
       "    <text x=\"224.16\" y=\"144.39\" text-anchor=\"middle\" visibility=\"hidden\" gadfly:scale=\"5.0\">4.0</text>\n",
       "    <text x=\"236.81\" y=\"144.39\" text-anchor=\"middle\" visibility=\"hidden\" gadfly:scale=\"5.0\">4.5</text>\n",
       "    <text x=\"249.47\" y=\"144.39\" text-anchor=\"middle\" visibility=\"hidden\" gadfly:scale=\"5.0\">5.0</text>\n",
       "    <text x=\"262.12\" y=\"144.39\" text-anchor=\"middle\" visibility=\"hidden\" gadfly:scale=\"5.0\">5.5</text>\n",
       "    <text x=\"274.77\" y=\"144.39\" text-anchor=\"middle\" visibility=\"hidden\" gadfly:scale=\"5.0\">6.0</text>\n",
       "    <text x=\"287.42\" y=\"144.39\" text-anchor=\"middle\" visibility=\"hidden\" gadfly:scale=\"5.0\">6.5</text>\n",
       "    <text x=\"300.07\" y=\"144.39\" text-anchor=\"middle\" visibility=\"hidden\" gadfly:scale=\"5.0\">7.0</text>\n",
       "    <text x=\"312.72\" y=\"144.39\" text-anchor=\"middle\" visibility=\"hidden\" gadfly:scale=\"5.0\">7.5</text>\n",
       "    <text x=\"325.37\" y=\"144.39\" text-anchor=\"middle\" visibility=\"hidden\" gadfly:scale=\"5.0\">8.0</text>\n",
       "    <text x=\"338.02\" y=\"144.39\" text-anchor=\"middle\" visibility=\"hidden\" gadfly:scale=\"5.0\">8.5</text>\n",
       "    <text x=\"350.67\" y=\"144.39\" text-anchor=\"middle\" visibility=\"hidden\" gadfly:scale=\"5.0\">9.0</text>\n",
       "    <text x=\"363.33\" y=\"144.39\" text-anchor=\"middle\" visibility=\"hidden\" gadfly:scale=\"5.0\">9.5</text>\n",
       "    <text x=\"375.98\" y=\"144.39\" text-anchor=\"middle\" visibility=\"hidden\" gadfly:scale=\"5.0\">10.0</text>\n",
       "    <text x=\"388.63\" y=\"144.39\" text-anchor=\"middle\" visibility=\"hidden\" gadfly:scale=\"5.0\">10.5</text>\n",
       "    <text x=\"401.28\" y=\"144.39\" text-anchor=\"middle\" visibility=\"hidden\" gadfly:scale=\"5.0\">11.0</text>\n",
       "    <text x=\"413.93\" y=\"144.39\" text-anchor=\"middle\" visibility=\"hidden\" gadfly:scale=\"5.0\">11.5</text>\n",
       "    <text x=\"426.58\" y=\"144.39\" text-anchor=\"middle\" visibility=\"hidden\" gadfly:scale=\"5.0\">12.0</text>\n",
       "  </g>\n",
       "  <g class=\"guide colorkey\" id=\"img-c54ac09e-4\">\n",
       "    <g fill=\"#4C404B\" font-size=\"2.82\" font-family=\"'PT Sans','Helvetica Neue','Helvetica',sans-serif\" id=\"img-c54ac09e-5\">\n",
       "      <text x=\"230.63\" y=\"72.86\" dy=\"0.35em\" id=\"img-c54ac09e-6\" class=\"color_f1\">f<tspan style=\"dominant-baseline:inherit\" dy=\"0.6em\" font-size=\"83%\">1</tspan><tspan dy=\"-0.498000em\"></tspan></text>\n",
       "      <text x=\"230.63\" y=\"77.8\" dy=\"0.35em\" id=\"img-c54ac09e-7\" class=\"color_f2\">f<tspan style=\"dominant-baseline:inherit\" dy=\"0.6em\" font-size=\"83%\">2</tspan><tspan dy=\"-0.498000em\"></tspan></text>\n",
       "    </g>\n",
       "    <g stroke=\"#000000\" stroke-opacity=\"0.000\" id=\"img-c54ac09e-8\">\n",
       "      <rect x=\"227.16\" y=\"71.62\" width=\"2.47\" height=\"2.47\" id=\"img-c54ac09e-9\" class=\"color_f1\" fill=\"#00BFFF\"/>\n",
       "      <rect x=\"227.16\" y=\"76.56\" width=\"2.47\" height=\"2.47\" id=\"img-c54ac09e-10\" class=\"color_f2\" fill=\"#D4CA3A\"/>\n",
       "    </g>\n",
       "    <g fill=\"#362A35\" font-size=\"3.88\" font-family=\"'PT Sans','Helvetica Neue','Helvetica',sans-serif\" stroke=\"#000000\" stroke-opacity=\"0.000\" id=\"img-c54ac09e-11\">\n",
       "      <text x=\"227.16\" y=\"67.72\" id=\"img-c54ac09e-12\">Color</text>\n",
       "    </g>\n",
       "  </g>\n",
       "<g clip-path=\"url(#img-c54ac09e-13)\">\n",
       "  <g id=\"img-c54ac09e-14\">\n",
       "    <g pointer-events=\"visible\" opacity=\"1\" fill=\"#000000\" fill-opacity=\"0.000\" stroke=\"#000000\" stroke-opacity=\"0.000\" class=\"guide background\" id=\"img-c54ac09e-15\">\n",
       "      <rect x=\"19.75\" y=\"5\" width=\"206.42\" height=\"135.72\" id=\"img-c54ac09e-16\"/>\n",
       "    </g>\n",
       "    <g class=\"guide ygridlines xfixed\" stroke-dasharray=\"0.5,0.5\" stroke-width=\"0.2\" stroke=\"#D0D0E0\" id=\"img-c54ac09e-17\">\n",
       "      <path fill=\"none\" d=\"M19.75,303.36 L 226.16 303.36\" id=\"img-c54ac09e-18\" visibility=\"hidden\" gadfly:scale=\"1.0\"/>\n",
       "      <path fill=\"none\" d=\"M19.75,270.43 L 226.16 270.43\" id=\"img-c54ac09e-19\" visibility=\"hidden\" gadfly:scale=\"1.0\"/>\n",
       "      <path fill=\"none\" d=\"M19.75,237.5 L 226.16 237.5\" id=\"img-c54ac09e-20\" visibility=\"hidden\" gadfly:scale=\"1.0\"/>\n",
       "      <path fill=\"none\" d=\"M19.75,204.57 L 226.16 204.57\" id=\"img-c54ac09e-21\" visibility=\"hidden\" gadfly:scale=\"1.0\"/>\n",
       "      <path fill=\"none\" d=\"M19.75,171.64 L 226.16 171.64\" id=\"img-c54ac09e-22\" visibility=\"hidden\" gadfly:scale=\"1.0\"/>\n",
       "      <path fill=\"none\" d=\"M19.75,138.72 L 226.16 138.72\" id=\"img-c54ac09e-23\" visibility=\"visible\" gadfly:scale=\"1.0\"/>\n",
       "      <path fill=\"none\" d=\"M19.75,105.79 L 226.16 105.79\" id=\"img-c54ac09e-24\" visibility=\"visible\" gadfly:scale=\"1.0\"/>\n",
       "      <path fill=\"none\" d=\"M19.75,72.86 L 226.16 72.86\" id=\"img-c54ac09e-25\" visibility=\"visible\" gadfly:scale=\"1.0\"/>\n",
       "      <path fill=\"none\" d=\"M19.75,39.93 L 226.16 39.93\" id=\"img-c54ac09e-26\" visibility=\"visible\" gadfly:scale=\"1.0\"/>\n",
       "      <path fill=\"none\" d=\"M19.75,7 L 226.16 7\" id=\"img-c54ac09e-27\" visibility=\"visible\" gadfly:scale=\"1.0\"/>\n",
       "      <path fill=\"none\" d=\"M19.75,-25.93 L 226.16 -25.93\" id=\"img-c54ac09e-28\" visibility=\"hidden\" gadfly:scale=\"1.0\"/>\n",
       "      <path fill=\"none\" d=\"M19.75,-58.86 L 226.16 -58.86\" id=\"img-c54ac09e-29\" visibility=\"hidden\" gadfly:scale=\"1.0\"/>\n",
       "      <path fill=\"none\" d=\"M19.75,-91.79 L 226.16 -91.79\" id=\"img-c54ac09e-30\" visibility=\"hidden\" gadfly:scale=\"1.0\"/>\n",
       "      <path fill=\"none\" d=\"M19.75,-124.72 L 226.16 -124.72\" id=\"img-c54ac09e-31\" visibility=\"hidden\" gadfly:scale=\"1.0\"/>\n",
       "      <path fill=\"none\" d=\"M19.75,-157.64 L 226.16 -157.64\" id=\"img-c54ac09e-32\" visibility=\"hidden\" gadfly:scale=\"1.0\"/>\n",
       "      <path fill=\"none\" d=\"M19.75,270.43 L 226.16 270.43\" id=\"img-c54ac09e-33\" visibility=\"hidden\" gadfly:scale=\"10.0\"/>\n",
       "      <path fill=\"none\" d=\"M19.75,263.84 L 226.16 263.84\" id=\"img-c54ac09e-34\" visibility=\"hidden\" gadfly:scale=\"10.0\"/>\n",
       "      <path fill=\"none\" d=\"M19.75,257.26 L 226.16 257.26\" id=\"img-c54ac09e-35\" visibility=\"hidden\" gadfly:scale=\"10.0\"/>\n",
       "      <path fill=\"none\" d=\"M19.75,250.67 L 226.16 250.67\" id=\"img-c54ac09e-36\" visibility=\"hidden\" gadfly:scale=\"10.0\"/>\n",
       "      <path fill=\"none\" d=\"M19.75,244.09 L 226.16 244.09\" id=\"img-c54ac09e-37\" visibility=\"hidden\" gadfly:scale=\"10.0\"/>\n",
       "      <path fill=\"none\" d=\"M19.75,237.5 L 226.16 237.5\" id=\"img-c54ac09e-38\" visibility=\"hidden\" gadfly:scale=\"10.0\"/>\n",
       "      <path fill=\"none\" d=\"M19.75,230.92 L 226.16 230.92\" id=\"img-c54ac09e-39\" visibility=\"hidden\" gadfly:scale=\"10.0\"/>\n",
       "      <path fill=\"none\" d=\"M19.75,224.33 L 226.16 224.33\" id=\"img-c54ac09e-40\" visibility=\"hidden\" gadfly:scale=\"10.0\"/>\n",
       "      <path fill=\"none\" d=\"M19.75,217.74 L 226.16 217.74\" id=\"img-c54ac09e-41\" visibility=\"hidden\" gadfly:scale=\"10.0\"/>\n",
       "      <path fill=\"none\" d=\"M19.75,211.16 L 226.16 211.16\" id=\"img-c54ac09e-42\" visibility=\"hidden\" gadfly:scale=\"10.0\"/>\n",
       "      <path fill=\"none\" d=\"M19.75,204.57 L 226.16 204.57\" id=\"img-c54ac09e-43\" visibility=\"hidden\" gadfly:scale=\"10.0\"/>\n",
       "      <path fill=\"none\" d=\"M19.75,197.99 L 226.16 197.99\" id=\"img-c54ac09e-44\" visibility=\"hidden\" gadfly:scale=\"10.0\"/>\n",
       "      <path fill=\"none\" d=\"M19.75,191.4 L 226.16 191.4\" id=\"img-c54ac09e-45\" visibility=\"hidden\" gadfly:scale=\"10.0\"/>\n",
       "      <path fill=\"none\" d=\"M19.75,184.82 L 226.16 184.82\" id=\"img-c54ac09e-46\" visibility=\"hidden\" gadfly:scale=\"10.0\"/>\n",
       "      <path fill=\"none\" d=\"M19.75,178.23 L 226.16 178.23\" id=\"img-c54ac09e-47\" visibility=\"hidden\" gadfly:scale=\"10.0\"/>\n",
       "      <path fill=\"none\" d=\"M19.75,171.64 L 226.16 171.64\" id=\"img-c54ac09e-48\" visibility=\"hidden\" gadfly:scale=\"10.0\"/>\n",
       "      <path fill=\"none\" d=\"M19.75,165.06 L 226.16 165.06\" id=\"img-c54ac09e-49\" visibility=\"hidden\" gadfly:scale=\"10.0\"/>\n",
       "      <path fill=\"none\" d=\"M19.75,158.47 L 226.16 158.47\" id=\"img-c54ac09e-50\" visibility=\"hidden\" gadfly:scale=\"10.0\"/>\n",
       "      <path fill=\"none\" d=\"M19.75,151.89 L 226.16 151.89\" id=\"img-c54ac09e-51\" visibility=\"hidden\" gadfly:scale=\"10.0\"/>\n",
       "      <path fill=\"none\" d=\"M19.75,145.3 L 226.16 145.3\" id=\"img-c54ac09e-52\" visibility=\"hidden\" gadfly:scale=\"10.0\"/>\n",
       "      <path fill=\"none\" d=\"M19.75,138.72 L 226.16 138.72\" id=\"img-c54ac09e-53\" visibility=\"hidden\" gadfly:scale=\"10.0\"/>\n",
       "      <path fill=\"none\" d=\"M19.75,132.13 L 226.16 132.13\" id=\"img-c54ac09e-54\" visibility=\"hidden\" gadfly:scale=\"10.0\"/>\n",
       "      <path fill=\"none\" d=\"M19.75,125.54 L 226.16 125.54\" id=\"img-c54ac09e-55\" visibility=\"hidden\" gadfly:scale=\"10.0\"/>\n",
       "      <path fill=\"none\" d=\"M19.75,118.96 L 226.16 118.96\" id=\"img-c54ac09e-56\" visibility=\"hidden\" gadfly:scale=\"10.0\"/>\n",
       "      <path fill=\"none\" d=\"M19.75,112.37 L 226.16 112.37\" id=\"img-c54ac09e-57\" visibility=\"hidden\" gadfly:scale=\"10.0\"/>\n",
       "      <path fill=\"none\" d=\"M19.75,105.79 L 226.16 105.79\" id=\"img-c54ac09e-58\" visibility=\"hidden\" gadfly:scale=\"10.0\"/>\n",
       "      <path fill=\"none\" d=\"M19.75,99.2 L 226.16 99.2\" id=\"img-c54ac09e-59\" visibility=\"hidden\" gadfly:scale=\"10.0\"/>\n",
       "      <path fill=\"none\" d=\"M19.75,92.61 L 226.16 92.61\" id=\"img-c54ac09e-60\" visibility=\"hidden\" gadfly:scale=\"10.0\"/>\n",
       "      <path fill=\"none\" d=\"M19.75,86.03 L 226.16 86.03\" id=\"img-c54ac09e-61\" visibility=\"hidden\" gadfly:scale=\"10.0\"/>\n",
       "      <path fill=\"none\" d=\"M19.75,79.44 L 226.16 79.44\" id=\"img-c54ac09e-62\" visibility=\"hidden\" gadfly:scale=\"10.0\"/>\n",
       "      <path fill=\"none\" d=\"M19.75,72.86 L 226.16 72.86\" id=\"img-c54ac09e-63\" visibility=\"hidden\" gadfly:scale=\"10.0\"/>\n",
       "      <path fill=\"none\" d=\"M19.75,66.27 L 226.16 66.27\" id=\"img-c54ac09e-64\" visibility=\"hidden\" gadfly:scale=\"10.0\"/>\n",
       "      <path fill=\"none\" d=\"M19.75,59.69 L 226.16 59.69\" id=\"img-c54ac09e-65\" visibility=\"hidden\" gadfly:scale=\"10.0\"/>\n",
       "      <path fill=\"none\" d=\"M19.75,53.1 L 226.16 53.1\" id=\"img-c54ac09e-66\" visibility=\"hidden\" gadfly:scale=\"10.0\"/>\n",
       "      <path fill=\"none\" d=\"M19.75,46.51 L 226.16 46.51\" id=\"img-c54ac09e-67\" visibility=\"hidden\" gadfly:scale=\"10.0\"/>\n",
       "      <path fill=\"none\" d=\"M19.75,39.93 L 226.16 39.93\" id=\"img-c54ac09e-68\" visibility=\"hidden\" gadfly:scale=\"10.0\"/>\n",
       "      <path fill=\"none\" d=\"M19.75,33.34 L 226.16 33.34\" id=\"img-c54ac09e-69\" visibility=\"hidden\" gadfly:scale=\"10.0\"/>\n",
       "      <path fill=\"none\" d=\"M19.75,26.76 L 226.16 26.76\" id=\"img-c54ac09e-70\" visibility=\"hidden\" gadfly:scale=\"10.0\"/>\n",
       "      <path fill=\"none\" d=\"M19.75,20.17 L 226.16 20.17\" id=\"img-c54ac09e-71\" visibility=\"hidden\" gadfly:scale=\"10.0\"/>\n",
       "      <path fill=\"none\" d=\"M19.75,13.59 L 226.16 13.59\" id=\"img-c54ac09e-72\" visibility=\"hidden\" gadfly:scale=\"10.0\"/>\n",
       "      <path fill=\"none\" d=\"M19.75,7 L 226.16 7\" id=\"img-c54ac09e-73\" visibility=\"hidden\" gadfly:scale=\"10.0\"/>\n",
       "      <path fill=\"none\" d=\"M19.75,0.41 L 226.16 0.41\" id=\"img-c54ac09e-74\" visibility=\"hidden\" gadfly:scale=\"10.0\"/>\n",
       "      <path fill=\"none\" d=\"M19.75,-6.17 L 226.16 -6.17\" id=\"img-c54ac09e-75\" visibility=\"hidden\" gadfly:scale=\"10.0\"/>\n",
       "      <path fill=\"none\" d=\"M19.75,-12.76 L 226.16 -12.76\" id=\"img-c54ac09e-76\" visibility=\"hidden\" gadfly:scale=\"10.0\"/>\n",
       "      <path fill=\"none\" d=\"M19.75,-19.34 L 226.16 -19.34\" id=\"img-c54ac09e-77\" visibility=\"hidden\" gadfly:scale=\"10.0\"/>\n",
       "      <path fill=\"none\" d=\"M19.75,-25.93 L 226.16 -25.93\" id=\"img-c54ac09e-78\" visibility=\"hidden\" gadfly:scale=\"10.0\"/>\n",
       "      <path fill=\"none\" d=\"M19.75,-32.51 L 226.16 -32.51\" id=\"img-c54ac09e-79\" visibility=\"hidden\" gadfly:scale=\"10.0\"/>\n",
       "      <path fill=\"none\" d=\"M19.75,-39.1 L 226.16 -39.1\" id=\"img-c54ac09e-80\" visibility=\"hidden\" gadfly:scale=\"10.0\"/>\n",
       "      <path fill=\"none\" d=\"M19.75,-45.69 L 226.16 -45.69\" id=\"img-c54ac09e-81\" visibility=\"hidden\" gadfly:scale=\"10.0\"/>\n",
       "      <path fill=\"none\" d=\"M19.75,-52.27 L 226.16 -52.27\" id=\"img-c54ac09e-82\" visibility=\"hidden\" gadfly:scale=\"10.0\"/>\n",
       "      <path fill=\"none\" d=\"M19.75,-58.86 L 226.16 -58.86\" id=\"img-c54ac09e-83\" visibility=\"hidden\" gadfly:scale=\"10.0\"/>\n",
       "      <path fill=\"none\" d=\"M19.75,-65.44 L 226.16 -65.44\" id=\"img-c54ac09e-84\" visibility=\"hidden\" gadfly:scale=\"10.0\"/>\n",
       "      <path fill=\"none\" d=\"M19.75,-72.03 L 226.16 -72.03\" id=\"img-c54ac09e-85\" visibility=\"hidden\" gadfly:scale=\"10.0\"/>\n",
       "      <path fill=\"none\" d=\"M19.75,-78.61 L 226.16 -78.61\" id=\"img-c54ac09e-86\" visibility=\"hidden\" gadfly:scale=\"10.0\"/>\n",
       "      <path fill=\"none\" d=\"M19.75,-85.2 L 226.16 -85.2\" id=\"img-c54ac09e-87\" visibility=\"hidden\" gadfly:scale=\"10.0\"/>\n",
       "      <path fill=\"none\" d=\"M19.75,-91.79 L 226.16 -91.79\" id=\"img-c54ac09e-88\" visibility=\"hidden\" gadfly:scale=\"10.0\"/>\n",
       "      <path fill=\"none\" d=\"M19.75,-98.37 L 226.16 -98.37\" id=\"img-c54ac09e-89\" visibility=\"hidden\" gadfly:scale=\"10.0\"/>\n",
       "      <path fill=\"none\" d=\"M19.75,-104.96 L 226.16 -104.96\" id=\"img-c54ac09e-90\" visibility=\"hidden\" gadfly:scale=\"10.0\"/>\n",
       "      <path fill=\"none\" d=\"M19.75,-111.54 L 226.16 -111.54\" id=\"img-c54ac09e-91\" visibility=\"hidden\" gadfly:scale=\"10.0\"/>\n",
       "      <path fill=\"none\" d=\"M19.75,-118.13 L 226.16 -118.13\" id=\"img-c54ac09e-92\" visibility=\"hidden\" gadfly:scale=\"10.0\"/>\n",
       "      <path fill=\"none\" d=\"M19.75,-124.72 L 226.16 -124.72\" id=\"img-c54ac09e-93\" visibility=\"hidden\" gadfly:scale=\"10.0\"/>\n",
       "      <path fill=\"none\" d=\"M19.75,336.29 L 226.16 336.29\" id=\"img-c54ac09e-94\" visibility=\"hidden\" gadfly:scale=\"0.5\"/>\n",
       "      <path fill=\"none\" d=\"M19.75,204.57 L 226.16 204.57\" id=\"img-c54ac09e-95\" visibility=\"hidden\" gadfly:scale=\"0.5\"/>\n",
       "      <path fill=\"none\" d=\"M19.75,72.86 L 226.16 72.86\" id=\"img-c54ac09e-96\" visibility=\"hidden\" gadfly:scale=\"0.5\"/>\n",
       "      <path fill=\"none\" d=\"M19.75,-58.86 L 226.16 -58.86\" id=\"img-c54ac09e-97\" visibility=\"hidden\" gadfly:scale=\"0.5\"/>\n",
       "      <path fill=\"none\" d=\"M19.75,-190.57 L 226.16 -190.57\" id=\"img-c54ac09e-98\" visibility=\"hidden\" gadfly:scale=\"0.5\"/>\n",
       "      <path fill=\"none\" d=\"M19.75,270.43 L 226.16 270.43\" id=\"img-c54ac09e-99\" visibility=\"hidden\" gadfly:scale=\"5.0\"/>\n",
       "      <path fill=\"none\" d=\"M19.75,257.26 L 226.16 257.26\" id=\"img-c54ac09e-100\" visibility=\"hidden\" gadfly:scale=\"5.0\"/>\n",
       "      <path fill=\"none\" d=\"M19.75,244.09 L 226.16 244.09\" id=\"img-c54ac09e-101\" visibility=\"hidden\" gadfly:scale=\"5.0\"/>\n",
       "      <path fill=\"none\" d=\"M19.75,230.92 L 226.16 230.92\" id=\"img-c54ac09e-102\" visibility=\"hidden\" gadfly:scale=\"5.0\"/>\n",
       "      <path fill=\"none\" d=\"M19.75,217.74 L 226.16 217.74\" id=\"img-c54ac09e-103\" visibility=\"hidden\" gadfly:scale=\"5.0\"/>\n",
       "      <path fill=\"none\" d=\"M19.75,204.57 L 226.16 204.57\" id=\"img-c54ac09e-104\" visibility=\"hidden\" gadfly:scale=\"5.0\"/>\n",
       "      <path fill=\"none\" d=\"M19.75,191.4 L 226.16 191.4\" id=\"img-c54ac09e-105\" visibility=\"hidden\" gadfly:scale=\"5.0\"/>\n",
       "      <path fill=\"none\" d=\"M19.75,178.23 L 226.16 178.23\" id=\"img-c54ac09e-106\" visibility=\"hidden\" gadfly:scale=\"5.0\"/>\n",
       "      <path fill=\"none\" d=\"M19.75,165.06 L 226.16 165.06\" id=\"img-c54ac09e-107\" visibility=\"hidden\" gadfly:scale=\"5.0\"/>\n",
       "      <path fill=\"none\" d=\"M19.75,151.89 L 226.16 151.89\" id=\"img-c54ac09e-108\" visibility=\"hidden\" gadfly:scale=\"5.0\"/>\n",
       "      <path fill=\"none\" d=\"M19.75,138.72 L 226.16 138.72\" id=\"img-c54ac09e-109\" visibility=\"hidden\" gadfly:scale=\"5.0\"/>\n",
       "      <path fill=\"none\" d=\"M19.75,125.54 L 226.16 125.54\" id=\"img-c54ac09e-110\" visibility=\"hidden\" gadfly:scale=\"5.0\"/>\n",
       "      <path fill=\"none\" d=\"M19.75,112.37 L 226.16 112.37\" id=\"img-c54ac09e-111\" visibility=\"hidden\" gadfly:scale=\"5.0\"/>\n",
       "      <path fill=\"none\" d=\"M19.75,99.2 L 226.16 99.2\" id=\"img-c54ac09e-112\" visibility=\"hidden\" gadfly:scale=\"5.0\"/>\n",
       "      <path fill=\"none\" d=\"M19.75,86.03 L 226.16 86.03\" id=\"img-c54ac09e-113\" visibility=\"hidden\" gadfly:scale=\"5.0\"/>\n",
       "      <path fill=\"none\" d=\"M19.75,72.86 L 226.16 72.86\" id=\"img-c54ac09e-114\" visibility=\"hidden\" gadfly:scale=\"5.0\"/>\n",
       "      <path fill=\"none\" d=\"M19.75,59.69 L 226.16 59.69\" id=\"img-c54ac09e-115\" visibility=\"hidden\" gadfly:scale=\"5.0\"/>\n",
       "      <path fill=\"none\" d=\"M19.75,46.51 L 226.16 46.51\" id=\"img-c54ac09e-116\" visibility=\"hidden\" gadfly:scale=\"5.0\"/>\n",
       "      <path fill=\"none\" d=\"M19.75,33.34 L 226.16 33.34\" id=\"img-c54ac09e-117\" visibility=\"hidden\" gadfly:scale=\"5.0\"/>\n",
       "      <path fill=\"none\" d=\"M19.75,20.17 L 226.16 20.17\" id=\"img-c54ac09e-118\" visibility=\"hidden\" gadfly:scale=\"5.0\"/>\n",
       "      <path fill=\"none\" d=\"M19.75,7 L 226.16 7\" id=\"img-c54ac09e-119\" visibility=\"hidden\" gadfly:scale=\"5.0\"/>\n",
       "      <path fill=\"none\" d=\"M19.75,-6.17 L 226.16 -6.17\" id=\"img-c54ac09e-120\" visibility=\"hidden\" gadfly:scale=\"5.0\"/>\n",
       "      <path fill=\"none\" d=\"M19.75,-19.34 L 226.16 -19.34\" id=\"img-c54ac09e-121\" visibility=\"hidden\" gadfly:scale=\"5.0\"/>\n",
       "      <path fill=\"none\" d=\"M19.75,-32.51 L 226.16 -32.51\" id=\"img-c54ac09e-122\" visibility=\"hidden\" gadfly:scale=\"5.0\"/>\n",
       "      <path fill=\"none\" d=\"M19.75,-45.69 L 226.16 -45.69\" id=\"img-c54ac09e-123\" visibility=\"hidden\" gadfly:scale=\"5.0\"/>\n",
       "      <path fill=\"none\" d=\"M19.75,-58.86 L 226.16 -58.86\" id=\"img-c54ac09e-124\" visibility=\"hidden\" gadfly:scale=\"5.0\"/>\n",
       "      <path fill=\"none\" d=\"M19.75,-72.03 L 226.16 -72.03\" id=\"img-c54ac09e-125\" visibility=\"hidden\" gadfly:scale=\"5.0\"/>\n",
       "      <path fill=\"none\" d=\"M19.75,-85.2 L 226.16 -85.2\" id=\"img-c54ac09e-126\" visibility=\"hidden\" gadfly:scale=\"5.0\"/>\n",
       "      <path fill=\"none\" d=\"M19.75,-98.37 L 226.16 -98.37\" id=\"img-c54ac09e-127\" visibility=\"hidden\" gadfly:scale=\"5.0\"/>\n",
       "      <path fill=\"none\" d=\"M19.75,-111.54 L 226.16 -111.54\" id=\"img-c54ac09e-128\" visibility=\"hidden\" gadfly:scale=\"5.0\"/>\n",
       "      <path fill=\"none\" d=\"M19.75,-124.72 L 226.16 -124.72\" id=\"img-c54ac09e-129\" visibility=\"hidden\" gadfly:scale=\"5.0\"/>\n",
       "    </g>\n",
       "    <g class=\"guide xgridlines yfixed\" stroke-dasharray=\"0.5,0.5\" stroke-width=\"0.2\" stroke=\"#D0D0E0\" id=\"img-c54ac09e-130\">\n",
       "      <path fill=\"none\" d=\"M-231.28,5 L -231.28 140.72\" id=\"img-c54ac09e-131\" visibility=\"hidden\" gadfly:scale=\"1.0\"/>\n",
       "      <path fill=\"none\" d=\"M-180.67,5 L -180.67 140.72\" id=\"img-c54ac09e-132\" visibility=\"hidden\" gadfly:scale=\"1.0\"/>\n",
       "      <path fill=\"none\" d=\"M-130.07,5 L -130.07 140.72\" id=\"img-c54ac09e-133\" visibility=\"hidden\" gadfly:scale=\"1.0\"/>\n",
       "      <path fill=\"none\" d=\"M-79.46,5 L -79.46 140.72\" id=\"img-c54ac09e-134\" visibility=\"hidden\" gadfly:scale=\"1.0\"/>\n",
       "      <path fill=\"none\" d=\"M-28.86,5 L -28.86 140.72\" id=\"img-c54ac09e-135\" visibility=\"hidden\" gadfly:scale=\"1.0\"/>\n",
       "      <path fill=\"none\" d=\"M21.74,5 L 21.74 140.72\" id=\"img-c54ac09e-136\" visibility=\"visible\" gadfly:scale=\"1.0\"/>\n",
       "      <path fill=\"none\" d=\"M72.35,5 L 72.35 140.72\" id=\"img-c54ac09e-137\" visibility=\"visible\" gadfly:scale=\"1.0\"/>\n",
       "      <path fill=\"none\" d=\"M122.95,5 L 122.95 140.72\" id=\"img-c54ac09e-138\" visibility=\"visible\" gadfly:scale=\"1.0\"/>\n",
       "      <path fill=\"none\" d=\"M173.56,5 L 173.56 140.72\" id=\"img-c54ac09e-139\" visibility=\"visible\" gadfly:scale=\"1.0\"/>\n",
       "      <path fill=\"none\" d=\"M224.16,5 L 224.16 140.72\" id=\"img-c54ac09e-140\" visibility=\"visible\" gadfly:scale=\"1.0\"/>\n",
       "      <path fill=\"none\" d=\"M274.77,5 L 274.77 140.72\" id=\"img-c54ac09e-141\" visibility=\"hidden\" gadfly:scale=\"1.0\"/>\n",
       "      <path fill=\"none\" d=\"M325.37,5 L 325.37 140.72\" id=\"img-c54ac09e-142\" visibility=\"hidden\" gadfly:scale=\"1.0\"/>\n",
       "      <path fill=\"none\" d=\"M375.98,5 L 375.98 140.72\" id=\"img-c54ac09e-143\" visibility=\"hidden\" gadfly:scale=\"1.0\"/>\n",
       "      <path fill=\"none\" d=\"M426.58,5 L 426.58 140.72\" id=\"img-c54ac09e-144\" visibility=\"hidden\" gadfly:scale=\"1.0\"/>\n",
       "      <path fill=\"none\" d=\"M477.19,5 L 477.19 140.72\" id=\"img-c54ac09e-145\" visibility=\"hidden\" gadfly:scale=\"1.0\"/>\n",
       "      <path fill=\"none\" d=\"M-180.67,5 L -180.67 140.72\" id=\"img-c54ac09e-146\" visibility=\"hidden\" gadfly:scale=\"10.0\"/>\n",
       "      <path fill=\"none\" d=\"M-168.02,5 L -168.02 140.72\" id=\"img-c54ac09e-147\" visibility=\"hidden\" gadfly:scale=\"10.0\"/>\n",
       "      <path fill=\"none\" d=\"M-155.37,5 L -155.37 140.72\" id=\"img-c54ac09e-148\" visibility=\"hidden\" gadfly:scale=\"10.0\"/>\n",
       "      <path fill=\"none\" d=\"M-142.72,5 L -142.72 140.72\" id=\"img-c54ac09e-149\" visibility=\"hidden\" gadfly:scale=\"10.0\"/>\n",
       "      <path fill=\"none\" d=\"M-130.07,5 L -130.07 140.72\" id=\"img-c54ac09e-150\" visibility=\"hidden\" gadfly:scale=\"10.0\"/>\n",
       "      <path fill=\"none\" d=\"M-117.42,5 L -117.42 140.72\" id=\"img-c54ac09e-151\" visibility=\"hidden\" gadfly:scale=\"10.0\"/>\n",
       "      <path fill=\"none\" d=\"M-104.77,5 L -104.77 140.72\" id=\"img-c54ac09e-152\" visibility=\"hidden\" gadfly:scale=\"10.0\"/>\n",
       "      <path fill=\"none\" d=\"M-92.12,5 L -92.12 140.72\" id=\"img-c54ac09e-153\" visibility=\"hidden\" gadfly:scale=\"10.0\"/>\n",
       "      <path fill=\"none\" d=\"M-79.46,5 L -79.46 140.72\" id=\"img-c54ac09e-154\" visibility=\"hidden\" gadfly:scale=\"10.0\"/>\n",
       "      <path fill=\"none\" d=\"M-66.81,5 L -66.81 140.72\" id=\"img-c54ac09e-155\" visibility=\"hidden\" gadfly:scale=\"10.0\"/>\n",
       "      <path fill=\"none\" d=\"M-54.16,5 L -54.16 140.72\" id=\"img-c54ac09e-156\" visibility=\"hidden\" gadfly:scale=\"10.0\"/>\n",
       "      <path fill=\"none\" d=\"M-41.51,5 L -41.51 140.72\" id=\"img-c54ac09e-157\" visibility=\"hidden\" gadfly:scale=\"10.0\"/>\n",
       "      <path fill=\"none\" d=\"M-28.86,5 L -28.86 140.72\" id=\"img-c54ac09e-158\" visibility=\"hidden\" gadfly:scale=\"10.0\"/>\n",
       "      <path fill=\"none\" d=\"M-16.21,5 L -16.21 140.72\" id=\"img-c54ac09e-159\" visibility=\"hidden\" gadfly:scale=\"10.0\"/>\n",
       "      <path fill=\"none\" d=\"M-3.56,5 L -3.56 140.72\" id=\"img-c54ac09e-160\" visibility=\"hidden\" gadfly:scale=\"10.0\"/>\n",
       "      <path fill=\"none\" d=\"M9.09,5 L 9.09 140.72\" id=\"img-c54ac09e-161\" visibility=\"hidden\" gadfly:scale=\"10.0\"/>\n",
       "      <path fill=\"none\" d=\"M21.74,5 L 21.74 140.72\" id=\"img-c54ac09e-162\" visibility=\"hidden\" gadfly:scale=\"10.0\"/>\n",
       "      <path fill=\"none\" d=\"M34.4,5 L 34.4 140.72\" id=\"img-c54ac09e-163\" visibility=\"hidden\" gadfly:scale=\"10.0\"/>\n",
       "      <path fill=\"none\" d=\"M47.05,5 L 47.05 140.72\" id=\"img-c54ac09e-164\" visibility=\"hidden\" gadfly:scale=\"10.0\"/>\n",
       "      <path fill=\"none\" d=\"M59.7,5 L 59.7 140.72\" id=\"img-c54ac09e-165\" visibility=\"hidden\" gadfly:scale=\"10.0\"/>\n",
       "      <path fill=\"none\" d=\"M72.35,5 L 72.35 140.72\" id=\"img-c54ac09e-166\" visibility=\"hidden\" gadfly:scale=\"10.0\"/>\n",
       "      <path fill=\"none\" d=\"M85,5 L 85 140.72\" id=\"img-c54ac09e-167\" visibility=\"hidden\" gadfly:scale=\"10.0\"/>\n",
       "      <path fill=\"none\" d=\"M97.65,5 L 97.65 140.72\" id=\"img-c54ac09e-168\" visibility=\"hidden\" gadfly:scale=\"10.0\"/>\n",
       "      <path fill=\"none\" d=\"M110.3,5 L 110.3 140.72\" id=\"img-c54ac09e-169\" visibility=\"hidden\" gadfly:scale=\"10.0\"/>\n",
       "      <path fill=\"none\" d=\"M122.95,5 L 122.95 140.72\" id=\"img-c54ac09e-170\" visibility=\"hidden\" gadfly:scale=\"10.0\"/>\n",
       "      <path fill=\"none\" d=\"M135.61,5 L 135.61 140.72\" id=\"img-c54ac09e-171\" visibility=\"hidden\" gadfly:scale=\"10.0\"/>\n",
       "      <path fill=\"none\" d=\"M148.26,5 L 148.26 140.72\" id=\"img-c54ac09e-172\" visibility=\"hidden\" gadfly:scale=\"10.0\"/>\n",
       "      <path fill=\"none\" d=\"M160.91,5 L 160.91 140.72\" id=\"img-c54ac09e-173\" visibility=\"hidden\" gadfly:scale=\"10.0\"/>\n",
       "      <path fill=\"none\" d=\"M173.56,5 L 173.56 140.72\" id=\"img-c54ac09e-174\" visibility=\"hidden\" gadfly:scale=\"10.0\"/>\n",
       "      <path fill=\"none\" d=\"M186.21,5 L 186.21 140.72\" id=\"img-c54ac09e-175\" visibility=\"hidden\" gadfly:scale=\"10.0\"/>\n",
       "      <path fill=\"none\" d=\"M198.86,5 L 198.86 140.72\" id=\"img-c54ac09e-176\" visibility=\"hidden\" gadfly:scale=\"10.0\"/>\n",
       "      <path fill=\"none\" d=\"M211.51,5 L 211.51 140.72\" id=\"img-c54ac09e-177\" visibility=\"hidden\" gadfly:scale=\"10.0\"/>\n",
       "      <path fill=\"none\" d=\"M224.16,5 L 224.16 140.72\" id=\"img-c54ac09e-178\" visibility=\"hidden\" gadfly:scale=\"10.0\"/>\n",
       "      <path fill=\"none\" d=\"M236.81,5 L 236.81 140.72\" id=\"img-c54ac09e-179\" visibility=\"hidden\" gadfly:scale=\"10.0\"/>\n",
       "      <path fill=\"none\" d=\"M249.47,5 L 249.47 140.72\" id=\"img-c54ac09e-180\" visibility=\"hidden\" gadfly:scale=\"10.0\"/>\n",
       "      <path fill=\"none\" d=\"M262.12,5 L 262.12 140.72\" id=\"img-c54ac09e-181\" visibility=\"hidden\" gadfly:scale=\"10.0\"/>\n",
       "      <path fill=\"none\" d=\"M274.77,5 L 274.77 140.72\" id=\"img-c54ac09e-182\" visibility=\"hidden\" gadfly:scale=\"10.0\"/>\n",
       "      <path fill=\"none\" d=\"M287.42,5 L 287.42 140.72\" id=\"img-c54ac09e-183\" visibility=\"hidden\" gadfly:scale=\"10.0\"/>\n",
       "      <path fill=\"none\" d=\"M300.07,5 L 300.07 140.72\" id=\"img-c54ac09e-184\" visibility=\"hidden\" gadfly:scale=\"10.0\"/>\n",
       "      <path fill=\"none\" d=\"M312.72,5 L 312.72 140.72\" id=\"img-c54ac09e-185\" visibility=\"hidden\" gadfly:scale=\"10.0\"/>\n",
       "      <path fill=\"none\" d=\"M325.37,5 L 325.37 140.72\" id=\"img-c54ac09e-186\" visibility=\"hidden\" gadfly:scale=\"10.0\"/>\n",
       "      <path fill=\"none\" d=\"M338.02,5 L 338.02 140.72\" id=\"img-c54ac09e-187\" visibility=\"hidden\" gadfly:scale=\"10.0\"/>\n",
       "      <path fill=\"none\" d=\"M350.67,5 L 350.67 140.72\" id=\"img-c54ac09e-188\" visibility=\"hidden\" gadfly:scale=\"10.0\"/>\n",
       "      <path fill=\"none\" d=\"M363.33,5 L 363.33 140.72\" id=\"img-c54ac09e-189\" visibility=\"hidden\" gadfly:scale=\"10.0\"/>\n",
       "      <path fill=\"none\" d=\"M375.98,5 L 375.98 140.72\" id=\"img-c54ac09e-190\" visibility=\"hidden\" gadfly:scale=\"10.0\"/>\n",
       "      <path fill=\"none\" d=\"M388.63,5 L 388.63 140.72\" id=\"img-c54ac09e-191\" visibility=\"hidden\" gadfly:scale=\"10.0\"/>\n",
       "      <path fill=\"none\" d=\"M401.28,5 L 401.28 140.72\" id=\"img-c54ac09e-192\" visibility=\"hidden\" gadfly:scale=\"10.0\"/>\n",
       "      <path fill=\"none\" d=\"M413.93,5 L 413.93 140.72\" id=\"img-c54ac09e-193\" visibility=\"hidden\" gadfly:scale=\"10.0\"/>\n",
       "      <path fill=\"none\" d=\"M426.58,5 L 426.58 140.72\" id=\"img-c54ac09e-194\" visibility=\"hidden\" gadfly:scale=\"10.0\"/>\n",
       "      <path fill=\"none\" d=\"M-383.09,5 L -383.09 140.72\" id=\"img-c54ac09e-195\" visibility=\"hidden\" gadfly:scale=\"0.5\"/>\n",
       "      <path fill=\"none\" d=\"M-130.07,5 L -130.07 140.72\" id=\"img-c54ac09e-196\" visibility=\"hidden\" gadfly:scale=\"0.5\"/>\n",
       "      <path fill=\"none\" d=\"M122.95,5 L 122.95 140.72\" id=\"img-c54ac09e-197\" visibility=\"hidden\" gadfly:scale=\"0.5\"/>\n",
       "      <path fill=\"none\" d=\"M375.98,5 L 375.98 140.72\" id=\"img-c54ac09e-198\" visibility=\"hidden\" gadfly:scale=\"0.5\"/>\n",
       "      <path fill=\"none\" d=\"M629,5 L 629 140.72\" id=\"img-c54ac09e-199\" visibility=\"hidden\" gadfly:scale=\"0.5\"/>\n",
       "      <path fill=\"none\" d=\"M-180.67,5 L -180.67 140.72\" id=\"img-c54ac09e-200\" visibility=\"hidden\" gadfly:scale=\"5.0\"/>\n",
       "      <path fill=\"none\" d=\"M-168.02,5 L -168.02 140.72\" id=\"img-c54ac09e-201\" visibility=\"hidden\" gadfly:scale=\"5.0\"/>\n",
       "      <path fill=\"none\" d=\"M-155.37,5 L -155.37 140.72\" id=\"img-c54ac09e-202\" visibility=\"hidden\" gadfly:scale=\"5.0\"/>\n",
       "      <path fill=\"none\" d=\"M-142.72,5 L -142.72 140.72\" id=\"img-c54ac09e-203\" visibility=\"hidden\" gadfly:scale=\"5.0\"/>\n",
       "      <path fill=\"none\" d=\"M-130.07,5 L -130.07 140.72\" id=\"img-c54ac09e-204\" visibility=\"hidden\" gadfly:scale=\"5.0\"/>\n",
       "      <path fill=\"none\" d=\"M-117.42,5 L -117.42 140.72\" id=\"img-c54ac09e-205\" visibility=\"hidden\" gadfly:scale=\"5.0\"/>\n",
       "      <path fill=\"none\" d=\"M-104.77,5 L -104.77 140.72\" id=\"img-c54ac09e-206\" visibility=\"hidden\" gadfly:scale=\"5.0\"/>\n",
       "      <path fill=\"none\" d=\"M-92.12,5 L -92.12 140.72\" id=\"img-c54ac09e-207\" visibility=\"hidden\" gadfly:scale=\"5.0\"/>\n",
       "      <path fill=\"none\" d=\"M-79.46,5 L -79.46 140.72\" id=\"img-c54ac09e-208\" visibility=\"hidden\" gadfly:scale=\"5.0\"/>\n",
       "      <path fill=\"none\" d=\"M-66.81,5 L -66.81 140.72\" id=\"img-c54ac09e-209\" visibility=\"hidden\" gadfly:scale=\"5.0\"/>\n",
       "      <path fill=\"none\" d=\"M-54.16,5 L -54.16 140.72\" id=\"img-c54ac09e-210\" visibility=\"hidden\" gadfly:scale=\"5.0\"/>\n",
       "      <path fill=\"none\" d=\"M-41.51,5 L -41.51 140.72\" id=\"img-c54ac09e-211\" visibility=\"hidden\" gadfly:scale=\"5.0\"/>\n",
       "      <path fill=\"none\" d=\"M-28.86,5 L -28.86 140.72\" id=\"img-c54ac09e-212\" visibility=\"hidden\" gadfly:scale=\"5.0\"/>\n",
       "      <path fill=\"none\" d=\"M-16.21,5 L -16.21 140.72\" id=\"img-c54ac09e-213\" visibility=\"hidden\" gadfly:scale=\"5.0\"/>\n",
       "      <path fill=\"none\" d=\"M-3.56,5 L -3.56 140.72\" id=\"img-c54ac09e-214\" visibility=\"hidden\" gadfly:scale=\"5.0\"/>\n",
       "      <path fill=\"none\" d=\"M9.09,5 L 9.09 140.72\" id=\"img-c54ac09e-215\" visibility=\"hidden\" gadfly:scale=\"5.0\"/>\n",
       "      <path fill=\"none\" d=\"M21.74,5 L 21.74 140.72\" id=\"img-c54ac09e-216\" visibility=\"hidden\" gadfly:scale=\"5.0\"/>\n",
       "      <path fill=\"none\" d=\"M34.4,5 L 34.4 140.72\" id=\"img-c54ac09e-217\" visibility=\"hidden\" gadfly:scale=\"5.0\"/>\n",
       "      <path fill=\"none\" d=\"M47.05,5 L 47.05 140.72\" id=\"img-c54ac09e-218\" visibility=\"hidden\" gadfly:scale=\"5.0\"/>\n",
       "      <path fill=\"none\" d=\"M59.7,5 L 59.7 140.72\" id=\"img-c54ac09e-219\" visibility=\"hidden\" gadfly:scale=\"5.0\"/>\n",
       "      <path fill=\"none\" d=\"M72.35,5 L 72.35 140.72\" id=\"img-c54ac09e-220\" visibility=\"hidden\" gadfly:scale=\"5.0\"/>\n",
       "      <path fill=\"none\" d=\"M85,5 L 85 140.72\" id=\"img-c54ac09e-221\" visibility=\"hidden\" gadfly:scale=\"5.0\"/>\n",
       "      <path fill=\"none\" d=\"M97.65,5 L 97.65 140.72\" id=\"img-c54ac09e-222\" visibility=\"hidden\" gadfly:scale=\"5.0\"/>\n",
       "      <path fill=\"none\" d=\"M110.3,5 L 110.3 140.72\" id=\"img-c54ac09e-223\" visibility=\"hidden\" gadfly:scale=\"5.0\"/>\n",
       "      <path fill=\"none\" d=\"M122.95,5 L 122.95 140.72\" id=\"img-c54ac09e-224\" visibility=\"hidden\" gadfly:scale=\"5.0\"/>\n",
       "      <path fill=\"none\" d=\"M135.61,5 L 135.61 140.72\" id=\"img-c54ac09e-225\" visibility=\"hidden\" gadfly:scale=\"5.0\"/>\n",
       "      <path fill=\"none\" d=\"M148.26,5 L 148.26 140.72\" id=\"img-c54ac09e-226\" visibility=\"hidden\" gadfly:scale=\"5.0\"/>\n",
       "      <path fill=\"none\" d=\"M160.91,5 L 160.91 140.72\" id=\"img-c54ac09e-227\" visibility=\"hidden\" gadfly:scale=\"5.0\"/>\n",
       "      <path fill=\"none\" d=\"M173.56,5 L 173.56 140.72\" id=\"img-c54ac09e-228\" visibility=\"hidden\" gadfly:scale=\"5.0\"/>\n",
       "      <path fill=\"none\" d=\"M186.21,5 L 186.21 140.72\" id=\"img-c54ac09e-229\" visibility=\"hidden\" gadfly:scale=\"5.0\"/>\n",
       "      <path fill=\"none\" d=\"M198.86,5 L 198.86 140.72\" id=\"img-c54ac09e-230\" visibility=\"hidden\" gadfly:scale=\"5.0\"/>\n",
       "      <path fill=\"none\" d=\"M211.51,5 L 211.51 140.72\" id=\"img-c54ac09e-231\" visibility=\"hidden\" gadfly:scale=\"5.0\"/>\n",
       "      <path fill=\"none\" d=\"M224.16,5 L 224.16 140.72\" id=\"img-c54ac09e-232\" visibility=\"hidden\" gadfly:scale=\"5.0\"/>\n",
       "      <path fill=\"none\" d=\"M236.81,5 L 236.81 140.72\" id=\"img-c54ac09e-233\" visibility=\"hidden\" gadfly:scale=\"5.0\"/>\n",
       "      <path fill=\"none\" d=\"M249.47,5 L 249.47 140.72\" id=\"img-c54ac09e-234\" visibility=\"hidden\" gadfly:scale=\"5.0\"/>\n",
       "      <path fill=\"none\" d=\"M262.12,5 L 262.12 140.72\" id=\"img-c54ac09e-235\" visibility=\"hidden\" gadfly:scale=\"5.0\"/>\n",
       "      <path fill=\"none\" d=\"M274.77,5 L 274.77 140.72\" id=\"img-c54ac09e-236\" visibility=\"hidden\" gadfly:scale=\"5.0\"/>\n",
       "      <path fill=\"none\" d=\"M287.42,5 L 287.42 140.72\" id=\"img-c54ac09e-237\" visibility=\"hidden\" gadfly:scale=\"5.0\"/>\n",
       "      <path fill=\"none\" d=\"M300.07,5 L 300.07 140.72\" id=\"img-c54ac09e-238\" visibility=\"hidden\" gadfly:scale=\"5.0\"/>\n",
       "      <path fill=\"none\" d=\"M312.72,5 L 312.72 140.72\" id=\"img-c54ac09e-239\" visibility=\"hidden\" gadfly:scale=\"5.0\"/>\n",
       "      <path fill=\"none\" d=\"M325.37,5 L 325.37 140.72\" id=\"img-c54ac09e-240\" visibility=\"hidden\" gadfly:scale=\"5.0\"/>\n",
       "      <path fill=\"none\" d=\"M338.02,5 L 338.02 140.72\" id=\"img-c54ac09e-241\" visibility=\"hidden\" gadfly:scale=\"5.0\"/>\n",
       "      <path fill=\"none\" d=\"M350.67,5 L 350.67 140.72\" id=\"img-c54ac09e-242\" visibility=\"hidden\" gadfly:scale=\"5.0\"/>\n",
       "      <path fill=\"none\" d=\"M363.33,5 L 363.33 140.72\" id=\"img-c54ac09e-243\" visibility=\"hidden\" gadfly:scale=\"5.0\"/>\n",
       "      <path fill=\"none\" d=\"M375.98,5 L 375.98 140.72\" id=\"img-c54ac09e-244\" visibility=\"hidden\" gadfly:scale=\"5.0\"/>\n",
       "      <path fill=\"none\" d=\"M388.63,5 L 388.63 140.72\" id=\"img-c54ac09e-245\" visibility=\"hidden\" gadfly:scale=\"5.0\"/>\n",
       "      <path fill=\"none\" d=\"M401.28,5 L 401.28 140.72\" id=\"img-c54ac09e-246\" visibility=\"hidden\" gadfly:scale=\"5.0\"/>\n",
       "      <path fill=\"none\" d=\"M413.93,5 L 413.93 140.72\" id=\"img-c54ac09e-247\" visibility=\"hidden\" gadfly:scale=\"5.0\"/>\n",
       "      <path fill=\"none\" d=\"M426.58,5 L 426.58 140.72\" id=\"img-c54ac09e-248\" visibility=\"hidden\" gadfly:scale=\"5.0\"/>\n",
       "    </g>\n",
       "    <g class=\"plotpanel\" id=\"img-c54ac09e-249\">\n",
       "      <g stroke-width=\"0.3\" fill=\"#000000\" fill-opacity=\"0.000\" stroke-dasharray=\"none\" id=\"img-c54ac09e-250\">\n",
       "        <path fill=\"none\" d=\"M43.46,72.86 L 44.1 74.52 44.74 76.18 45.38 77.84 46.02 79.49 46.66 81.14 47.3 82.79 47.93 84.43 48.57 86.06 49.21 87.69 49.85 89.3 50.49 90.9 51.13 92.5 51.76 94.08 52.4 95.64 53.04 97.19 53.68 98.73 54.32 100.25 54.96 101.75 55.6 103.24 56.23 104.7 56.87 106.15 57.51 107.57 58.15 108.97 58.79 110.35 59.43 111.7 60.06 113.03 60.7 114.34 61.34 115.61 61.98 116.86 62.62 118.09 63.26 119.28 63.9 120.44 64.53 121.58 65.17 122.68 65.81 123.75 66.45 124.79 67.09 125.79 67.73 126.77 68.36 127.7 69 128.6 69.64 129.47 70.28 130.3 70.92 131.1 71.56 131.85 72.2 132.57 72.83 133.26 73.47 133.9 74.11 134.5 74.75 135.07 75.39 135.59 76.03 136.08 76.67 136.52 77.3 136.93 77.94 137.29 78.58 137.62 79.22 137.9 79.86 138.14 80.5 138.34 81.13 138.49 81.77 138.61 82.41 138.68 83.05 138.71 83.69 138.7 84.33 138.65 84.97 138.56 85.6 138.42 86.24 138.24 86.88 138.02 87.52 137.76 88.16 137.46 88.8 137.12 89.43 136.73 90.07 136.31 90.71 135.84 91.35 135.34 91.99 134.79 92.63 134.21 93.27 133.58 93.9 132.92 94.54 132.22 95.18 131.48 95.82 130.7 96.46 129.89 97.1 129.04 97.73 128.16 98.37 127.24 99.01 126.28 99.65 125.29 100.29 124.27 100.93 123.22 101.57 122.13 102.2 121.01 102.84 119.86 103.48 118.69 104.12 117.48 104.76 116.24 105.4 114.98 106.03 113.69 106.67 112.37 107.31 111.03 107.95 109.66 108.59 108.27 109.23 106.86 109.87 105.43 110.5 103.97 111.14 102.5 111.78 101 112.42 99.49 113.06 97.96 113.7 96.42 114.33 94.86 114.97 93.29 115.61 91.7 116.25 90.1 116.89 88.49 117.53 86.87 118.17 85.25 118.8 83.61 119.44 81.97 120.08 80.32 120.72 78.67 121.36 77.01 122 75.35 122.63 73.69 123.27 72.03 123.91 70.37 124.55 68.71 125.19 67.05 125.83 65.4 126.47 63.75 127.1 62.1 127.74 60.47 128.38 58.84 129.02 57.22 129.66 55.61 130.3 54.01 130.94 52.43 131.57 50.85 132.21 49.3 132.85 47.75 133.49 46.22 134.13 44.71 134.77 43.22 135.4 41.74 136.04 40.29 136.68 38.86 137.32 37.44 137.96 36.05 138.6 34.69 139.24 33.35 139.87 32.03 140.51 30.74 141.15 29.47 141.79 28.24 142.43 27.03 143.07 25.85 143.7 24.7 144.34 23.58 144.98 22.5 145.62 21.44 146.26 20.42 146.9 19.43 147.54 18.48 148.17 17.56 148.81 16.67 149.45 15.82 150.09 15.01 150.73 14.23 151.37 13.5 152 12.8 152.64 12.13 153.28 11.51 153.92 10.92 154.56 10.38 155.2 9.87 155.84 9.41 156.47 8.98 157.11 8.6 157.75 8.26 158.39 7.95 159.03 7.69 159.67 7.47 160.3 7.29 160.94 7.16 161.58 7.06 162.22 7.01 162.86 7 163.5 7.03 164.14 7.11 164.77 7.22 165.41 7.38 166.05 7.58 166.69 7.82 167.33 8.1 167.97 8.42 168.6 8.79 169.24 9.19 169.88 9.64 170.52 10.12 171.16 10.65 171.8 11.21 172.44 11.82 173.07 12.46 173.71 13.14 174.35 13.86 174.99 14.62 175.63 15.41 176.27 16.24 176.9 17.11 177.54 18.01 178.18 18.95 178.82 19.92 179.46 20.93 180.1 21.97 180.74 23.04 181.37 24.14 182.01 25.27 182.65 26.44 183.29 27.63 183.93 28.85 184.57 30.1 185.2 31.38 185.84 32.68 186.48 34.01 187.12 35.37 187.76 36.75 188.4 38.15 189.04 39.57 189.67 41.01 190.31 42.48 190.95 43.96 191.59 45.46 192.23 46.98 192.87 48.52 193.51 50.07 194.14 51.64 194.78 53.22 195.42 54.81 196.06 56.42 196.7 58.03 197.34 59.65 197.97 61.29 198.61 62.92 199.25 64.57 199.89 66.22 200.53 67.88 201.17 69.54 201.81 71.2 202.44 72.86\" id=\"img-c54ac09e-251\" stroke=\"#00BFFF\" class=\"geometry color_f1\"/>\n",
       "        <path fill=\"none\" d=\"M43.46,138.72 L 44.1 138.69 44.74 138.63 45.38 138.53 46.02 138.38 46.66 138.19 47.3 137.96 47.93 137.69 48.57 137.38 49.21 137.02 49.85 136.63 50.49 136.19 51.13 135.72 51.76 135.2 52.4 134.65 53.04 134.05 53.68 133.42 54.32 132.75 54.96 132.04 55.6 131.29 56.23 130.5 56.87 129.68 57.51 128.82 58.15 127.93 58.79 127 59.43 126.04 60.06 125.04 60.7 124.01 61.34 122.95 61.98 121.85 62.62 120.73 63.26 119.57 63.9 118.39 64.53 117.17 65.17 115.93 65.81 114.66 66.45 113.36 67.09 112.04 67.73 110.69 68.36 109.32 69 107.92 69.64 106.5 70.28 105.06 70.92 103.6 71.56 102.13 72.2 100.63 72.83 99.11 73.47 97.58 74.11 96.03 74.75 94.47 75.39 92.89 76.03 91.3 76.67 89.7 77.3 88.09 77.94 86.47 78.58 84.84 79.22 83.2 79.86 81.56 80.5 79.91 81.13 78.25 81.77 76.59 82.41 74.93 83.05 73.27 83.69 71.61 84.33 69.95 84.97 68.29 85.6 66.63 86.24 64.98 86.88 63.34 87.52 61.69 88.16 60.06 88.8 58.43 89.43 56.82 90.07 55.21 90.71 53.62 91.35 52.03 91.99 50.46 92.63 48.91 93.27 47.37 93.9 45.84 94.54 44.34 95.18 42.85 95.82 41.38 96.46 39.93 97.1 38.5 97.73 37.09 98.37 35.71 99.01 34.35 99.65 33.01 100.29 31.7 100.93 30.42 101.57 29.16 102.2 27.93 102.84 26.73 103.48 25.56 104.12 24.42 104.76 23.31 105.4 22.23 106.03 21.18 106.67 20.17 107.31 19.19 107.95 18.24 108.59 17.33 109.23 16.46 109.87 15.62 110.5 14.81 111.14 14.05 111.78 13.32 112.42 12.63 113.06 11.97 113.7 11.36 114.33 10.78 114.97 10.25 115.61 9.75 116.25 9.3 116.89 8.88 117.53 8.51 118.17 8.18 118.8 7.88 119.44 7.63 120.08 7.42 120.72 7.26 121.36 7.13 122 7.05 122.63 7.01 123.27 7.01 123.91 7.05 124.55 7.13 125.19 7.26 125.83 7.42 126.47 7.63 127.1 7.88 127.74 8.18 128.38 8.51 129.02 8.88 129.66 9.3 130.3 9.75 130.94 10.25 131.57 10.78 132.21 11.36 132.85 11.97 133.49 12.63 134.13 13.32 134.77 14.05 135.4 14.81 136.04 15.62 136.68 16.46 137.32 17.33 137.96 18.24 138.6 19.19 139.24 20.17 139.87 21.18 140.51 22.23 141.15 23.31 141.79 24.42 142.43 25.56 143.07 26.73 143.7 27.93 144.34 29.16 144.98 30.42 145.62 31.7 146.26 33.01 146.9 34.35 147.54 35.71 148.17 37.09 148.81 38.5 149.45 39.93 150.09 41.38 150.73 42.85 151.37 44.34 152 45.84 152.64 47.37 153.28 48.91 153.92 50.46 154.56 52.03 155.2 53.62 155.84 55.21 156.47 56.82 157.11 58.43 157.75 60.06 158.39 61.69 159.03 63.34 159.67 64.98 160.3 66.63 160.94 68.29 161.58 69.95 162.22 71.61 162.86 73.27 163.5 74.93 164.14 76.59 164.77 78.25 165.41 79.91 166.05 81.56 166.69 83.2 167.33 84.84 167.97 86.47 168.6 88.09 169.24 89.7 169.88 91.3 170.52 92.89 171.16 94.47 171.8 96.03 172.44 97.58 173.07 99.11 173.71 100.63 174.35 102.13 174.99 103.6 175.63 105.06 176.27 106.5 176.9 107.92 177.54 109.32 178.18 110.69 178.82 112.04 179.46 113.36 180.1 114.66 180.74 115.93 181.37 117.17 182.01 118.39 182.65 119.57 183.29 120.73 183.93 121.85 184.57 122.95 185.2 124.01 185.84 125.04 186.48 126.04 187.12 127 187.76 127.93 188.4 128.82 189.04 129.68 189.67 130.5 190.31 131.29 190.95 132.04 191.59 132.75 192.23 133.42 192.87 134.05 193.51 134.65 194.14 135.2 194.78 135.72 195.42 136.19 196.06 136.63 196.7 137.02 197.34 137.38 197.97 137.69 198.61 137.96 199.25 138.19 199.89 138.38 200.53 138.53 201.17 138.63 201.81 138.69 202.44 138.72\" id=\"img-c54ac09e-252\" stroke=\"#D4CA3A\" class=\"geometry color_f2\"/>\n",
       "      </g>\n",
       "    </g>\n",
       "    <g opacity=\"0\" class=\"guide zoomslider\" stroke=\"#000000\" stroke-opacity=\"0.000\" id=\"img-c54ac09e-253\">\n",
       "      <g fill=\"#EAEAEA\" stroke-width=\"0.3\" stroke-opacity=\"0\" stroke=\"#6A6A6A\" id=\"img-c54ac09e-254\">\n",
       "        <rect x=\"219.16\" y=\"8\" width=\"4\" height=\"4\" id=\"img-c54ac09e-255\"/>\n",
       "        <g class=\"button_logo\" fill=\"#6A6A6A\" id=\"img-c54ac09e-256\">\n",
       "          <path d=\"M219.96,9.6 L 220.76 9.6 220.76 8.8 221.56 8.8 221.56 9.6 222.36 9.6 222.36 10.4 221.56 10.4 221.56 11.2 220.76 11.2 220.76 10.4 219.96 10.4 z\" id=\"img-c54ac09e-257\"/>\n",
       "        </g>\n",
       "      </g>\n",
       "      <g fill=\"#EAEAEA\" id=\"img-c54ac09e-258\">\n",
       "        <rect x=\"199.66\" y=\"8\" width=\"19\" height=\"4\" id=\"img-c54ac09e-259\"/>\n",
       "      </g>\n",
       "      <g class=\"zoomslider_thumb\" fill=\"#6A6A6A\" id=\"img-c54ac09e-260\">\n",
       "        <rect x=\"208.16\" y=\"8\" width=\"2\" height=\"4\" id=\"img-c54ac09e-261\"/>\n",
       "      </g>\n",
       "      <g fill=\"#EAEAEA\" stroke-width=\"0.3\" stroke-opacity=\"0\" stroke=\"#6A6A6A\" id=\"img-c54ac09e-262\">\n",
       "        <rect x=\"195.16\" y=\"8\" width=\"4\" height=\"4\" id=\"img-c54ac09e-263\"/>\n",
       "        <g class=\"button_logo\" fill=\"#6A6A6A\" id=\"img-c54ac09e-264\">\n",
       "          <path d=\"M195.96,9.6 L 198.36 9.6 198.36 10.4 195.96 10.4 z\" id=\"img-c54ac09e-265\"/>\n",
       "        </g>\n",
       "      </g>\n",
       "    </g>\n",
       "  </g>\n",
       "</g>\n",
       "  <g class=\"guide ylabels\" font-size=\"2.82\" font-family=\"'PT Sans Caption','Helvetica Neue','Helvetica',sans-serif\" fill=\"#6C606B\" id=\"img-c54ac09e-266\">\n",
       "    <text x=\"18.74\" y=\"303.36\" text-anchor=\"end\" dy=\"0.35em\" id=\"img-c54ac09e-267\" visibility=\"hidden\" gadfly:scale=\"1.0\">-3.5</text>\n",
       "    <text x=\"18.74\" y=\"270.43\" text-anchor=\"end\" dy=\"0.35em\" id=\"img-c54ac09e-268\" visibility=\"hidden\" gadfly:scale=\"1.0\">-3.0</text>\n",
       "    <text x=\"18.74\" y=\"237.5\" text-anchor=\"end\" dy=\"0.35em\" id=\"img-c54ac09e-269\" visibility=\"hidden\" gadfly:scale=\"1.0\">-2.5</text>\n",
       "    <text x=\"18.74\" y=\"204.57\" text-anchor=\"end\" dy=\"0.35em\" id=\"img-c54ac09e-270\" visibility=\"hidden\" gadfly:scale=\"1.0\">-2.0</text>\n",
       "    <text x=\"18.74\" y=\"171.64\" text-anchor=\"end\" dy=\"0.35em\" id=\"img-c54ac09e-271\" visibility=\"hidden\" gadfly:scale=\"1.0\">-1.5</text>\n",
       "    <text x=\"18.74\" y=\"138.72\" text-anchor=\"end\" dy=\"0.35em\" id=\"img-c54ac09e-272\" visibility=\"visible\" gadfly:scale=\"1.0\">-1.0</text>\n",
       "    <text x=\"18.74\" y=\"105.79\" text-anchor=\"end\" dy=\"0.35em\" id=\"img-c54ac09e-273\" visibility=\"visible\" gadfly:scale=\"1.0\">-0.5</text>\n",
       "    <text x=\"18.74\" y=\"72.86\" text-anchor=\"end\" dy=\"0.35em\" id=\"img-c54ac09e-274\" visibility=\"visible\" gadfly:scale=\"1.0\">0.0</text>\n",
       "    <text x=\"18.74\" y=\"39.93\" text-anchor=\"end\" dy=\"0.35em\" id=\"img-c54ac09e-275\" visibility=\"visible\" gadfly:scale=\"1.0\">0.5</text>\n",
       "    <text x=\"18.74\" y=\"7\" text-anchor=\"end\" dy=\"0.35em\" id=\"img-c54ac09e-276\" visibility=\"visible\" gadfly:scale=\"1.0\">1.0</text>\n",
       "    <text x=\"18.74\" y=\"-25.93\" text-anchor=\"end\" dy=\"0.35em\" id=\"img-c54ac09e-277\" visibility=\"hidden\" gadfly:scale=\"1.0\">1.5</text>\n",
       "    <text x=\"18.74\" y=\"-58.86\" text-anchor=\"end\" dy=\"0.35em\" id=\"img-c54ac09e-278\" visibility=\"hidden\" gadfly:scale=\"1.0\">2.0</text>\n",
       "    <text x=\"18.74\" y=\"-91.79\" text-anchor=\"end\" dy=\"0.35em\" id=\"img-c54ac09e-279\" visibility=\"hidden\" gadfly:scale=\"1.0\">2.5</text>\n",
       "    <text x=\"18.74\" y=\"-124.72\" text-anchor=\"end\" dy=\"0.35em\" id=\"img-c54ac09e-280\" visibility=\"hidden\" gadfly:scale=\"1.0\">3.0</text>\n",
       "    <text x=\"18.74\" y=\"-157.64\" text-anchor=\"end\" dy=\"0.35em\" id=\"img-c54ac09e-281\" visibility=\"hidden\" gadfly:scale=\"1.0\">3.5</text>\n",
       "    <text x=\"18.74\" y=\"270.43\" text-anchor=\"end\" dy=\"0.35em\" id=\"img-c54ac09e-282\" visibility=\"hidden\" gadfly:scale=\"10.0\">-3.0</text>\n",
       "    <text x=\"18.74\" y=\"263.84\" text-anchor=\"end\" dy=\"0.35em\" id=\"img-c54ac09e-283\" visibility=\"hidden\" gadfly:scale=\"10.0\">-2.9</text>\n",
       "    <text x=\"18.74\" y=\"257.26\" text-anchor=\"end\" dy=\"0.35em\" id=\"img-c54ac09e-284\" visibility=\"hidden\" gadfly:scale=\"10.0\">-2.8</text>\n",
       "    <text x=\"18.74\" y=\"250.67\" text-anchor=\"end\" dy=\"0.35em\" id=\"img-c54ac09e-285\" visibility=\"hidden\" gadfly:scale=\"10.0\">-2.7</text>\n",
       "    <text x=\"18.74\" y=\"244.09\" text-anchor=\"end\" dy=\"0.35em\" id=\"img-c54ac09e-286\" visibility=\"hidden\" gadfly:scale=\"10.0\">-2.6</text>\n",
       "    <text x=\"18.74\" y=\"237.5\" text-anchor=\"end\" dy=\"0.35em\" id=\"img-c54ac09e-287\" visibility=\"hidden\" gadfly:scale=\"10.0\">-2.5</text>\n",
       "    <text x=\"18.74\" y=\"230.92\" text-anchor=\"end\" dy=\"0.35em\" id=\"img-c54ac09e-288\" visibility=\"hidden\" gadfly:scale=\"10.0\">-2.4</text>\n",
       "    <text x=\"18.74\" y=\"224.33\" text-anchor=\"end\" dy=\"0.35em\" id=\"img-c54ac09e-289\" visibility=\"hidden\" gadfly:scale=\"10.0\">-2.3</text>\n",
       "    <text x=\"18.74\" y=\"217.74\" text-anchor=\"end\" dy=\"0.35em\" id=\"img-c54ac09e-290\" visibility=\"hidden\" gadfly:scale=\"10.0\">-2.2</text>\n",
       "    <text x=\"18.74\" y=\"211.16\" text-anchor=\"end\" dy=\"0.35em\" id=\"img-c54ac09e-291\" visibility=\"hidden\" gadfly:scale=\"10.0\">-2.1</text>\n",
       "    <text x=\"18.74\" y=\"204.57\" text-anchor=\"end\" dy=\"0.35em\" id=\"img-c54ac09e-292\" visibility=\"hidden\" gadfly:scale=\"10.0\">-2.0</text>\n",
       "    <text x=\"18.74\" y=\"197.99\" text-anchor=\"end\" dy=\"0.35em\" id=\"img-c54ac09e-293\" visibility=\"hidden\" gadfly:scale=\"10.0\">-1.9</text>\n",
       "    <text x=\"18.74\" y=\"191.4\" text-anchor=\"end\" dy=\"0.35em\" id=\"img-c54ac09e-294\" visibility=\"hidden\" gadfly:scale=\"10.0\">-1.8</text>\n",
       "    <text x=\"18.74\" y=\"184.82\" text-anchor=\"end\" dy=\"0.35em\" id=\"img-c54ac09e-295\" visibility=\"hidden\" gadfly:scale=\"10.0\">-1.7</text>\n",
       "    <text x=\"18.74\" y=\"178.23\" text-anchor=\"end\" dy=\"0.35em\" id=\"img-c54ac09e-296\" visibility=\"hidden\" gadfly:scale=\"10.0\">-1.6</text>\n",
       "    <text x=\"18.74\" y=\"171.64\" text-anchor=\"end\" dy=\"0.35em\" id=\"img-c54ac09e-297\" visibility=\"hidden\" gadfly:scale=\"10.0\">-1.5</text>\n",
       "    <text x=\"18.74\" y=\"165.06\" text-anchor=\"end\" dy=\"0.35em\" id=\"img-c54ac09e-298\" visibility=\"hidden\" gadfly:scale=\"10.0\">-1.4</text>\n",
       "    <text x=\"18.74\" y=\"158.47\" text-anchor=\"end\" dy=\"0.35em\" id=\"img-c54ac09e-299\" visibility=\"hidden\" gadfly:scale=\"10.0\">-1.3</text>\n",
       "    <text x=\"18.74\" y=\"151.89\" text-anchor=\"end\" dy=\"0.35em\" id=\"img-c54ac09e-300\" visibility=\"hidden\" gadfly:scale=\"10.0\">-1.2</text>\n",
       "    <text x=\"18.74\" y=\"145.3\" text-anchor=\"end\" dy=\"0.35em\" id=\"img-c54ac09e-301\" visibility=\"hidden\" gadfly:scale=\"10.0\">-1.1</text>\n",
       "    <text x=\"18.74\" y=\"138.72\" text-anchor=\"end\" dy=\"0.35em\" id=\"img-c54ac09e-302\" visibility=\"hidden\" gadfly:scale=\"10.0\">-1.0</text>\n",
       "    <text x=\"18.74\" y=\"132.13\" text-anchor=\"end\" dy=\"0.35em\" id=\"img-c54ac09e-303\" visibility=\"hidden\" gadfly:scale=\"10.0\">-0.9</text>\n",
       "    <text x=\"18.74\" y=\"125.54\" text-anchor=\"end\" dy=\"0.35em\" id=\"img-c54ac09e-304\" visibility=\"hidden\" gadfly:scale=\"10.0\">-0.8</text>\n",
       "    <text x=\"18.74\" y=\"118.96\" text-anchor=\"end\" dy=\"0.35em\" id=\"img-c54ac09e-305\" visibility=\"hidden\" gadfly:scale=\"10.0\">-0.7</text>\n",
       "    <text x=\"18.74\" y=\"112.37\" text-anchor=\"end\" dy=\"0.35em\" id=\"img-c54ac09e-306\" visibility=\"hidden\" gadfly:scale=\"10.0\">-0.6</text>\n",
       "    <text x=\"18.74\" y=\"105.79\" text-anchor=\"end\" dy=\"0.35em\" id=\"img-c54ac09e-307\" visibility=\"hidden\" gadfly:scale=\"10.0\">-0.5</text>\n",
       "    <text x=\"18.74\" y=\"99.2\" text-anchor=\"end\" dy=\"0.35em\" id=\"img-c54ac09e-308\" visibility=\"hidden\" gadfly:scale=\"10.0\">-0.4</text>\n",
       "    <text x=\"18.74\" y=\"92.61\" text-anchor=\"end\" dy=\"0.35em\" id=\"img-c54ac09e-309\" visibility=\"hidden\" gadfly:scale=\"10.0\">-0.3</text>\n",
       "    <text x=\"18.74\" y=\"86.03\" text-anchor=\"end\" dy=\"0.35em\" id=\"img-c54ac09e-310\" visibility=\"hidden\" gadfly:scale=\"10.0\">-0.2</text>\n",
       "    <text x=\"18.74\" y=\"79.44\" text-anchor=\"end\" dy=\"0.35em\" id=\"img-c54ac09e-311\" visibility=\"hidden\" gadfly:scale=\"10.0\">-0.1</text>\n",
       "    <text x=\"18.74\" y=\"72.86\" text-anchor=\"end\" dy=\"0.35em\" id=\"img-c54ac09e-312\" visibility=\"hidden\" gadfly:scale=\"10.0\">0.0</text>\n",
       "    <text x=\"18.74\" y=\"66.27\" text-anchor=\"end\" dy=\"0.35em\" id=\"img-c54ac09e-313\" visibility=\"hidden\" gadfly:scale=\"10.0\">0.1</text>\n",
       "    <text x=\"18.74\" y=\"59.69\" text-anchor=\"end\" dy=\"0.35em\" id=\"img-c54ac09e-314\" visibility=\"hidden\" gadfly:scale=\"10.0\">0.2</text>\n",
       "    <text x=\"18.74\" y=\"53.1\" text-anchor=\"end\" dy=\"0.35em\" id=\"img-c54ac09e-315\" visibility=\"hidden\" gadfly:scale=\"10.0\">0.3</text>\n",
       "    <text x=\"18.74\" y=\"46.51\" text-anchor=\"end\" dy=\"0.35em\" id=\"img-c54ac09e-316\" visibility=\"hidden\" gadfly:scale=\"10.0\">0.4</text>\n",
       "    <text x=\"18.74\" y=\"39.93\" text-anchor=\"end\" dy=\"0.35em\" id=\"img-c54ac09e-317\" visibility=\"hidden\" gadfly:scale=\"10.0\">0.5</text>\n",
       "    <text x=\"18.74\" y=\"33.34\" text-anchor=\"end\" dy=\"0.35em\" id=\"img-c54ac09e-318\" visibility=\"hidden\" gadfly:scale=\"10.0\">0.6</text>\n",
       "    <text x=\"18.74\" y=\"26.76\" text-anchor=\"end\" dy=\"0.35em\" id=\"img-c54ac09e-319\" visibility=\"hidden\" gadfly:scale=\"10.0\">0.7</text>\n",
       "    <text x=\"18.74\" y=\"20.17\" text-anchor=\"end\" dy=\"0.35em\" id=\"img-c54ac09e-320\" visibility=\"hidden\" gadfly:scale=\"10.0\">0.8</text>\n",
       "    <text x=\"18.74\" y=\"13.59\" text-anchor=\"end\" dy=\"0.35em\" id=\"img-c54ac09e-321\" visibility=\"hidden\" gadfly:scale=\"10.0\">0.9</text>\n",
       "    <text x=\"18.74\" y=\"7\" text-anchor=\"end\" dy=\"0.35em\" id=\"img-c54ac09e-322\" visibility=\"hidden\" gadfly:scale=\"10.0\">1.0</text>\n",
       "    <text x=\"18.74\" y=\"0.41\" text-anchor=\"end\" dy=\"0.35em\" id=\"img-c54ac09e-323\" visibility=\"hidden\" gadfly:scale=\"10.0\">1.1</text>\n",
       "    <text x=\"18.74\" y=\"-6.17\" text-anchor=\"end\" dy=\"0.35em\" id=\"img-c54ac09e-324\" visibility=\"hidden\" gadfly:scale=\"10.0\">1.2</text>\n",
       "    <text x=\"18.74\" y=\"-12.76\" text-anchor=\"end\" dy=\"0.35em\" id=\"img-c54ac09e-325\" visibility=\"hidden\" gadfly:scale=\"10.0\">1.3</text>\n",
       "    <text x=\"18.74\" y=\"-19.34\" text-anchor=\"end\" dy=\"0.35em\" id=\"img-c54ac09e-326\" visibility=\"hidden\" gadfly:scale=\"10.0\">1.4</text>\n",
       "    <text x=\"18.74\" y=\"-25.93\" text-anchor=\"end\" dy=\"0.35em\" id=\"img-c54ac09e-327\" visibility=\"hidden\" gadfly:scale=\"10.0\">1.5</text>\n",
       "    <text x=\"18.74\" y=\"-32.51\" text-anchor=\"end\" dy=\"0.35em\" id=\"img-c54ac09e-328\" visibility=\"hidden\" gadfly:scale=\"10.0\">1.6</text>\n",
       "    <text x=\"18.74\" y=\"-39.1\" text-anchor=\"end\" dy=\"0.35em\" id=\"img-c54ac09e-329\" visibility=\"hidden\" gadfly:scale=\"10.0\">1.7</text>\n",
       "    <text x=\"18.74\" y=\"-45.69\" text-anchor=\"end\" dy=\"0.35em\" id=\"img-c54ac09e-330\" visibility=\"hidden\" gadfly:scale=\"10.0\">1.8</text>\n",
       "    <text x=\"18.74\" y=\"-52.27\" text-anchor=\"end\" dy=\"0.35em\" id=\"img-c54ac09e-331\" visibility=\"hidden\" gadfly:scale=\"10.0\">1.9</text>\n",
       "    <text x=\"18.74\" y=\"-58.86\" text-anchor=\"end\" dy=\"0.35em\" id=\"img-c54ac09e-332\" visibility=\"hidden\" gadfly:scale=\"10.0\">2.0</text>\n",
       "    <text x=\"18.74\" y=\"-65.44\" text-anchor=\"end\" dy=\"0.35em\" id=\"img-c54ac09e-333\" visibility=\"hidden\" gadfly:scale=\"10.0\">2.1</text>\n",
       "    <text x=\"18.74\" y=\"-72.03\" text-anchor=\"end\" dy=\"0.35em\" id=\"img-c54ac09e-334\" visibility=\"hidden\" gadfly:scale=\"10.0\">2.2</text>\n",
       "    <text x=\"18.74\" y=\"-78.61\" text-anchor=\"end\" dy=\"0.35em\" id=\"img-c54ac09e-335\" visibility=\"hidden\" gadfly:scale=\"10.0\">2.3</text>\n",
       "    <text x=\"18.74\" y=\"-85.2\" text-anchor=\"end\" dy=\"0.35em\" id=\"img-c54ac09e-336\" visibility=\"hidden\" gadfly:scale=\"10.0\">2.4</text>\n",
       "    <text x=\"18.74\" y=\"-91.79\" text-anchor=\"end\" dy=\"0.35em\" id=\"img-c54ac09e-337\" visibility=\"hidden\" gadfly:scale=\"10.0\">2.5</text>\n",
       "    <text x=\"18.74\" y=\"-98.37\" text-anchor=\"end\" dy=\"0.35em\" id=\"img-c54ac09e-338\" visibility=\"hidden\" gadfly:scale=\"10.0\">2.6</text>\n",
       "    <text x=\"18.74\" y=\"-104.96\" text-anchor=\"end\" dy=\"0.35em\" id=\"img-c54ac09e-339\" visibility=\"hidden\" gadfly:scale=\"10.0\">2.7</text>\n",
       "    <text x=\"18.74\" y=\"-111.54\" text-anchor=\"end\" dy=\"0.35em\" id=\"img-c54ac09e-340\" visibility=\"hidden\" gadfly:scale=\"10.0\">2.8</text>\n",
       "    <text x=\"18.74\" y=\"-118.13\" text-anchor=\"end\" dy=\"0.35em\" id=\"img-c54ac09e-341\" visibility=\"hidden\" gadfly:scale=\"10.0\">2.9</text>\n",
       "    <text x=\"18.74\" y=\"-124.72\" text-anchor=\"end\" dy=\"0.35em\" id=\"img-c54ac09e-342\" visibility=\"hidden\" gadfly:scale=\"10.0\">3.0</text>\n",
       "    <text x=\"18.74\" y=\"336.29\" text-anchor=\"end\" dy=\"0.35em\" id=\"img-c54ac09e-343\" visibility=\"hidden\" gadfly:scale=\"0.5\">-4</text>\n",
       "    <text x=\"18.74\" y=\"204.57\" text-anchor=\"end\" dy=\"0.35em\" id=\"img-c54ac09e-344\" visibility=\"hidden\" gadfly:scale=\"0.5\">-2</text>\n",
       "    <text x=\"18.74\" y=\"72.86\" text-anchor=\"end\" dy=\"0.35em\" id=\"img-c54ac09e-345\" visibility=\"hidden\" gadfly:scale=\"0.5\">0</text>\n",
       "    <text x=\"18.74\" y=\"-58.86\" text-anchor=\"end\" dy=\"0.35em\" id=\"img-c54ac09e-346\" visibility=\"hidden\" gadfly:scale=\"0.5\">2</text>\n",
       "    <text x=\"18.74\" y=\"-190.57\" text-anchor=\"end\" dy=\"0.35em\" id=\"img-c54ac09e-347\" visibility=\"hidden\" gadfly:scale=\"0.5\">4</text>\n",
       "    <text x=\"18.74\" y=\"270.43\" text-anchor=\"end\" dy=\"0.35em\" id=\"img-c54ac09e-348\" visibility=\"hidden\" gadfly:scale=\"5.0\">-3.0</text>\n",
       "    <text x=\"18.74\" y=\"257.26\" text-anchor=\"end\" dy=\"0.35em\" id=\"img-c54ac09e-349\" visibility=\"hidden\" gadfly:scale=\"5.0\">-2.8</text>\n",
       "    <text x=\"18.74\" y=\"244.09\" text-anchor=\"end\" dy=\"0.35em\" id=\"img-c54ac09e-350\" visibility=\"hidden\" gadfly:scale=\"5.0\">-2.6</text>\n",
       "    <text x=\"18.74\" y=\"230.92\" text-anchor=\"end\" dy=\"0.35em\" id=\"img-c54ac09e-351\" visibility=\"hidden\" gadfly:scale=\"5.0\">-2.4</text>\n",
       "    <text x=\"18.74\" y=\"217.74\" text-anchor=\"end\" dy=\"0.35em\" id=\"img-c54ac09e-352\" visibility=\"hidden\" gadfly:scale=\"5.0\">-2.2</text>\n",
       "    <text x=\"18.74\" y=\"204.57\" text-anchor=\"end\" dy=\"0.35em\" id=\"img-c54ac09e-353\" visibility=\"hidden\" gadfly:scale=\"5.0\">-2.0</text>\n",
       "    <text x=\"18.74\" y=\"191.4\" text-anchor=\"end\" dy=\"0.35em\" id=\"img-c54ac09e-354\" visibility=\"hidden\" gadfly:scale=\"5.0\">-1.8</text>\n",
       "    <text x=\"18.74\" y=\"178.23\" text-anchor=\"end\" dy=\"0.35em\" id=\"img-c54ac09e-355\" visibility=\"hidden\" gadfly:scale=\"5.0\">-1.6</text>\n",
       "    <text x=\"18.74\" y=\"165.06\" text-anchor=\"end\" dy=\"0.35em\" id=\"img-c54ac09e-356\" visibility=\"hidden\" gadfly:scale=\"5.0\">-1.4</text>\n",
       "    <text x=\"18.74\" y=\"151.89\" text-anchor=\"end\" dy=\"0.35em\" id=\"img-c54ac09e-357\" visibility=\"hidden\" gadfly:scale=\"5.0\">-1.2</text>\n",
       "    <text x=\"18.74\" y=\"138.72\" text-anchor=\"end\" dy=\"0.35em\" id=\"img-c54ac09e-358\" visibility=\"hidden\" gadfly:scale=\"5.0\">-1.0</text>\n",
       "    <text x=\"18.74\" y=\"125.54\" text-anchor=\"end\" dy=\"0.35em\" id=\"img-c54ac09e-359\" visibility=\"hidden\" gadfly:scale=\"5.0\">-0.8</text>\n",
       "    <text x=\"18.74\" y=\"112.37\" text-anchor=\"end\" dy=\"0.35em\" id=\"img-c54ac09e-360\" visibility=\"hidden\" gadfly:scale=\"5.0\">-0.6</text>\n",
       "    <text x=\"18.74\" y=\"99.2\" text-anchor=\"end\" dy=\"0.35em\" id=\"img-c54ac09e-361\" visibility=\"hidden\" gadfly:scale=\"5.0\">-0.4</text>\n",
       "    <text x=\"18.74\" y=\"86.03\" text-anchor=\"end\" dy=\"0.35em\" id=\"img-c54ac09e-362\" visibility=\"hidden\" gadfly:scale=\"5.0\">-0.2</text>\n",
       "    <text x=\"18.74\" y=\"72.86\" text-anchor=\"end\" dy=\"0.35em\" id=\"img-c54ac09e-363\" visibility=\"hidden\" gadfly:scale=\"5.0\">0.0</text>\n",
       "    <text x=\"18.74\" y=\"59.69\" text-anchor=\"end\" dy=\"0.35em\" id=\"img-c54ac09e-364\" visibility=\"hidden\" gadfly:scale=\"5.0\">0.2</text>\n",
       "    <text x=\"18.74\" y=\"46.51\" text-anchor=\"end\" dy=\"0.35em\" id=\"img-c54ac09e-365\" visibility=\"hidden\" gadfly:scale=\"5.0\">0.4</text>\n",
       "    <text x=\"18.74\" y=\"33.34\" text-anchor=\"end\" dy=\"0.35em\" id=\"img-c54ac09e-366\" visibility=\"hidden\" gadfly:scale=\"5.0\">0.6</text>\n",
       "    <text x=\"18.74\" y=\"20.17\" text-anchor=\"end\" dy=\"0.35em\" id=\"img-c54ac09e-367\" visibility=\"hidden\" gadfly:scale=\"5.0\">0.8</text>\n",
       "    <text x=\"18.74\" y=\"7\" text-anchor=\"end\" dy=\"0.35em\" id=\"img-c54ac09e-368\" visibility=\"hidden\" gadfly:scale=\"5.0\">1.0</text>\n",
       "    <text x=\"18.74\" y=\"-6.17\" text-anchor=\"end\" dy=\"0.35em\" id=\"img-c54ac09e-369\" visibility=\"hidden\" gadfly:scale=\"5.0\">1.2</text>\n",
       "    <text x=\"18.74\" y=\"-19.34\" text-anchor=\"end\" dy=\"0.35em\" id=\"img-c54ac09e-370\" visibility=\"hidden\" gadfly:scale=\"5.0\">1.4</text>\n",
       "    <text x=\"18.74\" y=\"-32.51\" text-anchor=\"end\" dy=\"0.35em\" id=\"img-c54ac09e-371\" visibility=\"hidden\" gadfly:scale=\"5.0\">1.6</text>\n",
       "    <text x=\"18.74\" y=\"-45.69\" text-anchor=\"end\" dy=\"0.35em\" id=\"img-c54ac09e-372\" visibility=\"hidden\" gadfly:scale=\"5.0\">1.8</text>\n",
       "    <text x=\"18.74\" y=\"-58.86\" text-anchor=\"end\" dy=\"0.35em\" id=\"img-c54ac09e-373\" visibility=\"hidden\" gadfly:scale=\"5.0\">2.0</text>\n",
       "    <text x=\"18.74\" y=\"-72.03\" text-anchor=\"end\" dy=\"0.35em\" id=\"img-c54ac09e-374\" visibility=\"hidden\" gadfly:scale=\"5.0\">2.2</text>\n",
       "    <text x=\"18.74\" y=\"-85.2\" text-anchor=\"end\" dy=\"0.35em\" id=\"img-c54ac09e-375\" visibility=\"hidden\" gadfly:scale=\"5.0\">2.4</text>\n",
       "    <text x=\"18.74\" y=\"-98.37\" text-anchor=\"end\" dy=\"0.35em\" id=\"img-c54ac09e-376\" visibility=\"hidden\" gadfly:scale=\"5.0\">2.6</text>\n",
       "    <text x=\"18.74\" y=\"-111.54\" text-anchor=\"end\" dy=\"0.35em\" id=\"img-c54ac09e-377\" visibility=\"hidden\" gadfly:scale=\"5.0\">2.8</text>\n",
       "    <text x=\"18.74\" y=\"-124.72\" text-anchor=\"end\" dy=\"0.35em\" id=\"img-c54ac09e-378\" visibility=\"hidden\" gadfly:scale=\"5.0\">3.0</text>\n",
       "  </g>\n",
       "  <g font-size=\"3.88\" font-family=\"'PT Sans','Helvetica Neue','Helvetica',sans-serif\" fill=\"#564A55\" stroke=\"#000000\" stroke-opacity=\"0.000\" id=\"img-c54ac09e-379\">\n",
       "    <text x=\"8.81\" y=\"70.86\" text-anchor=\"middle\" dy=\"0.35em\" transform=\"rotate(-90, 8.81, 72.86)\" id=\"img-c54ac09e-380\">f(x)</text>\n",
       "  </g>\n",
       "</g>\n",
       "<defs>\n",
       "  <clipPath id=\"img-c54ac09e-13\">\n",
       "  <path d=\"M19.75,5 L 226.16 5 226.16 140.72 19.75 140.72\" />\n",
       "</clipPath>\n",
       "</defs>\n",
       "<script> <![CDATA[\n",
       "(function(N){var k=/[\\.\\/]/,L=/\\s*,\\s*/,C=function(a,d){return a-d},a,v,y={n:{}},M=function(){for(var a=0,d=this.length;a<d;a++)if(\"undefined\"!=typeof this[a])return this[a]},A=function(){for(var a=this.length;--a;)if(\"undefined\"!=typeof this[a])return this[a]},w=function(k,d){k=String(k);var f=v,n=Array.prototype.slice.call(arguments,2),u=w.listeners(k),p=0,b,q=[],e={},l=[],r=a;l.firstDefined=M;l.lastDefined=A;a=k;for(var s=v=0,x=u.length;s<x;s++)\"zIndex\"in u[s]&&(q.push(u[s].zIndex),0>u[s].zIndex&&\n",
       "(e[u[s].zIndex]=u[s]));for(q.sort(C);0>q[p];)if(b=e[q[p++] ],l.push(b.apply(d,n)),v)return v=f,l;for(s=0;s<x;s++)if(b=u[s],\"zIndex\"in b)if(b.zIndex==q[p]){l.push(b.apply(d,n));if(v)break;do if(p++,(b=e[q[p] ])&&l.push(b.apply(d,n)),v)break;while(b)}else e[b.zIndex]=b;else if(l.push(b.apply(d,n)),v)break;v=f;a=r;return l};w._events=y;w.listeners=function(a){a=a.split(k);var d=y,f,n,u,p,b,q,e,l=[d],r=[];u=0;for(p=a.length;u<p;u++){e=[];b=0;for(q=l.length;b<q;b++)for(d=l[b].n,f=[d[a[u] ],d[\"*\"] ],n=2;n--;)if(d=\n",
       "f[n])e.push(d),r=r.concat(d.f||[]);l=e}return r};w.on=function(a,d){a=String(a);if(\"function\"!=typeof d)return function(){};for(var f=a.split(L),n=0,u=f.length;n<u;n++)(function(a){a=a.split(k);for(var b=y,f,e=0,l=a.length;e<l;e++)b=b.n,b=b.hasOwnProperty(a[e])&&b[a[e] ]||(b[a[e] ]={n:{}});b.f=b.f||[];e=0;for(l=b.f.length;e<l;e++)if(b.f[e]==d){f=!0;break}!f&&b.f.push(d)})(f[n]);return function(a){+a==+a&&(d.zIndex=+a)}};w.f=function(a){var d=[].slice.call(arguments,1);return function(){w.apply(null,\n",
       "[a,null].concat(d).concat([].slice.call(arguments,0)))}};w.stop=function(){v=1};w.nt=function(k){return k?(new RegExp(\"(?:\\\\.|\\\\/|^)\"+k+\"(?:\\\\.|\\\\/|$)\")).test(a):a};w.nts=function(){return a.split(k)};w.off=w.unbind=function(a,d){if(a){var f=a.split(L);if(1<f.length)for(var n=0,u=f.length;n<u;n++)w.off(f[n],d);else{for(var f=a.split(k),p,b,q,e,l=[y],n=0,u=f.length;n<u;n++)for(e=0;e<l.length;e+=q.length-2){q=[e,1];p=l[e].n;if(\"*\"!=f[n])p[f[n] ]&&q.push(p[f[n] ]);else for(b in p)p.hasOwnProperty(b)&&\n",
       "q.push(p[b]);l.splice.apply(l,q)}n=0;for(u=l.length;n<u;n++)for(p=l[n];p.n;){if(d){if(p.f){e=0;for(f=p.f.length;e<f;e++)if(p.f[e]==d){p.f.splice(e,1);break}!p.f.length&&delete p.f}for(b in p.n)if(p.n.hasOwnProperty(b)&&p.n[b].f){q=p.n[b].f;e=0;for(f=q.length;e<f;e++)if(q[e]==d){q.splice(e,1);break}!q.length&&delete p.n[b].f}}else for(b in delete p.f,p.n)p.n.hasOwnProperty(b)&&p.n[b].f&&delete p.n[b].f;p=p.n}}}else w._events=y={n:{}}};w.once=function(a,d){var f=function(){w.unbind(a,f);return d.apply(this,\n",
       "arguments)};return w.on(a,f)};w.version=\"0.4.2\";w.toString=function(){return\"You are running Eve 0.4.2\"};\"undefined\"!=typeof module&&module.exports?module.exports=w:\"function\"===typeof define&&define.amd?define(\"eve\",[],function(){return w}):N.eve=w})(this);\n",
       "(function(N,k){\"function\"===typeof define&&define.amd?define(\"Snap.svg\",[\"eve\"],function(L){return k(N,L)}):k(N,N.eve)})(this,function(N,k){var L=function(a){var k={},y=N.requestAnimationFrame||N.webkitRequestAnimationFrame||N.mozRequestAnimationFrame||N.oRequestAnimationFrame||N.msRequestAnimationFrame||function(a){setTimeout(a,16)},M=Array.isArray||function(a){return a instanceof Array||\"[object Array]\"==Object.prototype.toString.call(a)},A=0,w=\"M\"+(+new Date).toString(36),z=function(a){if(null==\n",
       "a)return this.s;var b=this.s-a;this.b+=this.dur*b;this.B+=this.dur*b;this.s=a},d=function(a){if(null==a)return this.spd;this.spd=a},f=function(a){if(null==a)return this.dur;this.s=this.s*a/this.dur;this.dur=a},n=function(){delete k[this.id];this.update();a(\"mina.stop.\"+this.id,this)},u=function(){this.pdif||(delete k[this.id],this.update(),this.pdif=this.get()-this.b)},p=function(){this.pdif&&(this.b=this.get()-this.pdif,delete this.pdif,k[this.id]=this)},b=function(){var a;if(M(this.start)){a=[];\n",
       "for(var b=0,e=this.start.length;b<e;b++)a[b]=+this.start[b]+(this.end[b]-this.start[b])*this.easing(this.s)}else a=+this.start+(this.end-this.start)*this.easing(this.s);this.set(a)},q=function(){var l=0,b;for(b in k)if(k.hasOwnProperty(b)){var e=k[b],f=e.get();l++;e.s=(f-e.b)/(e.dur/e.spd);1<=e.s&&(delete k[b],e.s=1,l--,function(b){setTimeout(function(){a(\"mina.finish.\"+b.id,b)})}(e));e.update()}l&&y(q)},e=function(a,r,s,x,G,h,J){a={id:w+(A++).toString(36),start:a,end:r,b:s,s:0,dur:x-s,spd:1,get:G,\n",
       "set:h,easing:J||e.linear,status:z,speed:d,duration:f,stop:n,pause:u,resume:p,update:b};k[a.id]=a;r=0;for(var K in k)if(k.hasOwnProperty(K)&&(r++,2==r))break;1==r&&y(q);return a};e.time=Date.now||function(){return+new Date};e.getById=function(a){return k[a]||null};e.linear=function(a){return a};e.easeout=function(a){return Math.pow(a,1.7)};e.easein=function(a){return Math.pow(a,0.48)};e.easeinout=function(a){if(1==a)return 1;if(0==a)return 0;var b=0.48-a/1.04,e=Math.sqrt(0.1734+b*b);a=e-b;a=Math.pow(Math.abs(a),\n",
       "1/3)*(0>a?-1:1);b=-e-b;b=Math.pow(Math.abs(b),1/3)*(0>b?-1:1);a=a+b+0.5;return 3*(1-a)*a*a+a*a*a};e.backin=function(a){return 1==a?1:a*a*(2.70158*a-1.70158)};e.backout=function(a){if(0==a)return 0;a-=1;return a*a*(2.70158*a+1.70158)+1};e.elastic=function(a){return a==!!a?a:Math.pow(2,-10*a)*Math.sin(2*(a-0.075)*Math.PI/0.3)+1};e.bounce=function(a){a<1/2.75?a*=7.5625*a:a<2/2.75?(a-=1.5/2.75,a=7.5625*a*a+0.75):a<2.5/2.75?(a-=2.25/2.75,a=7.5625*a*a+0.9375):(a-=2.625/2.75,a=7.5625*a*a+0.984375);return a};\n",
       "return N.mina=e}(\"undefined\"==typeof k?function(){}:k),C=function(){function a(c,t){if(c){if(c.tagName)return x(c);if(y(c,\"array\")&&a.set)return a.set.apply(a,c);if(c instanceof e)return c;if(null==t)return c=G.doc.querySelector(c),x(c)}return new s(null==c?\"100%\":c,null==t?\"100%\":t)}function v(c,a){if(a){\"#text\"==c&&(c=G.doc.createTextNode(a.text||\"\"));\"string\"==typeof c&&(c=v(c));if(\"string\"==typeof a)return\"xlink:\"==a.substring(0,6)?c.getAttributeNS(m,a.substring(6)):\"xml:\"==a.substring(0,4)?c.getAttributeNS(la,\n",
       "a.substring(4)):c.getAttribute(a);for(var da in a)if(a[h](da)){var b=J(a[da]);b?\"xlink:\"==da.substring(0,6)?c.setAttributeNS(m,da.substring(6),b):\"xml:\"==da.substring(0,4)?c.setAttributeNS(la,da.substring(4),b):c.setAttribute(da,b):c.removeAttribute(da)}}else c=G.doc.createElementNS(la,c);return c}function y(c,a){a=J.prototype.toLowerCase.call(a);return\"finite\"==a?isFinite(c):\"array\"==a&&(c instanceof Array||Array.isArray&&Array.isArray(c))?!0:\"null\"==a&&null===c||a==typeof c&&null!==c||\"object\"==\n",
       "a&&c===Object(c)||$.call(c).slice(8,-1).toLowerCase()==a}function M(c){if(\"function\"==typeof c||Object(c)!==c)return c;var a=new c.constructor,b;for(b in c)c[h](b)&&(a[b]=M(c[b]));return a}function A(c,a,b){function m(){var e=Array.prototype.slice.call(arguments,0),f=e.join(\"\\u2400\"),d=m.cache=m.cache||{},l=m.count=m.count||[];if(d[h](f)){a:for(var e=l,l=f,B=0,H=e.length;B<H;B++)if(e[B]===l){e.push(e.splice(B,1)[0]);break a}return b?b(d[f]):d[f]}1E3<=l.length&&delete d[l.shift()];l.push(f);d[f]=c.apply(a,\n",
       "e);return b?b(d[f]):d[f]}return m}function w(c,a,b,m,e,f){return null==e?(c-=b,a-=m,c||a?(180*I.atan2(-a,-c)/C+540)%360:0):w(c,a,e,f)-w(b,m,e,f)}function z(c){return c%360*C/180}function d(c){var a=[];c=c.replace(/(?:^|\\s)(\\w+)\\(([^)]+)\\)/g,function(c,b,m){m=m.split(/\\s*,\\s*|\\s+/);\"rotate\"==b&&1==m.length&&m.push(0,0);\"scale\"==b&&(2<m.length?m=m.slice(0,2):2==m.length&&m.push(0,0),1==m.length&&m.push(m[0],0,0));\"skewX\"==b?a.push([\"m\",1,0,I.tan(z(m[0])),1,0,0]):\"skewY\"==b?a.push([\"m\",1,I.tan(z(m[0])),\n",
       "0,1,0,0]):a.push([b.charAt(0)].concat(m));return c});return a}function f(c,t){var b=O(c),m=new a.Matrix;if(b)for(var e=0,f=b.length;e<f;e++){var h=b[e],d=h.length,B=J(h[0]).toLowerCase(),H=h[0]!=B,l=H?m.invert():0,E;\"t\"==B&&2==d?m.translate(h[1],0):\"t\"==B&&3==d?H?(d=l.x(0,0),B=l.y(0,0),H=l.x(h[1],h[2]),l=l.y(h[1],h[2]),m.translate(H-d,l-B)):m.translate(h[1],h[2]):\"r\"==B?2==d?(E=E||t,m.rotate(h[1],E.x+E.width/2,E.y+E.height/2)):4==d&&(H?(H=l.x(h[2],h[3]),l=l.y(h[2],h[3]),m.rotate(h[1],H,l)):m.rotate(h[1],\n",
       "h[2],h[3])):\"s\"==B?2==d||3==d?(E=E||t,m.scale(h[1],h[d-1],E.x+E.width/2,E.y+E.height/2)):4==d?H?(H=l.x(h[2],h[3]),l=l.y(h[2],h[3]),m.scale(h[1],h[1],H,l)):m.scale(h[1],h[1],h[2],h[3]):5==d&&(H?(H=l.x(h[3],h[4]),l=l.y(h[3],h[4]),m.scale(h[1],h[2],H,l)):m.scale(h[1],h[2],h[3],h[4])):\"m\"==B&&7==d&&m.add(h[1],h[2],h[3],h[4],h[5],h[6])}return m}function n(c,t){if(null==t){var m=!0;t=\"linearGradient\"==c.type||\"radialGradient\"==c.type?c.node.getAttribute(\"gradientTransform\"):\"pattern\"==c.type?c.node.getAttribute(\"patternTransform\"):\n",
       "c.node.getAttribute(\"transform\");if(!t)return new a.Matrix;t=d(t)}else t=a._.rgTransform.test(t)?J(t).replace(/\\.{3}|\\u2026/g,c._.transform||aa):d(t),y(t,\"array\")&&(t=a.path?a.path.toString.call(t):J(t)),c._.transform=t;var b=f(t,c.getBBox(1));if(m)return b;c.matrix=b}function u(c){c=c.node.ownerSVGElement&&x(c.node.ownerSVGElement)||c.node.parentNode&&x(c.node.parentNode)||a.select(\"svg\")||a(0,0);var t=c.select(\"defs\"),t=null==t?!1:t.node;t||(t=r(\"defs\",c.node).node);return t}function p(c){return c.node.ownerSVGElement&&\n",
       "x(c.node.ownerSVGElement)||a.select(\"svg\")}function b(c,a,m){function b(c){if(null==c)return aa;if(c==+c)return c;v(B,{width:c});try{return B.getBBox().width}catch(a){return 0}}function h(c){if(null==c)return aa;if(c==+c)return c;v(B,{height:c});try{return B.getBBox().height}catch(a){return 0}}function e(b,B){null==a?d[b]=B(c.attr(b)||0):b==a&&(d=B(null==m?c.attr(b)||0:m))}var f=p(c).node,d={},B=f.querySelector(\".svg---mgr\");B||(B=v(\"rect\"),v(B,{x:-9E9,y:-9E9,width:10,height:10,\"class\":\"svg---mgr\",\n",
       "fill:\"none\"}),f.appendChild(B));switch(c.type){case \"rect\":e(\"rx\",b),e(\"ry\",h);case \"image\":e(\"width\",b),e(\"height\",h);case \"text\":e(\"x\",b);e(\"y\",h);break;case \"circle\":e(\"cx\",b);e(\"cy\",h);e(\"r\",b);break;case \"ellipse\":e(\"cx\",b);e(\"cy\",h);e(\"rx\",b);e(\"ry\",h);break;case \"line\":e(\"x1\",b);e(\"x2\",b);e(\"y1\",h);e(\"y2\",h);break;case \"marker\":e(\"refX\",b);e(\"markerWidth\",b);e(\"refY\",h);e(\"markerHeight\",h);break;case \"radialGradient\":e(\"fx\",b);e(\"fy\",h);break;case \"tspan\":e(\"dx\",b);e(\"dy\",h);break;default:e(a,\n",
       "b)}f.removeChild(B);return d}function q(c){y(c,\"array\")||(c=Array.prototype.slice.call(arguments,0));for(var a=0,b=0,m=this.node;this[a];)delete this[a++];for(a=0;a<c.length;a++)\"set\"==c[a].type?c[a].forEach(function(c){m.appendChild(c.node)}):m.appendChild(c[a].node);for(var h=m.childNodes,a=0;a<h.length;a++)this[b++]=x(h[a]);return this}function e(c){if(c.snap in E)return E[c.snap];var a=this.id=V(),b;try{b=c.ownerSVGElement}catch(m){}this.node=c;b&&(this.paper=new s(b));this.type=c.tagName;this.anims=\n",
       "{};this._={transform:[]};c.snap=a;E[a]=this;\"g\"==this.type&&(this.add=q);if(this.type in{g:1,mask:1,pattern:1})for(var e in s.prototype)s.prototype[h](e)&&(this[e]=s.prototype[e])}function l(c){this.node=c}function r(c,a){var b=v(c);a.appendChild(b);return x(b)}function s(c,a){var b,m,f,d=s.prototype;if(c&&\"svg\"==c.tagName){if(c.snap in E)return E[c.snap];var l=c.ownerDocument;b=new e(c);m=c.getElementsByTagName(\"desc\")[0];f=c.getElementsByTagName(\"defs\")[0];m||(m=v(\"desc\"),m.appendChild(l.createTextNode(\"Created with Snap\")),\n",
       "b.node.appendChild(m));f||(f=v(\"defs\"),b.node.appendChild(f));b.defs=f;for(var ca in d)d[h](ca)&&(b[ca]=d[ca]);b.paper=b.root=b}else b=r(\"svg\",G.doc.body),v(b.node,{height:a,version:1.1,width:c,xmlns:la});return b}function x(c){return!c||c instanceof e||c instanceof l?c:c.tagName&&\"svg\"==c.tagName.toLowerCase()?new s(c):c.tagName&&\"object\"==c.tagName.toLowerCase()&&\"image/svg+xml\"==c.type?new s(c.contentDocument.getElementsByTagName(\"svg\")[0]):new e(c)}a.version=\"0.3.0\";a.toString=function(){return\"Snap v\"+\n",
       "this.version};a._={};var G={win:N,doc:N.document};a._.glob=G;var h=\"hasOwnProperty\",J=String,K=parseFloat,U=parseInt,I=Math,P=I.max,Q=I.min,Y=I.abs,C=I.PI,aa=\"\",$=Object.prototype.toString,F=/^\\s*((#[a-f\\d]{6})|(#[a-f\\d]{3})|rgba?\\(\\s*([\\d\\.]+%?\\s*,\\s*[\\d\\.]+%?\\s*,\\s*[\\d\\.]+%?(?:\\s*,\\s*[\\d\\.]+%?)?)\\s*\\)|hsba?\\(\\s*([\\d\\.]+(?:deg|\\xb0|%)?\\s*,\\s*[\\d\\.]+%?\\s*,\\s*[\\d\\.]+(?:%?\\s*,\\s*[\\d\\.]+)?%?)\\s*\\)|hsla?\\(\\s*([\\d\\.]+(?:deg|\\xb0|%)?\\s*,\\s*[\\d\\.]+%?\\s*,\\s*[\\d\\.]+(?:%?\\s*,\\s*[\\d\\.]+)?%?)\\s*\\))\\s*$/i;a._.separator=\n",
       "RegExp(\"[,\\t\\n\\x0B\\f\\r \\u00a0\\u1680\\u180e\\u2000\\u2001\\u2002\\u2003\\u2004\\u2005\\u2006\\u2007\\u2008\\u2009\\u200a\\u202f\\u205f\\u3000\\u2028\\u2029]+\");var S=RegExp(\"[\\t\\n\\x0B\\f\\r \\u00a0\\u1680\\u180e\\u2000\\u2001\\u2002\\u2003\\u2004\\u2005\\u2006\\u2007\\u2008\\u2009\\u200a\\u202f\\u205f\\u3000\\u2028\\u2029]*,[\\t\\n\\x0B\\f\\r \\u00a0\\u1680\\u180e\\u2000\\u2001\\u2002\\u2003\\u2004\\u2005\\u2006\\u2007\\u2008\\u2009\\u200a\\u202f\\u205f\\u3000\\u2028\\u2029]*\"),X={hs:1,rg:1},W=RegExp(\"([a-z])[\\t\\n\\x0B\\f\\r \\u00a0\\u1680\\u180e\\u2000\\u2001\\u2002\\u2003\\u2004\\u2005\\u2006\\u2007\\u2008\\u2009\\u200a\\u202f\\u205f\\u3000\\u2028\\u2029,]*((-?\\\\d*\\\\.?\\\\d*(?:e[\\\\-+]?\\\\d+)?[\\t\\n\\x0B\\f\\r \\u00a0\\u1680\\u180e\\u2000\\u2001\\u2002\\u2003\\u2004\\u2005\\u2006\\u2007\\u2008\\u2009\\u200a\\u202f\\u205f\\u3000\\u2028\\u2029]*,?[\\t\\n\\x0B\\f\\r \\u00a0\\u1680\\u180e\\u2000\\u2001\\u2002\\u2003\\u2004\\u2005\\u2006\\u2007\\u2008\\u2009\\u200a\\u202f\\u205f\\u3000\\u2028\\u2029]*)+)\",\n",
       "\"ig\"),ma=RegExp(\"([rstm])[\\t\\n\\x0B\\f\\r \\u00a0\\u1680\\u180e\\u2000\\u2001\\u2002\\u2003\\u2004\\u2005\\u2006\\u2007\\u2008\\u2009\\u200a\\u202f\\u205f\\u3000\\u2028\\u2029,]*((-?\\\\d*\\\\.?\\\\d*(?:e[\\\\-+]?\\\\d+)?[\\t\\n\\x0B\\f\\r \\u00a0\\u1680\\u180e\\u2000\\u2001\\u2002\\u2003\\u2004\\u2005\\u2006\\u2007\\u2008\\u2009\\u200a\\u202f\\u205f\\u3000\\u2028\\u2029]*,?[\\t\\n\\x0B\\f\\r \\u00a0\\u1680\\u180e\\u2000\\u2001\\u2002\\u2003\\u2004\\u2005\\u2006\\u2007\\u2008\\u2009\\u200a\\u202f\\u205f\\u3000\\u2028\\u2029]*)+)\",\"ig\"),Z=RegExp(\"(-?\\\\d*\\\\.?\\\\d*(?:e[\\\\-+]?\\\\d+)?)[\\t\\n\\x0B\\f\\r \\u00a0\\u1680\\u180e\\u2000\\u2001\\u2002\\u2003\\u2004\\u2005\\u2006\\u2007\\u2008\\u2009\\u200a\\u202f\\u205f\\u3000\\u2028\\u2029]*,?[\\t\\n\\x0B\\f\\r \\u00a0\\u1680\\u180e\\u2000\\u2001\\u2002\\u2003\\u2004\\u2005\\u2006\\u2007\\u2008\\u2009\\u200a\\u202f\\u205f\\u3000\\u2028\\u2029]*\",\n",
       "\"ig\"),na=0,ba=\"S\"+(+new Date).toString(36),V=function(){return ba+(na++).toString(36)},m=\"http://www.w3.org/1999/xlink\",la=\"http://www.w3.org/2000/svg\",E={},ca=a.url=function(c){return\"url('#\"+c+\"')\"};a._.$=v;a._.id=V;a.format=function(){var c=/\\{([^\\}]+)\\}/g,a=/(?:(?:^|\\.)(.+?)(?=\\[|\\.|$|\\()|\\[('|\")(.+?)\\2\\])(\\(\\))?/g,b=function(c,b,m){var h=m;b.replace(a,function(c,a,b,m,t){a=a||m;h&&(a in h&&(h=h[a]),\"function\"==typeof h&&t&&(h=h()))});return h=(null==h||h==m?c:h)+\"\"};return function(a,m){return J(a).replace(c,\n",
       "function(c,a){return b(c,a,m)})}}();a._.clone=M;a._.cacher=A;a.rad=z;a.deg=function(c){return 180*c/C%360};a.angle=w;a.is=y;a.snapTo=function(c,a,b){b=y(b,\"finite\")?b:10;if(y(c,\"array\"))for(var m=c.length;m--;){if(Y(c[m]-a)<=b)return c[m]}else{c=+c;m=a%c;if(m<b)return a-m;if(m>c-b)return a-m+c}return a};a.getRGB=A(function(c){if(!c||(c=J(c)).indexOf(\"-\")+1)return{r:-1,g:-1,b:-1,hex:\"none\",error:1,toString:ka};if(\"none\"==c)return{r:-1,g:-1,b:-1,hex:\"none\",toString:ka};!X[h](c.toLowerCase().substring(0,\n",
       "2))&&\"#\"!=c.charAt()&&(c=T(c));if(!c)return{r:-1,g:-1,b:-1,hex:\"none\",error:1,toString:ka};var b,m,e,f,d;if(c=c.match(F)){c[2]&&(e=U(c[2].substring(5),16),m=U(c[2].substring(3,5),16),b=U(c[2].substring(1,3),16));c[3]&&(e=U((d=c[3].charAt(3))+d,16),m=U((d=c[3].charAt(2))+d,16),b=U((d=c[3].charAt(1))+d,16));c[4]&&(d=c[4].split(S),b=K(d[0]),\"%\"==d[0].slice(-1)&&(b*=2.55),m=K(d[1]),\"%\"==d[1].slice(-1)&&(m*=2.55),e=K(d[2]),\"%\"==d[2].slice(-1)&&(e*=2.55),\"rgba\"==c[1].toLowerCase().slice(0,4)&&(f=K(d[3])),\n",
       "d[3]&&\"%\"==d[3].slice(-1)&&(f/=100));if(c[5])return d=c[5].split(S),b=K(d[0]),\"%\"==d[0].slice(-1)&&(b/=100),m=K(d[1]),\"%\"==d[1].slice(-1)&&(m/=100),e=K(d[2]),\"%\"==d[2].slice(-1)&&(e/=100),\"deg\"!=d[0].slice(-3)&&\"\\u00b0\"!=d[0].slice(-1)||(b/=360),\"hsba\"==c[1].toLowerCase().slice(0,4)&&(f=K(d[3])),d[3]&&\"%\"==d[3].slice(-1)&&(f/=100),a.hsb2rgb(b,m,e,f);if(c[6])return d=c[6].split(S),b=K(d[0]),\"%\"==d[0].slice(-1)&&(b/=100),m=K(d[1]),\"%\"==d[1].slice(-1)&&(m/=100),e=K(d[2]),\"%\"==d[2].slice(-1)&&(e/=100),\n",
       "\"deg\"!=d[0].slice(-3)&&\"\\u00b0\"!=d[0].slice(-1)||(b/=360),\"hsla\"==c[1].toLowerCase().slice(0,4)&&(f=K(d[3])),d[3]&&\"%\"==d[3].slice(-1)&&(f/=100),a.hsl2rgb(b,m,e,f);b=Q(I.round(b),255);m=Q(I.round(m),255);e=Q(I.round(e),255);f=Q(P(f,0),1);c={r:b,g:m,b:e,toString:ka};c.hex=\"#\"+(16777216|e|m<<8|b<<16).toString(16).slice(1);c.opacity=y(f,\"finite\")?f:1;return c}return{r:-1,g:-1,b:-1,hex:\"none\",error:1,toString:ka}},a);a.hsb=A(function(c,b,m){return a.hsb2rgb(c,b,m).hex});a.hsl=A(function(c,b,m){return a.hsl2rgb(c,\n",
       "b,m).hex});a.rgb=A(function(c,a,b,m){if(y(m,\"finite\")){var e=I.round;return\"rgba(\"+[e(c),e(a),e(b),+m.toFixed(2)]+\")\"}return\"#\"+(16777216|b|a<<8|c<<16).toString(16).slice(1)});var T=function(c){var a=G.doc.getElementsByTagName(\"head\")[0]||G.doc.getElementsByTagName(\"svg\")[0];T=A(function(c){if(\"red\"==c.toLowerCase())return\"rgb(255, 0, 0)\";a.style.color=\"rgb(255, 0, 0)\";a.style.color=c;c=G.doc.defaultView.getComputedStyle(a,aa).getPropertyValue(\"color\");return\"rgb(255, 0, 0)\"==c?null:c});return T(c)},\n",
       "qa=function(){return\"hsb(\"+[this.h,this.s,this.b]+\")\"},ra=function(){return\"hsl(\"+[this.h,this.s,this.l]+\")\"},ka=function(){return 1==this.opacity||null==this.opacity?this.hex:\"rgba(\"+[this.r,this.g,this.b,this.opacity]+\")\"},D=function(c,b,m){null==b&&y(c,\"object\")&&\"r\"in c&&\"g\"in c&&\"b\"in c&&(m=c.b,b=c.g,c=c.r);null==b&&y(c,string)&&(m=a.getRGB(c),c=m.r,b=m.g,m=m.b);if(1<c||1<b||1<m)c/=255,b/=255,m/=255;return[c,b,m]},oa=function(c,b,m,e){c=I.round(255*c);b=I.round(255*b);m=I.round(255*m);c={r:c,\n",
       "g:b,b:m,opacity:y(e,\"finite\")?e:1,hex:a.rgb(c,b,m),toString:ka};y(e,\"finite\")&&(c.opacity=e);return c};a.color=function(c){var b;y(c,\"object\")&&\"h\"in c&&\"s\"in c&&\"b\"in c?(b=a.hsb2rgb(c),c.r=b.r,c.g=b.g,c.b=b.b,c.opacity=1,c.hex=b.hex):y(c,\"object\")&&\"h\"in c&&\"s\"in c&&\"l\"in c?(b=a.hsl2rgb(c),c.r=b.r,c.g=b.g,c.b=b.b,c.opacity=1,c.hex=b.hex):(y(c,\"string\")&&(c=a.getRGB(c)),y(c,\"object\")&&\"r\"in c&&\"g\"in c&&\"b\"in c&&!(\"error\"in c)?(b=a.rgb2hsl(c),c.h=b.h,c.s=b.s,c.l=b.l,b=a.rgb2hsb(c),c.v=b.b):(c={hex:\"none\"},\n",
       "c.r=c.g=c.b=c.h=c.s=c.v=c.l=-1,c.error=1));c.toString=ka;return c};a.hsb2rgb=function(c,a,b,m){y(c,\"object\")&&\"h\"in c&&\"s\"in c&&\"b\"in c&&(b=c.b,a=c.s,c=c.h,m=c.o);var e,h,d;c=360*c%360/60;d=b*a;a=d*(1-Y(c%2-1));b=e=h=b-d;c=~~c;b+=[d,a,0,0,a,d][c];e+=[a,d,d,a,0,0][c];h+=[0,0,a,d,d,a][c];return oa(b,e,h,m)};a.hsl2rgb=function(c,a,b,m){y(c,\"object\")&&\"h\"in c&&\"s\"in c&&\"l\"in c&&(b=c.l,a=c.s,c=c.h);if(1<c||1<a||1<b)c/=360,a/=100,b/=100;var e,h,d;c=360*c%360/60;d=2*a*(0.5>b?b:1-b);a=d*(1-Y(c%2-1));b=e=\n",
       "h=b-d/2;c=~~c;b+=[d,a,0,0,a,d][c];e+=[a,d,d,a,0,0][c];h+=[0,0,a,d,d,a][c];return oa(b,e,h,m)};a.rgb2hsb=function(c,a,b){b=D(c,a,b);c=b[0];a=b[1];b=b[2];var m,e;m=P(c,a,b);e=m-Q(c,a,b);c=((0==e?0:m==c?(a-b)/e:m==a?(b-c)/e+2:(c-a)/e+4)+360)%6*60/360;return{h:c,s:0==e?0:e/m,b:m,toString:qa}};a.rgb2hsl=function(c,a,b){b=D(c,a,b);c=b[0];a=b[1];b=b[2];var m,e,h;m=P(c,a,b);e=Q(c,a,b);h=m-e;c=((0==h?0:m==c?(a-b)/h:m==a?(b-c)/h+2:(c-a)/h+4)+360)%6*60/360;m=(m+e)/2;return{h:c,s:0==h?0:0.5>m?h/(2*m):h/(2-2*\n",
       "m),l:m,toString:ra}};a.parsePathString=function(c){if(!c)return null;var b=a.path(c);if(b.arr)return a.path.clone(b.arr);var m={a:7,c:6,o:2,h:1,l:2,m:2,r:4,q:4,s:4,t:2,v:1,u:3,z:0},e=[];y(c,\"array\")&&y(c[0],\"array\")&&(e=a.path.clone(c));e.length||J(c).replace(W,function(c,a,b){var h=[];c=a.toLowerCase();b.replace(Z,function(c,a){a&&h.push(+a)});\"m\"==c&&2<h.length&&(e.push([a].concat(h.splice(0,2))),c=\"l\",a=\"m\"==a?\"l\":\"L\");\"o\"==c&&1==h.length&&e.push([a,h[0] ]);if(\"r\"==c)e.push([a].concat(h));else for(;h.length>=\n",
       "m[c]&&(e.push([a].concat(h.splice(0,m[c]))),m[c]););});e.toString=a.path.toString;b.arr=a.path.clone(e);return e};var O=a.parseTransformString=function(c){if(!c)return null;var b=[];y(c,\"array\")&&y(c[0],\"array\")&&(b=a.path.clone(c));b.length||J(c).replace(ma,function(c,a,m){var e=[];a.toLowerCase();m.replace(Z,function(c,a){a&&e.push(+a)});b.push([a].concat(e))});b.toString=a.path.toString;return b};a._.svgTransform2string=d;a._.rgTransform=RegExp(\"^[a-z][\\t\\n\\x0B\\f\\r \\u00a0\\u1680\\u180e\\u2000\\u2001\\u2002\\u2003\\u2004\\u2005\\u2006\\u2007\\u2008\\u2009\\u200a\\u202f\\u205f\\u3000\\u2028\\u2029]*-?\\\\.?\\\\d\",\n",
       "\"i\");a._.transform2matrix=f;a._unit2px=b;a._.getSomeDefs=u;a._.getSomeSVG=p;a.select=function(c){return x(G.doc.querySelector(c))};a.selectAll=function(c){c=G.doc.querySelectorAll(c);for(var b=(a.set||Array)(),m=0;m<c.length;m++)b.push(x(c[m]));return b};setInterval(function(){for(var c in E)if(E[h](c)){var a=E[c],b=a.node;(\"svg\"!=a.type&&!b.ownerSVGElement||\"svg\"==a.type&&(!b.parentNode||\"ownerSVGElement\"in b.parentNode&&!b.ownerSVGElement))&&delete E[c]}},1E4);(function(c){function m(c){function a(c,\n",
       "b){var m=v(c.node,b);(m=(m=m&&m.match(d))&&m[2])&&\"#\"==m.charAt()&&(m=m.substring(1))&&(f[m]=(f[m]||[]).concat(function(a){var m={};m[b]=ca(a);v(c.node,m)}))}function b(c){var a=v(c.node,\"xlink:href\");a&&\"#\"==a.charAt()&&(a=a.substring(1))&&(f[a]=(f[a]||[]).concat(function(a){c.attr(\"xlink:href\",\"#\"+a)}))}var e=c.selectAll(\"*\"),h,d=/^\\s*url\\((\"|'|)(.*)\\1\\)\\s*$/;c=[];for(var f={},l=0,E=e.length;l<E;l++){h=e[l];a(h,\"fill\");a(h,\"stroke\");a(h,\"filter\");a(h,\"mask\");a(h,\"clip-path\");b(h);var t=v(h.node,\n",
       "\"id\");t&&(v(h.node,{id:h.id}),c.push({old:t,id:h.id}))}l=0;for(E=c.length;l<E;l++)if(e=f[c[l].old])for(h=0,t=e.length;h<t;h++)e[h](c[l].id)}function e(c,a,b){return function(m){m=m.slice(c,a);1==m.length&&(m=m[0]);return b?b(m):m}}function d(c){return function(){var a=c?\"<\"+this.type:\"\",b=this.node.attributes,m=this.node.childNodes;if(c)for(var e=0,h=b.length;e<h;e++)a+=\" \"+b[e].name+'=\"'+b[e].value.replace(/\"/g,'\\\\\"')+'\"';if(m.length){c&&(a+=\">\");e=0;for(h=m.length;e<h;e++)3==m[e].nodeType?a+=m[e].nodeValue:\n",
       "1==m[e].nodeType&&(a+=x(m[e]).toString());c&&(a+=\"</\"+this.type+\">\")}else c&&(a+=\"/>\");return a}}c.attr=function(c,a){if(!c)return this;if(y(c,\"string\"))if(1<arguments.length){var b={};b[c]=a;c=b}else return k(\"snap.util.getattr.\"+c,this).firstDefined();for(var m in c)c[h](m)&&k(\"snap.util.attr.\"+m,this,c[m]);return this};c.getBBox=function(c){if(!a.Matrix||!a.path)return this.node.getBBox();var b=this,m=new a.Matrix;if(b.removed)return a._.box();for(;\"use\"==b.type;)if(c||(m=m.add(b.transform().localMatrix.translate(b.attr(\"x\")||\n",
       "0,b.attr(\"y\")||0))),b.original)b=b.original;else var e=b.attr(\"xlink:href\"),b=b.original=b.node.ownerDocument.getElementById(e.substring(e.indexOf(\"#\")+1));var e=b._,h=a.path.get[b.type]||a.path.get.deflt;try{if(c)return e.bboxwt=h?a.path.getBBox(b.realPath=h(b)):a._.box(b.node.getBBox()),a._.box(e.bboxwt);b.realPath=h(b);b.matrix=b.transform().localMatrix;e.bbox=a.path.getBBox(a.path.map(b.realPath,m.add(b.matrix)));return a._.box(e.bbox)}catch(d){return a._.box()}};var f=function(){return this.string};\n",
       "c.transform=function(c){var b=this._;if(null==c){var m=this;c=new a.Matrix(this.node.getCTM());for(var e=n(this),h=[e],d=new a.Matrix,l=e.toTransformString(),b=J(e)==J(this.matrix)?J(b.transform):l;\"svg\"!=m.type&&(m=m.parent());)h.push(n(m));for(m=h.length;m--;)d.add(h[m]);return{string:b,globalMatrix:c,totalMatrix:d,localMatrix:e,diffMatrix:c.clone().add(e.invert()),global:c.toTransformString(),total:d.toTransformString(),local:l,toString:f}}c instanceof a.Matrix?this.matrix=c:n(this,c);this.node&&\n",
       "(\"linearGradient\"==this.type||\"radialGradient\"==this.type?v(this.node,{gradientTransform:this.matrix}):\"pattern\"==this.type?v(this.node,{patternTransform:this.matrix}):v(this.node,{transform:this.matrix}));return this};c.parent=function(){return x(this.node.parentNode)};c.append=c.add=function(c){if(c){if(\"set\"==c.type){var a=this;c.forEach(function(c){a.add(c)});return this}c=x(c);this.node.appendChild(c.node);c.paper=this.paper}return this};c.appendTo=function(c){c&&(c=x(c),c.append(this));return this};\n",
       "c.prepend=function(c){if(c){if(\"set\"==c.type){var a=this,b;c.forEach(function(c){b?b.after(c):a.prepend(c);b=c});return this}c=x(c);var m=c.parent();this.node.insertBefore(c.node,this.node.firstChild);this.add&&this.add();c.paper=this.paper;this.parent()&&this.parent().add();m&&m.add()}return this};c.prependTo=function(c){c=x(c);c.prepend(this);return this};c.before=function(c){if(\"set\"==c.type){var a=this;c.forEach(function(c){var b=c.parent();a.node.parentNode.insertBefore(c.node,a.node);b&&b.add()});\n",
       "this.parent().add();return this}c=x(c);var b=c.parent();this.node.parentNode.insertBefore(c.node,this.node);this.parent()&&this.parent().add();b&&b.add();c.paper=this.paper;return this};c.after=function(c){c=x(c);var a=c.parent();this.node.nextSibling?this.node.parentNode.insertBefore(c.node,this.node.nextSibling):this.node.parentNode.appendChild(c.node);this.parent()&&this.parent().add();a&&a.add();c.paper=this.paper;return this};c.insertBefore=function(c){c=x(c);var a=this.parent();c.node.parentNode.insertBefore(this.node,\n",
       "c.node);this.paper=c.paper;a&&a.add();c.parent()&&c.parent().add();return this};c.insertAfter=function(c){c=x(c);var a=this.parent();c.node.parentNode.insertBefore(this.node,c.node.nextSibling);this.paper=c.paper;a&&a.add();c.parent()&&c.parent().add();return this};c.remove=function(){var c=this.parent();this.node.parentNode&&this.node.parentNode.removeChild(this.node);delete this.paper;this.removed=!0;c&&c.add();return this};c.select=function(c){return x(this.node.querySelector(c))};c.selectAll=\n",
       "function(c){c=this.node.querySelectorAll(c);for(var b=(a.set||Array)(),m=0;m<c.length;m++)b.push(x(c[m]));return b};c.asPX=function(c,a){null==a&&(a=this.attr(c));return+b(this,c,a)};c.use=function(){var c,a=this.node.id;a||(a=this.id,v(this.node,{id:a}));c=\"linearGradient\"==this.type||\"radialGradient\"==this.type||\"pattern\"==this.type?r(this.type,this.node.parentNode):r(\"use\",this.node.parentNode);v(c.node,{\"xlink:href\":\"#\"+a});c.original=this;return c};var l=/\\S+/g;c.addClass=function(c){var a=(c||\n",
       "\"\").match(l)||[];c=this.node;var b=c.className.baseVal,m=b.match(l)||[],e,h,d;if(a.length){for(e=0;d=a[e++];)h=m.indexOf(d),~h||m.push(d);a=m.join(\" \");b!=a&&(c.className.baseVal=a)}return this};c.removeClass=function(c){var a=(c||\"\").match(l)||[];c=this.node;var b=c.className.baseVal,m=b.match(l)||[],e,h;if(m.length){for(e=0;h=a[e++];)h=m.indexOf(h),~h&&m.splice(h,1);a=m.join(\" \");b!=a&&(c.className.baseVal=a)}return this};c.hasClass=function(c){return!!~(this.node.className.baseVal.match(l)||[]).indexOf(c)};\n",
       "c.toggleClass=function(c,a){if(null!=a)return a?this.addClass(c):this.removeClass(c);var b=(c||\"\").match(l)||[],m=this.node,e=m.className.baseVal,h=e.match(l)||[],d,f,E;for(d=0;E=b[d++];)f=h.indexOf(E),~f?h.splice(f,1):h.push(E);b=h.join(\" \");e!=b&&(m.className.baseVal=b);return this};c.clone=function(){var c=x(this.node.cloneNode(!0));v(c.node,\"id\")&&v(c.node,{id:c.id});m(c);c.insertAfter(this);return c};c.toDefs=function(){u(this).appendChild(this.node);return this};c.pattern=c.toPattern=function(c,\n",
       "a,b,m){var e=r(\"pattern\",u(this));null==c&&(c=this.getBBox());y(c,\"object\")&&\"x\"in c&&(a=c.y,b=c.width,m=c.height,c=c.x);v(e.node,{x:c,y:a,width:b,height:m,patternUnits:\"userSpaceOnUse\",id:e.id,viewBox:[c,a,b,m].join(\" \")});e.node.appendChild(this.node);return e};c.marker=function(c,a,b,m,e,h){var d=r(\"marker\",u(this));null==c&&(c=this.getBBox());y(c,\"object\")&&\"x\"in c&&(a=c.y,b=c.width,m=c.height,e=c.refX||c.cx,h=c.refY||c.cy,c=c.x);v(d.node,{viewBox:[c,a,b,m].join(\" \"),markerWidth:b,markerHeight:m,\n",
       "orient:\"auto\",refX:e||0,refY:h||0,id:d.id});d.node.appendChild(this.node);return d};var E=function(c,a,b,m){\"function\"!=typeof b||b.length||(m=b,b=L.linear);this.attr=c;this.dur=a;b&&(this.easing=b);m&&(this.callback=m)};a._.Animation=E;a.animation=function(c,a,b,m){return new E(c,a,b,m)};c.inAnim=function(){var c=[],a;for(a in this.anims)this.anims[h](a)&&function(a){c.push({anim:new E(a._attrs,a.dur,a.easing,a._callback),mina:a,curStatus:a.status(),status:function(c){return a.status(c)},stop:function(){a.stop()}})}(this.anims[a]);\n",
       "return c};a.animate=function(c,a,b,m,e,h){\"function\"!=typeof e||e.length||(h=e,e=L.linear);var d=L.time();c=L(c,a,d,d+m,L.time,b,e);h&&k.once(\"mina.finish.\"+c.id,h);return c};c.stop=function(){for(var c=this.inAnim(),a=0,b=c.length;a<b;a++)c[a].stop();return this};c.animate=function(c,a,b,m){\"function\"!=typeof b||b.length||(m=b,b=L.linear);c instanceof E&&(m=c.callback,b=c.easing,a=b.dur,c=c.attr);var d=[],f=[],l={},t,ca,n,T=this,q;for(q in c)if(c[h](q)){T.equal?(n=T.equal(q,J(c[q])),t=n.from,ca=\n",
       "n.to,n=n.f):(t=+T.attr(q),ca=+c[q]);var la=y(t,\"array\")?t.length:1;l[q]=e(d.length,d.length+la,n);d=d.concat(t);f=f.concat(ca)}t=L.time();var p=L(d,f,t,t+a,L.time,function(c){var a={},b;for(b in l)l[h](b)&&(a[b]=l[b](c));T.attr(a)},b);T.anims[p.id]=p;p._attrs=c;p._callback=m;k(\"snap.animcreated.\"+T.id,p);k.once(\"mina.finish.\"+p.id,function(){delete T.anims[p.id];m&&m.call(T)});k.once(\"mina.stop.\"+p.id,function(){delete T.anims[p.id]});return T};var T={};c.data=function(c,b){var m=T[this.id]=T[this.id]||\n",
       "{};if(0==arguments.length)return k(\"snap.data.get.\"+this.id,this,m,null),m;if(1==arguments.length){if(a.is(c,\"object\")){for(var e in c)c[h](e)&&this.data(e,c[e]);return this}k(\"snap.data.get.\"+this.id,this,m[c],c);return m[c]}m[c]=b;k(\"snap.data.set.\"+this.id,this,b,c);return this};c.removeData=function(c){null==c?T[this.id]={}:T[this.id]&&delete T[this.id][c];return this};c.outerSVG=c.toString=d(1);c.innerSVG=d()})(e.prototype);a.parse=function(c){var a=G.doc.createDocumentFragment(),b=!0,m=G.doc.createElement(\"div\");\n",
       "c=J(c);c.match(/^\\s*<\\s*svg(?:\\s|>)/)||(c=\"<svg>\"+c+\"</svg>\",b=!1);m.innerHTML=c;if(c=m.getElementsByTagName(\"svg\")[0])if(b)a=c;else for(;c.firstChild;)a.appendChild(c.firstChild);m.innerHTML=aa;return new l(a)};l.prototype.select=e.prototype.select;l.prototype.selectAll=e.prototype.selectAll;a.fragment=function(){for(var c=Array.prototype.slice.call(arguments,0),b=G.doc.createDocumentFragment(),m=0,e=c.length;m<e;m++){var h=c[m];h.node&&h.node.nodeType&&b.appendChild(h.node);h.nodeType&&b.appendChild(h);\n",
       "\"string\"==typeof h&&b.appendChild(a.parse(h).node)}return new l(b)};a._.make=r;a._.wrap=x;s.prototype.el=function(c,a){var b=r(c,this.node);a&&b.attr(a);return b};k.on(\"snap.util.getattr\",function(){var c=k.nt(),c=c.substring(c.lastIndexOf(\".\")+1),a=c.replace(/[A-Z]/g,function(c){return\"-\"+c.toLowerCase()});return pa[h](a)?this.node.ownerDocument.defaultView.getComputedStyle(this.node,null).getPropertyValue(a):v(this.node,c)});var pa={\"alignment-baseline\":0,\"baseline-shift\":0,clip:0,\"clip-path\":0,\n",
       "\"clip-rule\":0,color:0,\"color-interpolation\":0,\"color-interpolation-filters\":0,\"color-profile\":0,\"color-rendering\":0,cursor:0,direction:0,display:0,\"dominant-baseline\":0,\"enable-background\":0,fill:0,\"fill-opacity\":0,\"fill-rule\":0,filter:0,\"flood-color\":0,\"flood-opacity\":0,font:0,\"font-family\":0,\"font-size\":0,\"font-size-adjust\":0,\"font-stretch\":0,\"font-style\":0,\"font-variant\":0,\"font-weight\":0,\"glyph-orientation-horizontal\":0,\"glyph-orientation-vertical\":0,\"image-rendering\":0,kerning:0,\"letter-spacing\":0,\n",
       "\"lighting-color\":0,marker:0,\"marker-end\":0,\"marker-mid\":0,\"marker-start\":0,mask:0,opacity:0,overflow:0,\"pointer-events\":0,\"shape-rendering\":0,\"stop-color\":0,\"stop-opacity\":0,stroke:0,\"stroke-dasharray\":0,\"stroke-dashoffset\":0,\"stroke-linecap\":0,\"stroke-linejoin\":0,\"stroke-miterlimit\":0,\"stroke-opacity\":0,\"stroke-width\":0,\"text-anchor\":0,\"text-decoration\":0,\"text-rendering\":0,\"unicode-bidi\":0,visibility:0,\"word-spacing\":0,\"writing-mode\":0};k.on(\"snap.util.attr\",function(c){var a=k.nt(),b={},a=a.substring(a.lastIndexOf(\".\")+\n",
       "1);b[a]=c;var m=a.replace(/-(\\w)/gi,function(c,a){return a.toUpperCase()}),a=a.replace(/[A-Z]/g,function(c){return\"-\"+c.toLowerCase()});pa[h](a)?this.node.style[m]=null==c?aa:c:v(this.node,b)});a.ajax=function(c,a,b,m){var e=new XMLHttpRequest,h=V();if(e){if(y(a,\"function\"))m=b,b=a,a=null;else if(y(a,\"object\")){var d=[],f;for(f in a)a.hasOwnProperty(f)&&d.push(encodeURIComponent(f)+\"=\"+encodeURIComponent(a[f]));a=d.join(\"&\")}e.open(a?\"POST\":\"GET\",c,!0);a&&(e.setRequestHeader(\"X-Requested-With\",\"XMLHttpRequest\"),\n",
       "e.setRequestHeader(\"Content-type\",\"application/x-www-form-urlencoded\"));b&&(k.once(\"snap.ajax.\"+h+\".0\",b),k.once(\"snap.ajax.\"+h+\".200\",b),k.once(\"snap.ajax.\"+h+\".304\",b));e.onreadystatechange=function(){4==e.readyState&&k(\"snap.ajax.\"+h+\".\"+e.status,m,e)};if(4==e.readyState)return e;e.send(a);return e}};a.load=function(c,b,m){a.ajax(c,function(c){c=a.parse(c.responseText);m?b.call(m,c):b(c)})};a.getElementByPoint=function(c,a){var b,m,e=G.doc.elementFromPoint(c,a);if(G.win.opera&&\"svg\"==e.tagName){b=\n",
       "e;m=b.getBoundingClientRect();b=b.ownerDocument;var h=b.body,d=b.documentElement;b=m.top+(g.win.pageYOffset||d.scrollTop||h.scrollTop)-(d.clientTop||h.clientTop||0);m=m.left+(g.win.pageXOffset||d.scrollLeft||h.scrollLeft)-(d.clientLeft||h.clientLeft||0);h=e.createSVGRect();h.x=c-m;h.y=a-b;h.width=h.height=1;b=e.getIntersectionList(h,null);b.length&&(e=b[b.length-1])}return e?x(e):null};a.plugin=function(c){c(a,e,s,G,l)};return G.win.Snap=a}();C.plugin(function(a,k,y,M,A){function w(a,d,f,b,q,e){null==\n",
       "d&&\"[object SVGMatrix]\"==z.call(a)?(this.a=a.a,this.b=a.b,this.c=a.c,this.d=a.d,this.e=a.e,this.f=a.f):null!=a?(this.a=+a,this.b=+d,this.c=+f,this.d=+b,this.e=+q,this.f=+e):(this.a=1,this.c=this.b=0,this.d=1,this.f=this.e=0)}var z=Object.prototype.toString,d=String,f=Math;(function(n){function k(a){return a[0]*a[0]+a[1]*a[1]}function p(a){var d=f.sqrt(k(a));a[0]&&(a[0]/=d);a[1]&&(a[1]/=d)}n.add=function(a,d,e,f,n,p){var k=[[],[],[] ],u=[[this.a,this.c,this.e],[this.b,this.d,this.f],[0,0,1] ];d=[[a,\n",
       "e,n],[d,f,p],[0,0,1] ];a&&a instanceof w&&(d=[[a.a,a.c,a.e],[a.b,a.d,a.f],[0,0,1] ]);for(a=0;3>a;a++)for(e=0;3>e;e++){for(f=n=0;3>f;f++)n+=u[a][f]*d[f][e];k[a][e]=n}this.a=k[0][0];this.b=k[1][0];this.c=k[0][1];this.d=k[1][1];this.e=k[0][2];this.f=k[1][2];return this};n.invert=function(){var a=this.a*this.d-this.b*this.c;return new w(this.d/a,-this.b/a,-this.c/a,this.a/a,(this.c*this.f-this.d*this.e)/a,(this.b*this.e-this.a*this.f)/a)};n.clone=function(){return new w(this.a,this.b,this.c,this.d,this.e,\n",
       "this.f)};n.translate=function(a,d){return this.add(1,0,0,1,a,d)};n.scale=function(a,d,e,f){null==d&&(d=a);(e||f)&&this.add(1,0,0,1,e,f);this.add(a,0,0,d,0,0);(e||f)&&this.add(1,0,0,1,-e,-f);return this};n.rotate=function(b,d,e){b=a.rad(b);d=d||0;e=e||0;var l=+f.cos(b).toFixed(9);b=+f.sin(b).toFixed(9);this.add(l,b,-b,l,d,e);return this.add(1,0,0,1,-d,-e)};n.x=function(a,d){return a*this.a+d*this.c+this.e};n.y=function(a,d){return a*this.b+d*this.d+this.f};n.get=function(a){return+this[d.fromCharCode(97+\n",
       "a)].toFixed(4)};n.toString=function(){return\"matrix(\"+[this.get(0),this.get(1),this.get(2),this.get(3),this.get(4),this.get(5)].join()+\")\"};n.offset=function(){return[this.e.toFixed(4),this.f.toFixed(4)]};n.determinant=function(){return this.a*this.d-this.b*this.c};n.split=function(){var b={};b.dx=this.e;b.dy=this.f;var d=[[this.a,this.c],[this.b,this.d] ];b.scalex=f.sqrt(k(d[0]));p(d[0]);b.shear=d[0][0]*d[1][0]+d[0][1]*d[1][1];d[1]=[d[1][0]-d[0][0]*b.shear,d[1][1]-d[0][1]*b.shear];b.scaley=f.sqrt(k(d[1]));\n",
       "p(d[1]);b.shear/=b.scaley;0>this.determinant()&&(b.scalex=-b.scalex);var e=-d[0][1],d=d[1][1];0>d?(b.rotate=a.deg(f.acos(d)),0>e&&(b.rotate=360-b.rotate)):b.rotate=a.deg(f.asin(e));b.isSimple=!+b.shear.toFixed(9)&&(b.scalex.toFixed(9)==b.scaley.toFixed(9)||!b.rotate);b.isSuperSimple=!+b.shear.toFixed(9)&&b.scalex.toFixed(9)==b.scaley.toFixed(9)&&!b.rotate;b.noRotation=!+b.shear.toFixed(9)&&!b.rotate;return b};n.toTransformString=function(a){a=a||this.split();if(+a.shear.toFixed(9))return\"m\"+[this.get(0),\n",
       "this.get(1),this.get(2),this.get(3),this.get(4),this.get(5)];a.scalex=+a.scalex.toFixed(4);a.scaley=+a.scaley.toFixed(4);a.rotate=+a.rotate.toFixed(4);return(a.dx||a.dy?\"t\"+[+a.dx.toFixed(4),+a.dy.toFixed(4)]:\"\")+(1!=a.scalex||1!=a.scaley?\"s\"+[a.scalex,a.scaley,0,0]:\"\")+(a.rotate?\"r\"+[+a.rotate.toFixed(4),0,0]:\"\")}})(w.prototype);a.Matrix=w;a.matrix=function(a,d,f,b,k,e){return new w(a,d,f,b,k,e)}});C.plugin(function(a,v,y,M,A){function w(h){return function(d){k.stop();d instanceof A&&1==d.node.childNodes.length&&\n",
       "(\"radialGradient\"==d.node.firstChild.tagName||\"linearGradient\"==d.node.firstChild.tagName||\"pattern\"==d.node.firstChild.tagName)&&(d=d.node.firstChild,b(this).appendChild(d),d=u(d));if(d instanceof v)if(\"radialGradient\"==d.type||\"linearGradient\"==d.type||\"pattern\"==d.type){d.node.id||e(d.node,{id:d.id});var f=l(d.node.id)}else f=d.attr(h);else f=a.color(d),f.error?(f=a(b(this).ownerSVGElement).gradient(d))?(f.node.id||e(f.node,{id:f.id}),f=l(f.node.id)):f=d:f=r(f);d={};d[h]=f;e(this.node,d);this.node.style[h]=\n",
       "x}}function z(a){k.stop();a==+a&&(a+=\"px\");this.node.style.fontSize=a}function d(a){var b=[];a=a.childNodes;for(var e=0,f=a.length;e<f;e++){var l=a[e];3==l.nodeType&&b.push(l.nodeValue);\"tspan\"==l.tagName&&(1==l.childNodes.length&&3==l.firstChild.nodeType?b.push(l.firstChild.nodeValue):b.push(d(l)))}return b}function f(){k.stop();return this.node.style.fontSize}var n=a._.make,u=a._.wrap,p=a.is,b=a._.getSomeDefs,q=/^url\\(#?([^)]+)\\)$/,e=a._.$,l=a.url,r=String,s=a._.separator,x=\"\";k.on(\"snap.util.attr.mask\",\n",
       "function(a){if(a instanceof v||a instanceof A){k.stop();a instanceof A&&1==a.node.childNodes.length&&(a=a.node.firstChild,b(this).appendChild(a),a=u(a));if(\"mask\"==a.type)var d=a;else d=n(\"mask\",b(this)),d.node.appendChild(a.node);!d.node.id&&e(d.node,{id:d.id});e(this.node,{mask:l(d.id)})}});(function(a){k.on(\"snap.util.attr.clip\",a);k.on(\"snap.util.attr.clip-path\",a);k.on(\"snap.util.attr.clipPath\",a)})(function(a){if(a instanceof v||a instanceof A){k.stop();if(\"clipPath\"==a.type)var d=a;else d=\n",
       "n(\"clipPath\",b(this)),d.node.appendChild(a.node),!d.node.id&&e(d.node,{id:d.id});e(this.node,{\"clip-path\":l(d.id)})}});k.on(\"snap.util.attr.fill\",w(\"fill\"));k.on(\"snap.util.attr.stroke\",w(\"stroke\"));var G=/^([lr])(?:\\(([^)]*)\\))?(.*)$/i;k.on(\"snap.util.grad.parse\",function(a){a=r(a);var b=a.match(G);if(!b)return null;a=b[1];var e=b[2],b=b[3],e=e.split(/\\s*,\\s*/).map(function(a){return+a==a?+a:a});1==e.length&&0==e[0]&&(e=[]);b=b.split(\"-\");b=b.map(function(a){a=a.split(\":\");var b={color:a[0]};a[1]&&\n",
       "(b.offset=parseFloat(a[1]));return b});return{type:a,params:e,stops:b}});k.on(\"snap.util.attr.d\",function(b){k.stop();p(b,\"array\")&&p(b[0],\"array\")&&(b=a.path.toString.call(b));b=r(b);b.match(/[ruo]/i)&&(b=a.path.toAbsolute(b));e(this.node,{d:b})})(-1);k.on(\"snap.util.attr.#text\",function(a){k.stop();a=r(a);for(a=M.doc.createTextNode(a);this.node.firstChild;)this.node.removeChild(this.node.firstChild);this.node.appendChild(a)})(-1);k.on(\"snap.util.attr.path\",function(a){k.stop();this.attr({d:a})})(-1);\n",
       "k.on(\"snap.util.attr.class\",function(a){k.stop();this.node.className.baseVal=a})(-1);k.on(\"snap.util.attr.viewBox\",function(a){a=p(a,\"object\")&&\"x\"in a?[a.x,a.y,a.width,a.height].join(\" \"):p(a,\"array\")?a.join(\" \"):a;e(this.node,{viewBox:a});k.stop()})(-1);k.on(\"snap.util.attr.transform\",function(a){this.transform(a);k.stop()})(-1);k.on(\"snap.util.attr.r\",function(a){\"rect\"==this.type&&(k.stop(),e(this.node,{rx:a,ry:a}))})(-1);k.on(\"snap.util.attr.textpath\",function(a){k.stop();if(\"text\"==this.type){var d,\n",
       "f;if(!a&&this.textPath){for(a=this.textPath;a.node.firstChild;)this.node.appendChild(a.node.firstChild);a.remove();delete this.textPath}else if(p(a,\"string\")?(d=b(this),a=u(d.parentNode).path(a),d.appendChild(a.node),d=a.id,a.attr({id:d})):(a=u(a),a instanceof v&&(d=a.attr(\"id\"),d||(d=a.id,a.attr({id:d})))),d)if(a=this.textPath,f=this.node,a)a.attr({\"xlink:href\":\"#\"+d});else{for(a=e(\"textPath\",{\"xlink:href\":\"#\"+d});f.firstChild;)a.appendChild(f.firstChild);f.appendChild(a);this.textPath=u(a)}}})(-1);\n",
       "k.on(\"snap.util.attr.text\",function(a){if(\"text\"==this.type){for(var b=this.node,d=function(a){var b=e(\"tspan\");if(p(a,\"array\"))for(var f=0;f<a.length;f++)b.appendChild(d(a[f]));else b.appendChild(M.doc.createTextNode(a));b.normalize&&b.normalize();return b};b.firstChild;)b.removeChild(b.firstChild);for(a=d(a);a.firstChild;)b.appendChild(a.firstChild)}k.stop()})(-1);k.on(\"snap.util.attr.fontSize\",z)(-1);k.on(\"snap.util.attr.font-size\",z)(-1);k.on(\"snap.util.getattr.transform\",function(){k.stop();\n",
       "return this.transform()})(-1);k.on(\"snap.util.getattr.textpath\",function(){k.stop();return this.textPath})(-1);(function(){function b(d){return function(){k.stop();var b=M.doc.defaultView.getComputedStyle(this.node,null).getPropertyValue(\"marker-\"+d);return\"none\"==b?b:a(M.doc.getElementById(b.match(q)[1]))}}function d(a){return function(b){k.stop();var d=\"marker\"+a.charAt(0).toUpperCase()+a.substring(1);if(\"\"==b||!b)this.node.style[d]=\"none\";else if(\"marker\"==b.type){var f=b.node.id;f||e(b.node,{id:b.id});\n",
       "this.node.style[d]=l(f)}}}k.on(\"snap.util.getattr.marker-end\",b(\"end\"))(-1);k.on(\"snap.util.getattr.markerEnd\",b(\"end\"))(-1);k.on(\"snap.util.getattr.marker-start\",b(\"start\"))(-1);k.on(\"snap.util.getattr.markerStart\",b(\"start\"))(-1);k.on(\"snap.util.getattr.marker-mid\",b(\"mid\"))(-1);k.on(\"snap.util.getattr.markerMid\",b(\"mid\"))(-1);k.on(\"snap.util.attr.marker-end\",d(\"end\"))(-1);k.on(\"snap.util.attr.markerEnd\",d(\"end\"))(-1);k.on(\"snap.util.attr.marker-start\",d(\"start\"))(-1);k.on(\"snap.util.attr.markerStart\",\n",
       "d(\"start\"))(-1);k.on(\"snap.util.attr.marker-mid\",d(\"mid\"))(-1);k.on(\"snap.util.attr.markerMid\",d(\"mid\"))(-1)})();k.on(\"snap.util.getattr.r\",function(){if(\"rect\"==this.type&&e(this.node,\"rx\")==e(this.node,\"ry\"))return k.stop(),e(this.node,\"rx\")})(-1);k.on(\"snap.util.getattr.text\",function(){if(\"text\"==this.type||\"tspan\"==this.type){k.stop();var a=d(this.node);return 1==a.length?a[0]:a}})(-1);k.on(\"snap.util.getattr.#text\",function(){return this.node.textContent})(-1);k.on(\"snap.util.getattr.viewBox\",\n",
       "function(){k.stop();var b=e(this.node,\"viewBox\");if(b)return b=b.split(s),a._.box(+b[0],+b[1],+b[2],+b[3])})(-1);k.on(\"snap.util.getattr.points\",function(){var a=e(this.node,\"points\");k.stop();if(a)return a.split(s)})(-1);k.on(\"snap.util.getattr.path\",function(){var a=e(this.node,\"d\");k.stop();return a})(-1);k.on(\"snap.util.getattr.class\",function(){return this.node.className.baseVal})(-1);k.on(\"snap.util.getattr.fontSize\",f)(-1);k.on(\"snap.util.getattr.font-size\",f)(-1)});C.plugin(function(a,v,y,\n",
       "M,A){function w(a){return a}function z(a){return function(b){return+b.toFixed(3)+a}}var d={\"+\":function(a,b){return a+b},\"-\":function(a,b){return a-b},\"/\":function(a,b){return a/b},\"*\":function(a,b){return a*b}},f=String,n=/[a-z]+$/i,u=/^\\s*([+\\-\\/*])\\s*=\\s*([\\d.eE+\\-]+)\\s*([^\\d\\s]+)?\\s*$/;k.on(\"snap.util.attr\",function(a){if(a=f(a).match(u)){var b=k.nt(),b=b.substring(b.lastIndexOf(\".\")+1),q=this.attr(b),e={};k.stop();var l=a[3]||\"\",r=q.match(n),s=d[a[1] ];r&&r==l?a=s(parseFloat(q),+a[2]):(q=this.asPX(b),\n",
       "a=s(this.asPX(b),this.asPX(b,a[2]+l)));isNaN(q)||isNaN(a)||(e[b]=a,this.attr(e))}})(-10);k.on(\"snap.util.equal\",function(a,b){var q=f(this.attr(a)||\"\"),e=f(b).match(u);if(e){k.stop();var l=e[3]||\"\",r=q.match(n),s=d[e[1] ];if(r&&r==l)return{from:parseFloat(q),to:s(parseFloat(q),+e[2]),f:z(r)};q=this.asPX(a);return{from:q,to:s(q,this.asPX(a,e[2]+l)),f:w}}})(-10)});C.plugin(function(a,v,y,M,A){var w=y.prototype,z=a.is;w.rect=function(a,d,k,p,b,q){var e;null==q&&(q=b);z(a,\"object\")&&\"[object Object]\"==\n",
       "a?e=a:null!=a&&(e={x:a,y:d,width:k,height:p},null!=b&&(e.rx=b,e.ry=q));return this.el(\"rect\",e)};w.circle=function(a,d,k){var p;z(a,\"object\")&&\"[object Object]\"==a?p=a:null!=a&&(p={cx:a,cy:d,r:k});return this.el(\"circle\",p)};var d=function(){function a(){this.parentNode.removeChild(this)}return function(d,k){var p=M.doc.createElement(\"img\"),b=M.doc.body;p.style.cssText=\"position:absolute;left:-9999em;top:-9999em\";p.onload=function(){k.call(p);p.onload=p.onerror=null;b.removeChild(p)};p.onerror=a;\n",
       "b.appendChild(p);p.src=d}}();w.image=function(f,n,k,p,b){var q=this.el(\"image\");if(z(f,\"object\")&&\"src\"in f)q.attr(f);else if(null!=f){var e={\"xlink:href\":f,preserveAspectRatio:\"none\"};null!=n&&null!=k&&(e.x=n,e.y=k);null!=p&&null!=b?(e.width=p,e.height=b):d(f,function(){a._.$(q.node,{width:this.offsetWidth,height:this.offsetHeight})});a._.$(q.node,e)}return q};w.ellipse=function(a,d,k,p){var b;z(a,\"object\")&&\"[object Object]\"==a?b=a:null!=a&&(b={cx:a,cy:d,rx:k,ry:p});return this.el(\"ellipse\",b)};\n",
       "w.path=function(a){var d;z(a,\"object\")&&!z(a,\"array\")?d=a:a&&(d={d:a});return this.el(\"path\",d)};w.group=w.g=function(a){var d=this.el(\"g\");1==arguments.length&&a&&!a.type?d.attr(a):arguments.length&&d.add(Array.prototype.slice.call(arguments,0));return d};w.svg=function(a,d,k,p,b,q,e,l){var r={};z(a,\"object\")&&null==d?r=a:(null!=a&&(r.x=a),null!=d&&(r.y=d),null!=k&&(r.width=k),null!=p&&(r.height=p),null!=b&&null!=q&&null!=e&&null!=l&&(r.viewBox=[b,q,e,l]));return this.el(\"svg\",r)};w.mask=function(a){var d=\n",
       "this.el(\"mask\");1==arguments.length&&a&&!a.type?d.attr(a):arguments.length&&d.add(Array.prototype.slice.call(arguments,0));return d};w.ptrn=function(a,d,k,p,b,q,e,l){if(z(a,\"object\"))var r=a;else arguments.length?(r={},null!=a&&(r.x=a),null!=d&&(r.y=d),null!=k&&(r.width=k),null!=p&&(r.height=p),null!=b&&null!=q&&null!=e&&null!=l&&(r.viewBox=[b,q,e,l])):r={patternUnits:\"userSpaceOnUse\"};return this.el(\"pattern\",r)};w.use=function(a){return null!=a?(make(\"use\",this.node),a instanceof v&&(a.attr(\"id\")||\n",
       "a.attr({id:ID()}),a=a.attr(\"id\")),this.el(\"use\",{\"xlink:href\":a})):v.prototype.use.call(this)};w.text=function(a,d,k){var p={};z(a,\"object\")?p=a:null!=a&&(p={x:a,y:d,text:k||\"\"});return this.el(\"text\",p)};w.line=function(a,d,k,p){var b={};z(a,\"object\")?b=a:null!=a&&(b={x1:a,x2:k,y1:d,y2:p});return this.el(\"line\",b)};w.polyline=function(a){1<arguments.length&&(a=Array.prototype.slice.call(arguments,0));var d={};z(a,\"object\")&&!z(a,\"array\")?d=a:null!=a&&(d={points:a});return this.el(\"polyline\",d)};\n",
       "w.polygon=function(a){1<arguments.length&&(a=Array.prototype.slice.call(arguments,0));var d={};z(a,\"object\")&&!z(a,\"array\")?d=a:null!=a&&(d={points:a});return this.el(\"polygon\",d)};(function(){function d(){return this.selectAll(\"stop\")}function n(b,d){var f=e(\"stop\"),k={offset:+d+\"%\"};b=a.color(b);k[\"stop-color\"]=b.hex;1>b.opacity&&(k[\"stop-opacity\"]=b.opacity);e(f,k);this.node.appendChild(f);return this}function u(){if(\"linearGradient\"==this.type){var b=e(this.node,\"x1\")||0,d=e(this.node,\"x2\")||\n",
       "1,f=e(this.node,\"y1\")||0,k=e(this.node,\"y2\")||0;return a._.box(b,f,math.abs(d-b),math.abs(k-f))}b=this.node.r||0;return a._.box((this.node.cx||0.5)-b,(this.node.cy||0.5)-b,2*b,2*b)}function p(a,d){function f(a,b){for(var d=(b-u)/(a-w),e=w;e<a;e++)h[e].offset=+(+u+d*(e-w)).toFixed(2);w=a;u=b}var n=k(\"snap.util.grad.parse\",null,d).firstDefined(),p;if(!n)return null;n.params.unshift(a);p=\"l\"==n.type.toLowerCase()?b.apply(0,n.params):q.apply(0,n.params);n.type!=n.type.toLowerCase()&&e(p.node,{gradientUnits:\"userSpaceOnUse\"});\n",
       "var h=n.stops,n=h.length,u=0,w=0;n--;for(var v=0;v<n;v++)\"offset\"in h[v]&&f(v,h[v].offset);h[n].offset=h[n].offset||100;f(n,h[n].offset);for(v=0;v<=n;v++){var y=h[v];p.addStop(y.color,y.offset)}return p}function b(b,k,p,q,w){b=a._.make(\"linearGradient\",b);b.stops=d;b.addStop=n;b.getBBox=u;null!=k&&e(b.node,{x1:k,y1:p,x2:q,y2:w});return b}function q(b,k,p,q,w,h){b=a._.make(\"radialGradient\",b);b.stops=d;b.addStop=n;b.getBBox=u;null!=k&&e(b.node,{cx:k,cy:p,r:q});null!=w&&null!=h&&e(b.node,{fx:w,fy:h});\n",
       "return b}var e=a._.$;w.gradient=function(a){return p(this.defs,a)};w.gradientLinear=function(a,d,e,f){return b(this.defs,a,d,e,f)};w.gradientRadial=function(a,b,d,e,f){return q(this.defs,a,b,d,e,f)};w.toString=function(){var b=this.node.ownerDocument,d=b.createDocumentFragment(),b=b.createElement(\"div\"),e=this.node.cloneNode(!0);d.appendChild(b);b.appendChild(e);a._.$(e,{xmlns:\"http://www.w3.org/2000/svg\"});b=b.innerHTML;d.removeChild(d.firstChild);return b};w.clear=function(){for(var a=this.node.firstChild,\n",
       "b;a;)b=a.nextSibling,\"defs\"!=a.tagName?a.parentNode.removeChild(a):w.clear.call({node:a}),a=b}})()});C.plugin(function(a,k,y,M){function A(a){var b=A.ps=A.ps||{};b[a]?b[a].sleep=100:b[a]={sleep:100};setTimeout(function(){for(var d in b)b[L](d)&&d!=a&&(b[d].sleep--,!b[d].sleep&&delete b[d])});return b[a]}function w(a,b,d,e){null==a&&(a=b=d=e=0);null==b&&(b=a.y,d=a.width,e=a.height,a=a.x);return{x:a,y:b,width:d,w:d,height:e,h:e,x2:a+d,y2:b+e,cx:a+d/2,cy:b+e/2,r1:F.min(d,e)/2,r2:F.max(d,e)/2,r0:F.sqrt(d*\n",
       "d+e*e)/2,path:s(a,b,d,e),vb:[a,b,d,e].join(\" \")}}function z(){return this.join(\",\").replace(N,\"$1\")}function d(a){a=C(a);a.toString=z;return a}function f(a,b,d,h,f,k,l,n,p){if(null==p)return e(a,b,d,h,f,k,l,n);if(0>p||e(a,b,d,h,f,k,l,n)<p)p=void 0;else{var q=0.5,O=1-q,s;for(s=e(a,b,d,h,f,k,l,n,O);0.01<Z(s-p);)q/=2,O+=(s<p?1:-1)*q,s=e(a,b,d,h,f,k,l,n,O);p=O}return u(a,b,d,h,f,k,l,n,p)}function n(b,d){function e(a){return+(+a).toFixed(3)}return a._.cacher(function(a,h,l){a instanceof k&&(a=a.attr(\"d\"));\n",
       "a=I(a);for(var n,p,D,q,O=\"\",s={},c=0,t=0,r=a.length;t<r;t++){D=a[t];if(\"M\"==D[0])n=+D[1],p=+D[2];else{q=f(n,p,D[1],D[2],D[3],D[4],D[5],D[6]);if(c+q>h){if(d&&!s.start){n=f(n,p,D[1],D[2],D[3],D[4],D[5],D[6],h-c);O+=[\"C\"+e(n.start.x),e(n.start.y),e(n.m.x),e(n.m.y),e(n.x),e(n.y)];if(l)return O;s.start=O;O=[\"M\"+e(n.x),e(n.y)+\"C\"+e(n.n.x),e(n.n.y),e(n.end.x),e(n.end.y),e(D[5]),e(D[6])].join();c+=q;n=+D[5];p=+D[6];continue}if(!b&&!d)return n=f(n,p,D[1],D[2],D[3],D[4],D[5],D[6],h-c)}c+=q;n=+D[5];p=+D[6]}O+=\n",
       "D.shift()+D}s.end=O;return n=b?c:d?s:u(n,p,D[0],D[1],D[2],D[3],D[4],D[5],1)},null,a._.clone)}function u(a,b,d,e,h,f,k,l,n){var p=1-n,q=ma(p,3),s=ma(p,2),c=n*n,t=c*n,r=q*a+3*s*n*d+3*p*n*n*h+t*k,q=q*b+3*s*n*e+3*p*n*n*f+t*l,s=a+2*n*(d-a)+c*(h-2*d+a),t=b+2*n*(e-b)+c*(f-2*e+b),x=d+2*n*(h-d)+c*(k-2*h+d),c=e+2*n*(f-e)+c*(l-2*f+e);a=p*a+n*d;b=p*b+n*e;h=p*h+n*k;f=p*f+n*l;l=90-180*F.atan2(s-x,t-c)/S;return{x:r,y:q,m:{x:s,y:t},n:{x:x,y:c},start:{x:a,y:b},end:{x:h,y:f},alpha:l}}function p(b,d,e,h,f,n,k,l){a.is(b,\n",
       "\"array\")||(b=[b,d,e,h,f,n,k,l]);b=U.apply(null,b);return w(b.min.x,b.min.y,b.max.x-b.min.x,b.max.y-b.min.y)}function b(a,b,d){return b>=a.x&&b<=a.x+a.width&&d>=a.y&&d<=a.y+a.height}function q(a,d){a=w(a);d=w(d);return b(d,a.x,a.y)||b(d,a.x2,a.y)||b(d,a.x,a.y2)||b(d,a.x2,a.y2)||b(a,d.x,d.y)||b(a,d.x2,d.y)||b(a,d.x,d.y2)||b(a,d.x2,d.y2)||(a.x<d.x2&&a.x>d.x||d.x<a.x2&&d.x>a.x)&&(a.y<d.y2&&a.y>d.y||d.y<a.y2&&d.y>a.y)}function e(a,b,d,e,h,f,n,k,l){null==l&&(l=1);l=(1<l?1:0>l?0:l)/2;for(var p=[-0.1252,\n",
       "0.1252,-0.3678,0.3678,-0.5873,0.5873,-0.7699,0.7699,-0.9041,0.9041,-0.9816,0.9816],q=[0.2491,0.2491,0.2335,0.2335,0.2032,0.2032,0.1601,0.1601,0.1069,0.1069,0.0472,0.0472],s=0,c=0;12>c;c++)var t=l*p[c]+l,r=t*(t*(-3*a+9*d-9*h+3*n)+6*a-12*d+6*h)-3*a+3*d,t=t*(t*(-3*b+9*e-9*f+3*k)+6*b-12*e+6*f)-3*b+3*e,s=s+q[c]*F.sqrt(r*r+t*t);return l*s}function l(a,b,d){a=I(a);b=I(b);for(var h,f,l,n,k,s,r,O,x,c,t=d?0:[],w=0,v=a.length;w<v;w++)if(x=a[w],\"M\"==x[0])h=k=x[1],f=s=x[2];else{\"C\"==x[0]?(x=[h,f].concat(x.slice(1)),\n",
       "h=x[6],f=x[7]):(x=[h,f,h,f,k,s,k,s],h=k,f=s);for(var G=0,y=b.length;G<y;G++)if(c=b[G],\"M\"==c[0])l=r=c[1],n=O=c[2];else{\"C\"==c[0]?(c=[l,n].concat(c.slice(1)),l=c[6],n=c[7]):(c=[l,n,l,n,r,O,r,O],l=r,n=O);var z;var K=x,B=c;z=d;var H=p(K),J=p(B);if(q(H,J)){for(var H=e.apply(0,K),J=e.apply(0,B),H=~~(H/8),J=~~(J/8),U=[],A=[],F={},M=z?0:[],P=0;P<H+1;P++){var C=u.apply(0,K.concat(P/H));U.push({x:C.x,y:C.y,t:P/H})}for(P=0;P<J+1;P++)C=u.apply(0,B.concat(P/J)),A.push({x:C.x,y:C.y,t:P/J});for(P=0;P<H;P++)for(K=\n",
       "0;K<J;K++){var Q=U[P],L=U[P+1],B=A[K],C=A[K+1],N=0.001>Z(L.x-Q.x)?\"y\":\"x\",S=0.001>Z(C.x-B.x)?\"y\":\"x\",R;R=Q.x;var Y=Q.y,V=L.x,ea=L.y,fa=B.x,ga=B.y,ha=C.x,ia=C.y;if(W(R,V)<X(fa,ha)||X(R,V)>W(fa,ha)||W(Y,ea)<X(ga,ia)||X(Y,ea)>W(ga,ia))R=void 0;else{var $=(R*ea-Y*V)*(fa-ha)-(R-V)*(fa*ia-ga*ha),aa=(R*ea-Y*V)*(ga-ia)-(Y-ea)*(fa*ia-ga*ha),ja=(R-V)*(ga-ia)-(Y-ea)*(fa-ha);if(ja){var $=$/ja,aa=aa/ja,ja=+$.toFixed(2),ba=+aa.toFixed(2);R=ja<+X(R,V).toFixed(2)||ja>+W(R,V).toFixed(2)||ja<+X(fa,ha).toFixed(2)||\n",
       "ja>+W(fa,ha).toFixed(2)||ba<+X(Y,ea).toFixed(2)||ba>+W(Y,ea).toFixed(2)||ba<+X(ga,ia).toFixed(2)||ba>+W(ga,ia).toFixed(2)?void 0:{x:$,y:aa}}else R=void 0}R&&F[R.x.toFixed(4)]!=R.y.toFixed(4)&&(F[R.x.toFixed(4)]=R.y.toFixed(4),Q=Q.t+Z((R[N]-Q[N])/(L[N]-Q[N]))*(L.t-Q.t),B=B.t+Z((R[S]-B[S])/(C[S]-B[S]))*(C.t-B.t),0<=Q&&1>=Q&&0<=B&&1>=B&&(z?M++:M.push({x:R.x,y:R.y,t1:Q,t2:B})))}z=M}else z=z?0:[];if(d)t+=z;else{H=0;for(J=z.length;H<J;H++)z[H].segment1=w,z[H].segment2=G,z[H].bez1=x,z[H].bez2=c;t=t.concat(z)}}}return t}\n",
       "function r(a){var b=A(a);if(b.bbox)return C(b.bbox);if(!a)return w();a=I(a);for(var d=0,e=0,h=[],f=[],l,n=0,k=a.length;n<k;n++)l=a[n],\"M\"==l[0]?(d=l[1],e=l[2],h.push(d),f.push(e)):(d=U(d,e,l[1],l[2],l[3],l[4],l[5],l[6]),h=h.concat(d.min.x,d.max.x),f=f.concat(d.min.y,d.max.y),d=l[5],e=l[6]);a=X.apply(0,h);l=X.apply(0,f);h=W.apply(0,h);f=W.apply(0,f);f=w(a,l,h-a,f-l);b.bbox=C(f);return f}function s(a,b,d,e,h){if(h)return[[\"M\",+a+ +h,b],[\"l\",d-2*h,0],[\"a\",h,h,0,0,1,h,h],[\"l\",0,e-2*h],[\"a\",h,h,0,0,1,\n",
       "-h,h],[\"l\",2*h-d,0],[\"a\",h,h,0,0,1,-h,-h],[\"l\",0,2*h-e],[\"a\",h,h,0,0,1,h,-h],[\"z\"] ];a=[[\"M\",a,b],[\"l\",d,0],[\"l\",0,e],[\"l\",-d,0],[\"z\"] ];a.toString=z;return a}function x(a,b,d,e,h){null==h&&null==e&&(e=d);a=+a;b=+b;d=+d;e=+e;if(null!=h){var f=Math.PI/180,l=a+d*Math.cos(-e*f);a+=d*Math.cos(-h*f);var n=b+d*Math.sin(-e*f);b+=d*Math.sin(-h*f);d=[[\"M\",l,n],[\"A\",d,d,0,+(180<h-e),0,a,b] ]}else d=[[\"M\",a,b],[\"m\",0,-e],[\"a\",d,e,0,1,1,0,2*e],[\"a\",d,e,0,1,1,0,-2*e],[\"z\"] ];d.toString=z;return d}function G(b){var e=\n",
       "A(b);if(e.abs)return d(e.abs);Q(b,\"array\")&&Q(b&&b[0],\"array\")||(b=a.parsePathString(b));if(!b||!b.length)return[[\"M\",0,0] ];var h=[],f=0,l=0,n=0,k=0,p=0;\"M\"==b[0][0]&&(f=+b[0][1],l=+b[0][2],n=f,k=l,p++,h[0]=[\"M\",f,l]);for(var q=3==b.length&&\"M\"==b[0][0]&&\"R\"==b[1][0].toUpperCase()&&\"Z\"==b[2][0].toUpperCase(),s,r,w=p,c=b.length;w<c;w++){h.push(s=[]);r=b[w];p=r[0];if(p!=p.toUpperCase())switch(s[0]=p.toUpperCase(),s[0]){case \"A\":s[1]=r[1];s[2]=r[2];s[3]=r[3];s[4]=r[4];s[5]=r[5];s[6]=+r[6]+f;s[7]=+r[7]+\n",
       "l;break;case \"V\":s[1]=+r[1]+l;break;case \"H\":s[1]=+r[1]+f;break;case \"R\":for(var t=[f,l].concat(r.slice(1)),u=2,v=t.length;u<v;u++)t[u]=+t[u]+f,t[++u]=+t[u]+l;h.pop();h=h.concat(P(t,q));break;case \"O\":h.pop();t=x(f,l,r[1],r[2]);t.push(t[0]);h=h.concat(t);break;case \"U\":h.pop();h=h.concat(x(f,l,r[1],r[2],r[3]));s=[\"U\"].concat(h[h.length-1].slice(-2));break;case \"M\":n=+r[1]+f,k=+r[2]+l;default:for(u=1,v=r.length;u<v;u++)s[u]=+r[u]+(u%2?f:l)}else if(\"R\"==p)t=[f,l].concat(r.slice(1)),h.pop(),h=h.concat(P(t,\n",
       "q)),s=[\"R\"].concat(r.slice(-2));else if(\"O\"==p)h.pop(),t=x(f,l,r[1],r[2]),t.push(t[0]),h=h.concat(t);else if(\"U\"==p)h.pop(),h=h.concat(x(f,l,r[1],r[2],r[3])),s=[\"U\"].concat(h[h.length-1].slice(-2));else for(t=0,u=r.length;t<u;t++)s[t]=r[t];p=p.toUpperCase();if(\"O\"!=p)switch(s[0]){case \"Z\":f=+n;l=+k;break;case \"H\":f=s[1];break;case \"V\":l=s[1];break;case \"M\":n=s[s.length-2],k=s[s.length-1];default:f=s[s.length-2],l=s[s.length-1]}}h.toString=z;e.abs=d(h);return h}function h(a,b,d,e){return[a,b,d,e,d,\n",
       "e]}function J(a,b,d,e,h,f){var l=1/3,n=2/3;return[l*a+n*d,l*b+n*e,l*h+n*d,l*f+n*e,h,f]}function K(b,d,e,h,f,l,n,k,p,s){var r=120*S/180,q=S/180*(+f||0),c=[],t,x=a._.cacher(function(a,b,c){var d=a*F.cos(c)-b*F.sin(c);a=a*F.sin(c)+b*F.cos(c);return{x:d,y:a}});if(s)v=s[0],t=s[1],l=s[2],u=s[3];else{t=x(b,d,-q);b=t.x;d=t.y;t=x(k,p,-q);k=t.x;p=t.y;F.cos(S/180*f);F.sin(S/180*f);t=(b-k)/2;v=(d-p)/2;u=t*t/(e*e)+v*v/(h*h);1<u&&(u=F.sqrt(u),e*=u,h*=u);var u=e*e,w=h*h,u=(l==n?-1:1)*F.sqrt(Z((u*w-u*v*v-w*t*t)/\n",
       "(u*v*v+w*t*t)));l=u*e*v/h+(b+k)/2;var u=u*-h*t/e+(d+p)/2,v=F.asin(((d-u)/h).toFixed(9));t=F.asin(((p-u)/h).toFixed(9));v=b<l?S-v:v;t=k<l?S-t:t;0>v&&(v=2*S+v);0>t&&(t=2*S+t);n&&v>t&&(v-=2*S);!n&&t>v&&(t-=2*S)}if(Z(t-v)>r){var c=t,w=k,G=p;t=v+r*(n&&t>v?1:-1);k=l+e*F.cos(t);p=u+h*F.sin(t);c=K(k,p,e,h,f,0,n,w,G,[t,c,l,u])}l=t-v;f=F.cos(v);r=F.sin(v);n=F.cos(t);t=F.sin(t);l=F.tan(l/4);e=4/3*e*l;l*=4/3*h;h=[b,d];b=[b+e*r,d-l*f];d=[k+e*t,p-l*n];k=[k,p];b[0]=2*h[0]-b[0];b[1]=2*h[1]-b[1];if(s)return[b,d,k].concat(c);\n",
       "c=[b,d,k].concat(c).join().split(\",\");s=[];k=0;for(p=c.length;k<p;k++)s[k]=k%2?x(c[k-1],c[k],q).y:x(c[k],c[k+1],q).x;return s}function U(a,b,d,e,h,f,l,k){for(var n=[],p=[[],[] ],s,r,c,t,q=0;2>q;++q)0==q?(r=6*a-12*d+6*h,s=-3*a+9*d-9*h+3*l,c=3*d-3*a):(r=6*b-12*e+6*f,s=-3*b+9*e-9*f+3*k,c=3*e-3*b),1E-12>Z(s)?1E-12>Z(r)||(s=-c/r,0<s&&1>s&&n.push(s)):(t=r*r-4*c*s,c=F.sqrt(t),0>t||(t=(-r+c)/(2*s),0<t&&1>t&&n.push(t),s=(-r-c)/(2*s),0<s&&1>s&&n.push(s)));for(r=q=n.length;q--;)s=n[q],c=1-s,p[0][q]=c*c*c*a+3*\n",
       "c*c*s*d+3*c*s*s*h+s*s*s*l,p[1][q]=c*c*c*b+3*c*c*s*e+3*c*s*s*f+s*s*s*k;p[0][r]=a;p[1][r]=b;p[0][r+1]=l;p[1][r+1]=k;p[0].length=p[1].length=r+2;return{min:{x:X.apply(0,p[0]),y:X.apply(0,p[1])},max:{x:W.apply(0,p[0]),y:W.apply(0,p[1])}}}function I(a,b){var e=!b&&A(a);if(!b&&e.curve)return d(e.curve);var f=G(a),l=b&&G(b),n={x:0,y:0,bx:0,by:0,X:0,Y:0,qx:null,qy:null},k={x:0,y:0,bx:0,by:0,X:0,Y:0,qx:null,qy:null},p=function(a,b,c){if(!a)return[\"C\",b.x,b.y,b.x,b.y,b.x,b.y];a[0]in{T:1,Q:1}||(b.qx=b.qy=null);\n",
       "switch(a[0]){case \"M\":b.X=a[1];b.Y=a[2];break;case \"A\":a=[\"C\"].concat(K.apply(0,[b.x,b.y].concat(a.slice(1))));break;case \"S\":\"C\"==c||\"S\"==c?(c=2*b.x-b.bx,b=2*b.y-b.by):(c=b.x,b=b.y);a=[\"C\",c,b].concat(a.slice(1));break;case \"T\":\"Q\"==c||\"T\"==c?(b.qx=2*b.x-b.qx,b.qy=2*b.y-b.qy):(b.qx=b.x,b.qy=b.y);a=[\"C\"].concat(J(b.x,b.y,b.qx,b.qy,a[1],a[2]));break;case \"Q\":b.qx=a[1];b.qy=a[2];a=[\"C\"].concat(J(b.x,b.y,a[1],a[2],a[3],a[4]));break;case \"L\":a=[\"C\"].concat(h(b.x,b.y,a[1],a[2]));break;case \"H\":a=[\"C\"].concat(h(b.x,\n",
       "b.y,a[1],b.y));break;case \"V\":a=[\"C\"].concat(h(b.x,b.y,b.x,a[1]));break;case \"Z\":a=[\"C\"].concat(h(b.x,b.y,b.X,b.Y))}return a},s=function(a,b){if(7<a[b].length){a[b].shift();for(var c=a[b];c.length;)q[b]=\"A\",l&&(u[b]=\"A\"),a.splice(b++,0,[\"C\"].concat(c.splice(0,6)));a.splice(b,1);v=W(f.length,l&&l.length||0)}},r=function(a,b,c,d,e){a&&b&&\"M\"==a[e][0]&&\"M\"!=b[e][0]&&(b.splice(e,0,[\"M\",d.x,d.y]),c.bx=0,c.by=0,c.x=a[e][1],c.y=a[e][2],v=W(f.length,l&&l.length||0))},q=[],u=[],c=\"\",t=\"\",x=0,v=W(f.length,\n",
       "l&&l.length||0);for(;x<v;x++){f[x]&&(c=f[x][0]);\"C\"!=c&&(q[x]=c,x&&(t=q[x-1]));f[x]=p(f[x],n,t);\"A\"!=q[x]&&\"C\"==c&&(q[x]=\"C\");s(f,x);l&&(l[x]&&(c=l[x][0]),\"C\"!=c&&(u[x]=c,x&&(t=u[x-1])),l[x]=p(l[x],k,t),\"A\"!=u[x]&&\"C\"==c&&(u[x]=\"C\"),s(l,x));r(f,l,n,k,x);r(l,f,k,n,x);var w=f[x],z=l&&l[x],y=w.length,U=l&&z.length;n.x=w[y-2];n.y=w[y-1];n.bx=$(w[y-4])||n.x;n.by=$(w[y-3])||n.y;k.bx=l&&($(z[U-4])||k.x);k.by=l&&($(z[U-3])||k.y);k.x=l&&z[U-2];k.y=l&&z[U-1]}l||(e.curve=d(f));return l?[f,l]:f}function P(a,\n",
       "b){for(var d=[],e=0,h=a.length;h-2*!b>e;e+=2){var f=[{x:+a[e-2],y:+a[e-1]},{x:+a[e],y:+a[e+1]},{x:+a[e+2],y:+a[e+3]},{x:+a[e+4],y:+a[e+5]}];b?e?h-4==e?f[3]={x:+a[0],y:+a[1]}:h-2==e&&(f[2]={x:+a[0],y:+a[1]},f[3]={x:+a[2],y:+a[3]}):f[0]={x:+a[h-2],y:+a[h-1]}:h-4==e?f[3]=f[2]:e||(f[0]={x:+a[e],y:+a[e+1]});d.push([\"C\",(-f[0].x+6*f[1].x+f[2].x)/6,(-f[0].y+6*f[1].y+f[2].y)/6,(f[1].x+6*f[2].x-f[3].x)/6,(f[1].y+6*f[2].y-f[3].y)/6,f[2].x,f[2].y])}return d}y=k.prototype;var Q=a.is,C=a._.clone,L=\"hasOwnProperty\",\n",
       "N=/,?([a-z]),?/gi,$=parseFloat,F=Math,S=F.PI,X=F.min,W=F.max,ma=F.pow,Z=F.abs;M=n(1);var na=n(),ba=n(0,1),V=a._unit2px;a.path=A;a.path.getTotalLength=M;a.path.getPointAtLength=na;a.path.getSubpath=function(a,b,d){if(1E-6>this.getTotalLength(a)-d)return ba(a,b).end;a=ba(a,d,1);return b?ba(a,b).end:a};y.getTotalLength=function(){if(this.node.getTotalLength)return this.node.getTotalLength()};y.getPointAtLength=function(a){return na(this.attr(\"d\"),a)};y.getSubpath=function(b,d){return a.path.getSubpath(this.attr(\"d\"),\n",
       "b,d)};a._.box=w;a.path.findDotsAtSegment=u;a.path.bezierBBox=p;a.path.isPointInsideBBox=b;a.path.isBBoxIntersect=q;a.path.intersection=function(a,b){return l(a,b)};a.path.intersectionNumber=function(a,b){return l(a,b,1)};a.path.isPointInside=function(a,d,e){var h=r(a);return b(h,d,e)&&1==l(a,[[\"M\",d,e],[\"H\",h.x2+10] ],1)%2};a.path.getBBox=r;a.path.get={path:function(a){return a.attr(\"path\")},circle:function(a){a=V(a);return x(a.cx,a.cy,a.r)},ellipse:function(a){a=V(a);return x(a.cx||0,a.cy||0,a.rx,\n",
       "a.ry)},rect:function(a){a=V(a);return s(a.x||0,a.y||0,a.width,a.height,a.rx,a.ry)},image:function(a){a=V(a);return s(a.x||0,a.y||0,a.width,a.height)},line:function(a){return\"M\"+[a.attr(\"x1\")||0,a.attr(\"y1\")||0,a.attr(\"x2\"),a.attr(\"y2\")]},polyline:function(a){return\"M\"+a.attr(\"points\")},polygon:function(a){return\"M\"+a.attr(\"points\")+\"z\"},deflt:function(a){a=a.node.getBBox();return s(a.x,a.y,a.width,a.height)}};a.path.toRelative=function(b){var e=A(b),h=String.prototype.toLowerCase;if(e.rel)return d(e.rel);\n",
       "a.is(b,\"array\")&&a.is(b&&b[0],\"array\")||(b=a.parsePathString(b));var f=[],l=0,n=0,k=0,p=0,s=0;\"M\"==b[0][0]&&(l=b[0][1],n=b[0][2],k=l,p=n,s++,f.push([\"M\",l,n]));for(var r=b.length;s<r;s++){var q=f[s]=[],x=b[s];if(x[0]!=h.call(x[0]))switch(q[0]=h.call(x[0]),q[0]){case \"a\":q[1]=x[1];q[2]=x[2];q[3]=x[3];q[4]=x[4];q[5]=x[5];q[6]=+(x[6]-l).toFixed(3);q[7]=+(x[7]-n).toFixed(3);break;case \"v\":q[1]=+(x[1]-n).toFixed(3);break;case \"m\":k=x[1],p=x[2];default:for(var c=1,t=x.length;c<t;c++)q[c]=+(x[c]-(c%2?l:\n",
       "n)).toFixed(3)}else for(f[s]=[],\"m\"==x[0]&&(k=x[1]+l,p=x[2]+n),q=0,c=x.length;q<c;q++)f[s][q]=x[q];x=f[s].length;switch(f[s][0]){case \"z\":l=k;n=p;break;case \"h\":l+=+f[s][x-1];break;case \"v\":n+=+f[s][x-1];break;default:l+=+f[s][x-2],n+=+f[s][x-1]}}f.toString=z;e.rel=d(f);return f};a.path.toAbsolute=G;a.path.toCubic=I;a.path.map=function(a,b){if(!b)return a;var d,e,h,f,l,n,k;a=I(a);h=0;for(l=a.length;h<l;h++)for(k=a[h],f=1,n=k.length;f<n;f+=2)d=b.x(k[f],k[f+1]),e=b.y(k[f],k[f+1]),k[f]=d,k[f+1]=e;return a};\n",
       "a.path.toString=z;a.path.clone=d});C.plugin(function(a,v,y,C){var A=Math.max,w=Math.min,z=function(a){this.items=[];this.bindings={};this.length=0;this.type=\"set\";if(a)for(var f=0,n=a.length;f<n;f++)a[f]&&(this[this.items.length]=this.items[this.items.length]=a[f],this.length++)};v=z.prototype;v.push=function(){for(var a,f,n=0,k=arguments.length;n<k;n++)if(a=arguments[n])f=this.items.length,this[f]=this.items[f]=a,this.length++;return this};v.pop=function(){this.length&&delete this[this.length--];\n",
       "return this.items.pop()};v.forEach=function(a,f){for(var n=0,k=this.items.length;n<k&&!1!==a.call(f,this.items[n],n);n++);return this};v.animate=function(d,f,n,u){\"function\"!=typeof n||n.length||(u=n,n=L.linear);d instanceof a._.Animation&&(u=d.callback,n=d.easing,f=n.dur,d=d.attr);var p=arguments;if(a.is(d,\"array\")&&a.is(p[p.length-1],\"array\"))var b=!0;var q,e=function(){q?this.b=q:q=this.b},l=0,r=u&&function(){l++==this.length&&u.call(this)};return this.forEach(function(a,l){k.once(\"snap.animcreated.\"+\n",
       "a.id,e);b?p[l]&&a.animate.apply(a,p[l]):a.animate(d,f,n,r)})};v.remove=function(){for(;this.length;)this.pop().remove();return this};v.bind=function(a,f,k){var u={};if(\"function\"==typeof f)this.bindings[a]=f;else{var p=k||a;this.bindings[a]=function(a){u[p]=a;f.attr(u)}}return this};v.attr=function(a){var f={},k;for(k in a)if(this.bindings[k])this.bindings[k](a[k]);else f[k]=a[k];a=0;for(k=this.items.length;a<k;a++)this.items[a].attr(f);return this};v.clear=function(){for(;this.length;)this.pop()};\n",
       "v.splice=function(a,f,k){a=0>a?A(this.length+a,0):a;f=A(0,w(this.length-a,f));var u=[],p=[],b=[],q;for(q=2;q<arguments.length;q++)b.push(arguments[q]);for(q=0;q<f;q++)p.push(this[a+q]);for(;q<this.length-a;q++)u.push(this[a+q]);var e=b.length;for(q=0;q<e+u.length;q++)this.items[a+q]=this[a+q]=q<e?b[q]:u[q-e];for(q=this.items.length=this.length-=f-e;this[q];)delete this[q++];return new z(p)};v.exclude=function(a){for(var f=0,k=this.length;f<k;f++)if(this[f]==a)return this.splice(f,1),!0;return!1};\n",
       "v.insertAfter=function(a){for(var f=this.items.length;f--;)this.items[f].insertAfter(a);return this};v.getBBox=function(){for(var a=[],f=[],k=[],u=[],p=this.items.length;p--;)if(!this.items[p].removed){var b=this.items[p].getBBox();a.push(b.x);f.push(b.y);k.push(b.x+b.width);u.push(b.y+b.height)}a=w.apply(0,a);f=w.apply(0,f);k=A.apply(0,k);u=A.apply(0,u);return{x:a,y:f,x2:k,y2:u,width:k-a,height:u-f,cx:a+(k-a)/2,cy:f+(u-f)/2}};v.clone=function(a){a=new z;for(var f=0,k=this.items.length;f<k;f++)a.push(this.items[f].clone());\n",
       "return a};v.toString=function(){return\"Snap\\u2018s set\"};v.type=\"set\";a.set=function(){var a=new z;arguments.length&&a.push.apply(a,Array.prototype.slice.call(arguments,0));return a}});C.plugin(function(a,v,y,C){function A(a){var b=a[0];switch(b.toLowerCase()){case \"t\":return[b,0,0];case \"m\":return[b,1,0,0,1,0,0];case \"r\":return 4==a.length?[b,0,a[2],a[3] ]:[b,0];case \"s\":return 5==a.length?[b,1,1,a[3],a[4] ]:3==a.length?[b,1,1]:[b,1]}}function w(b,d,f){d=q(d).replace(/\\.{3}|\\u2026/g,b);b=a.parseTransformString(b)||\n",
       "[];d=a.parseTransformString(d)||[];for(var k=Math.max(b.length,d.length),p=[],v=[],h=0,w,z,y,I;h<k;h++){y=b[h]||A(d[h]);I=d[h]||A(y);if(y[0]!=I[0]||\"r\"==y[0].toLowerCase()&&(y[2]!=I[2]||y[3]!=I[3])||\"s\"==y[0].toLowerCase()&&(y[3]!=I[3]||y[4]!=I[4])){b=a._.transform2matrix(b,f());d=a._.transform2matrix(d,f());p=[[\"m\",b.a,b.b,b.c,b.d,b.e,b.f] ];v=[[\"m\",d.a,d.b,d.c,d.d,d.e,d.f] ];break}p[h]=[];v[h]=[];w=0;for(z=Math.max(y.length,I.length);w<z;w++)w in y&&(p[h][w]=y[w]),w in I&&(v[h][w]=I[w])}return{from:u(p),\n",
       "to:u(v),f:n(p)}}function z(a){return a}function d(a){return function(b){return+b.toFixed(3)+a}}function f(b){return a.rgb(b[0],b[1],b[2])}function n(a){var b=0,d,f,k,n,h,p,q=[];d=0;for(f=a.length;d<f;d++){h=\"[\";p=['\"'+a[d][0]+'\"'];k=1;for(n=a[d].length;k<n;k++)p[k]=\"val[\"+b++ +\"]\";h+=p+\"]\";q[d]=h}return Function(\"val\",\"return Snap.path.toString.call([\"+q+\"])\")}function u(a){for(var b=[],d=0,f=a.length;d<f;d++)for(var k=1,n=a[d].length;k<n;k++)b.push(a[d][k]);return b}var p={},b=/[a-z]+$/i,q=String;\n",
       "p.stroke=p.fill=\"colour\";v.prototype.equal=function(a,b){return k(\"snap.util.equal\",this,a,b).firstDefined()};k.on(\"snap.util.equal\",function(e,k){var r,s;r=q(this.attr(e)||\"\");var x=this;if(r==+r&&k==+k)return{from:+r,to:+k,f:z};if(\"colour\"==p[e])return r=a.color(r),s=a.color(k),{from:[r.r,r.g,r.b,r.opacity],to:[s.r,s.g,s.b,s.opacity],f:f};if(\"transform\"==e||\"gradientTransform\"==e||\"patternTransform\"==e)return k instanceof a.Matrix&&(k=k.toTransformString()),a._.rgTransform.test(k)||(k=a._.svgTransform2string(k)),\n",
       "w(r,k,function(){return x.getBBox(1)});if(\"d\"==e||\"path\"==e)return r=a.path.toCubic(r,k),{from:u(r[0]),to:u(r[1]),f:n(r[0])};if(\"points\"==e)return r=q(r).split(a._.separator),s=q(k).split(a._.separator),{from:r,to:s,f:function(a){return a}};aUnit=r.match(b);s=q(k).match(b);return aUnit&&aUnit==s?{from:parseFloat(r),to:parseFloat(k),f:d(aUnit)}:{from:this.asPX(e),to:this.asPX(e,k),f:z}})});C.plugin(function(a,v,y,C){var A=v.prototype,w=\"createTouch\"in C.doc;v=\"click dblclick mousedown mousemove mouseout mouseover mouseup touchstart touchmove touchend touchcancel\".split(\" \");\n",
       "var z={mousedown:\"touchstart\",mousemove:\"touchmove\",mouseup:\"touchend\"},d=function(a,b){var d=\"y\"==a?\"scrollTop\":\"scrollLeft\",e=b&&b.node?b.node.ownerDocument:C.doc;return e[d in e.documentElement?\"documentElement\":\"body\"][d]},f=function(){this.returnValue=!1},n=function(){return this.originalEvent.preventDefault()},u=function(){this.cancelBubble=!0},p=function(){return this.originalEvent.stopPropagation()},b=function(){if(C.doc.addEventListener)return function(a,b,e,f){var k=w&&z[b]?z[b]:b,l=function(k){var l=\n",
       "d(\"y\",f),q=d(\"x\",f);if(w&&z.hasOwnProperty(b))for(var r=0,u=k.targetTouches&&k.targetTouches.length;r<u;r++)if(k.targetTouches[r].target==a||a.contains(k.targetTouches[r].target)){u=k;k=k.targetTouches[r];k.originalEvent=u;k.preventDefault=n;k.stopPropagation=p;break}return e.call(f,k,k.clientX+q,k.clientY+l)};b!==k&&a.addEventListener(b,l,!1);a.addEventListener(k,l,!1);return function(){b!==k&&a.removeEventListener(b,l,!1);a.removeEventListener(k,l,!1);return!0}};if(C.doc.attachEvent)return function(a,\n",
       "b,e,h){var k=function(a){a=a||h.node.ownerDocument.window.event;var b=d(\"y\",h),k=d(\"x\",h),k=a.clientX+k,b=a.clientY+b;a.preventDefault=a.preventDefault||f;a.stopPropagation=a.stopPropagation||u;return e.call(h,a,k,b)};a.attachEvent(\"on\"+b,k);return function(){a.detachEvent(\"on\"+b,k);return!0}}}(),q=[],e=function(a){for(var b=a.clientX,e=a.clientY,f=d(\"y\"),l=d(\"x\"),n,p=q.length;p--;){n=q[p];if(w)for(var r=a.touches&&a.touches.length,u;r--;){if(u=a.touches[r],u.identifier==n.el._drag.id||n.el.node.contains(u.target)){b=\n",
       "u.clientX;e=u.clientY;(a.originalEvent?a.originalEvent:a).preventDefault();break}}else a.preventDefault();b+=l;e+=f;k(\"snap.drag.move.\"+n.el.id,n.move_scope||n.el,b-n.el._drag.x,e-n.el._drag.y,b,e,a)}},l=function(b){a.unmousemove(e).unmouseup(l);for(var d=q.length,f;d--;)f=q[d],f.el._drag={},k(\"snap.drag.end.\"+f.el.id,f.end_scope||f.start_scope||f.move_scope||f.el,b);q=[]};for(y=v.length;y--;)(function(d){a[d]=A[d]=function(e,f){a.is(e,\"function\")&&(this.events=this.events||[],this.events.push({name:d,\n",
       "f:e,unbind:b(this.node||document,d,e,f||this)}));return this};a[\"un\"+d]=A[\"un\"+d]=function(a){for(var b=this.events||[],e=b.length;e--;)if(b[e].name==d&&(b[e].f==a||!a)){b[e].unbind();b.splice(e,1);!b.length&&delete this.events;break}return this}})(v[y]);A.hover=function(a,b,d,e){return this.mouseover(a,d).mouseout(b,e||d)};A.unhover=function(a,b){return this.unmouseover(a).unmouseout(b)};var r=[];A.drag=function(b,d,f,h,n,p){function u(r,v,w){(r.originalEvent||r).preventDefault();this._drag.x=v;\n",
       "this._drag.y=w;this._drag.id=r.identifier;!q.length&&a.mousemove(e).mouseup(l);q.push({el:this,move_scope:h,start_scope:n,end_scope:p});d&&k.on(\"snap.drag.start.\"+this.id,d);b&&k.on(\"snap.drag.move.\"+this.id,b);f&&k.on(\"snap.drag.end.\"+this.id,f);k(\"snap.drag.start.\"+this.id,n||h||this,v,w,r)}if(!arguments.length){var v;return this.drag(function(a,b){this.attr({transform:v+(v?\"T\":\"t\")+[a,b]})},function(){v=this.transform().local})}this._drag={};r.push({el:this,start:u});this.mousedown(u);return this};\n",
       "A.undrag=function(){for(var b=r.length;b--;)r[b].el==this&&(this.unmousedown(r[b].start),r.splice(b,1),k.unbind(\"snap.drag.*.\"+this.id));!r.length&&a.unmousemove(e).unmouseup(l);return this}});C.plugin(function(a,v,y,C){y=y.prototype;var A=/^\\s*url\\((.+)\\)/,w=String,z=a._.$;a.filter={};y.filter=function(d){var f=this;\"svg\"!=f.type&&(f=f.paper);d=a.parse(w(d));var k=a._.id(),u=z(\"filter\");z(u,{id:k,filterUnits:\"userSpaceOnUse\"});u.appendChild(d.node);f.defs.appendChild(u);return new v(u)};k.on(\"snap.util.getattr.filter\",\n",
       "function(){k.stop();var d=z(this.node,\"filter\");if(d)return(d=w(d).match(A))&&a.select(d[1])});k.on(\"snap.util.attr.filter\",function(d){if(d instanceof v&&\"filter\"==d.type){k.stop();var f=d.node.id;f||(z(d.node,{id:d.id}),f=d.id);z(this.node,{filter:a.url(f)})}d&&\"none\"!=d||(k.stop(),this.node.removeAttribute(\"filter\"))});a.filter.blur=function(d,f){null==d&&(d=2);return a.format('<feGaussianBlur stdDeviation=\"{def}\"/>',{def:null==f?d:[d,f]})};a.filter.blur.toString=function(){return this()};a.filter.shadow=\n",
       "function(d,f,k,u,p){\"string\"==typeof k&&(p=u=k,k=4);\"string\"!=typeof u&&(p=u,u=\"#000\");null==k&&(k=4);null==p&&(p=1);null==d&&(d=0,f=2);null==f&&(f=d);u=a.color(u||\"#000\");return a.format('<feGaussianBlur in=\"SourceAlpha\" stdDeviation=\"{blur}\"/><feOffset dx=\"{dx}\" dy=\"{dy}\" result=\"offsetblur\"/><feFlood flood-color=\"{color}\"/><feComposite in2=\"offsetblur\" operator=\"in\"/><feComponentTransfer><feFuncA type=\"linear\" slope=\"{opacity}\"/></feComponentTransfer><feMerge><feMergeNode/><feMergeNode in=\"SourceGraphic\"/></feMerge>',\n",
       "{color:u,dx:d,dy:f,blur:k,opacity:p})};a.filter.shadow.toString=function(){return this()};a.filter.grayscale=function(d){null==d&&(d=1);return a.format('<feColorMatrix type=\"matrix\" values=\"{a} {b} {c} 0 0 {d} {e} {f} 0 0 {g} {b} {h} 0 0 0 0 0 1 0\"/>',{a:0.2126+0.7874*(1-d),b:0.7152-0.7152*(1-d),c:0.0722-0.0722*(1-d),d:0.2126-0.2126*(1-d),e:0.7152+0.2848*(1-d),f:0.0722-0.0722*(1-d),g:0.2126-0.2126*(1-d),h:0.0722+0.9278*(1-d)})};a.filter.grayscale.toString=function(){return this()};a.filter.sepia=\n",
       "function(d){null==d&&(d=1);return a.format('<feColorMatrix type=\"matrix\" values=\"{a} {b} {c} 0 0 {d} {e} {f} 0 0 {g} {h} {i} 0 0 0 0 0 1 0\"/>',{a:0.393+0.607*(1-d),b:0.769-0.769*(1-d),c:0.189-0.189*(1-d),d:0.349-0.349*(1-d),e:0.686+0.314*(1-d),f:0.168-0.168*(1-d),g:0.272-0.272*(1-d),h:0.534-0.534*(1-d),i:0.131+0.869*(1-d)})};a.filter.sepia.toString=function(){return this()};a.filter.saturate=function(d){null==d&&(d=1);return a.format('<feColorMatrix type=\"saturate\" values=\"{amount}\"/>',{amount:1-\n",
       "d})};a.filter.saturate.toString=function(){return this()};a.filter.hueRotate=function(d){return a.format('<feColorMatrix type=\"hueRotate\" values=\"{angle}\"/>',{angle:d||0})};a.filter.hueRotate.toString=function(){return this()};a.filter.invert=function(d){null==d&&(d=1);return a.format('<feComponentTransfer><feFuncR type=\"table\" tableValues=\"{amount} {amount2}\"/><feFuncG type=\"table\" tableValues=\"{amount} {amount2}\"/><feFuncB type=\"table\" tableValues=\"{amount} {amount2}\"/></feComponentTransfer>',{amount:d,\n",
       "amount2:1-d})};a.filter.invert.toString=function(){return this()};a.filter.brightness=function(d){null==d&&(d=1);return a.format('<feComponentTransfer><feFuncR type=\"linear\" slope=\"{amount}\"/><feFuncG type=\"linear\" slope=\"{amount}\"/><feFuncB type=\"linear\" slope=\"{amount}\"/></feComponentTransfer>',{amount:d})};a.filter.brightness.toString=function(){return this()};a.filter.contrast=function(d){null==d&&(d=1);return a.format('<feComponentTransfer><feFuncR type=\"linear\" slope=\"{amount}\" intercept=\"{amount2}\"/><feFuncG type=\"linear\" slope=\"{amount}\" intercept=\"{amount2}\"/><feFuncB type=\"linear\" slope=\"{amount}\" intercept=\"{amount2}\"/></feComponentTransfer>',\n",
       "{amount:d,amount2:0.5-d/2})};a.filter.contrast.toString=function(){return this()}});return C});\n",
       "\n",
       "]]> </script>\n",
       "<script> <![CDATA[\n",
       "\n",
       "(function (glob, factory) {\n",
       "    // AMD support\n",
       "    if (typeof define === \"function\" && define.amd) {\n",
       "        // Define as an anonymous module\n",
       "        define(\"Gadfly\", [\"Snap.svg\"], function (Snap) {\n",
       "            return factory(Snap);\n",
       "        });\n",
       "    } else {\n",
       "        // Browser globals (glob is window)\n",
       "        // Snap adds itself to window\n",
       "        glob.Gadfly = factory(glob.Snap);\n",
       "    }\n",
       "}(this, function (Snap) {\n",
       "\n",
       "var Gadfly = {};\n",
       "\n",
       "// Get an x/y coordinate value in pixels\n",
       "var xPX = function(fig, x) {\n",
       "    var client_box = fig.node.getBoundingClientRect();\n",
       "    return x * fig.node.viewBox.baseVal.width / client_box.width;\n",
       "};\n",
       "\n",
       "var yPX = function(fig, y) {\n",
       "    var client_box = fig.node.getBoundingClientRect();\n",
       "    return y * fig.node.viewBox.baseVal.height / client_box.height;\n",
       "};\n",
       "\n",
       "\n",
       "Snap.plugin(function (Snap, Element, Paper, global) {\n",
       "    // Traverse upwards from a snap element to find and return the first\n",
       "    // note with the \"plotroot\" class.\n",
       "    Element.prototype.plotroot = function () {\n",
       "        var element = this;\n",
       "        while (!element.hasClass(\"plotroot\") && element.parent() != null) {\n",
       "            element = element.parent();\n",
       "        }\n",
       "        return element;\n",
       "    };\n",
       "\n",
       "    Element.prototype.svgroot = function () {\n",
       "        var element = this;\n",
       "        while (element.node.nodeName != \"svg\" && element.parent() != null) {\n",
       "            element = element.parent();\n",
       "        }\n",
       "        return element;\n",
       "    };\n",
       "\n",
       "    Element.prototype.plotbounds = function () {\n",
       "        var root = this.plotroot()\n",
       "        var bbox = root.select(\".guide.background\").node.getBBox();\n",
       "        return {\n",
       "            x0: bbox.x,\n",
       "            x1: bbox.x + bbox.width,\n",
       "            y0: bbox.y,\n",
       "            y1: bbox.y + bbox.height\n",
       "        };\n",
       "    };\n",
       "\n",
       "    Element.prototype.plotcenter = function () {\n",
       "        var root = this.plotroot()\n",
       "        var bbox = root.select(\".guide.background\").node.getBBox();\n",
       "        return {\n",
       "            x: bbox.x + bbox.width / 2,\n",
       "            y: bbox.y + bbox.height / 2\n",
       "        };\n",
       "    };\n",
       "\n",
       "    // Emulate IE style mouseenter/mouseleave events, since Microsoft always\n",
       "    // does everything right.\n",
       "    // See: http://www.dynamic-tools.net/toolbox/isMouseLeaveOrEnter/\n",
       "    var events = [\"mouseenter\", \"mouseleave\"];\n",
       "\n",
       "    for (i in events) {\n",
       "        (function (event_name) {\n",
       "            var event_name = events[i];\n",
       "            Element.prototype[event_name] = function (fn, scope) {\n",
       "                if (Snap.is(fn, \"function\")) {\n",
       "                    var fn2 = function (event) {\n",
       "                        if (event.type != \"mouseover\" && event.type != \"mouseout\") {\n",
       "                            return;\n",
       "                        }\n",
       "\n",
       "                        var reltg = event.relatedTarget ? event.relatedTarget :\n",
       "                            event.type == \"mouseout\" ? event.toElement : event.fromElement;\n",
       "                        while (reltg && reltg != this.node) reltg = reltg.parentNode;\n",
       "\n",
       "                        if (reltg != this.node) {\n",
       "                            return fn.apply(this, event);\n",
       "                        }\n",
       "                    };\n",
       "\n",
       "                    if (event_name == \"mouseenter\") {\n",
       "                        this.mouseover(fn2, scope);\n",
       "                    } else {\n",
       "                        this.mouseout(fn2, scope);\n",
       "                    }\n",
       "                }\n",
       "                return this;\n",
       "            };\n",
       "        })(events[i]);\n",
       "    }\n",
       "\n",
       "\n",
       "    Element.prototype.mousewheel = function (fn, scope) {\n",
       "        if (Snap.is(fn, \"function\")) {\n",
       "            var el = this;\n",
       "            var fn2 = function (event) {\n",
       "                fn.apply(el, [event]);\n",
       "            };\n",
       "        }\n",
       "\n",
       "        this.node.addEventListener(\n",
       "            /Firefox/i.test(navigator.userAgent) ? \"DOMMouseScroll\" : \"mousewheel\",\n",
       "            fn2);\n",
       "\n",
       "        return this;\n",
       "    };\n",
       "\n",
       "\n",
       "    // Snap's attr function can be too slow for things like panning/zooming.\n",
       "    // This is a function to directly update element attributes without going\n",
       "    // through eve.\n",
       "    Element.prototype.attribute = function(key, val) {\n",
       "        if (val === undefined) {\n",
       "            return this.node.getAttribute(key);\n",
       "        } else {\n",
       "            this.node.setAttribute(key, val);\n",
       "            return this;\n",
       "        }\n",
       "    };\n",
       "\n",
       "    Element.prototype.init_gadfly = function() {\n",
       "        this.mouseenter(Gadfly.plot_mouseover)\n",
       "            .mouseleave(Gadfly.plot_mouseout)\n",
       "            .dblclick(Gadfly.plot_dblclick)\n",
       "            .mousewheel(Gadfly.guide_background_scroll)\n",
       "            .drag(Gadfly.guide_background_drag_onmove,\n",
       "                  Gadfly.guide_background_drag_onstart,\n",
       "                  Gadfly.guide_background_drag_onend);\n",
       "        this.mouseenter(function (event) {\n",
       "            init_pan_zoom(this.plotroot());\n",
       "        });\n",
       "        return this;\n",
       "    };\n",
       "});\n",
       "\n",
       "\n",
       "// When the plot is moused over, emphasize the grid lines.\n",
       "Gadfly.plot_mouseover = function(event) {\n",
       "    var root = this.plotroot();\n",
       "\n",
       "    var keyboard_zoom = function(event) {\n",
       "        if (event.which == 187) { // plus\n",
       "            increase_zoom_by_position(root, 0.1, true);\n",
       "        } else if (event.which == 189) { // minus\n",
       "            increase_zoom_by_position(root, -0.1, true);\n",
       "        }\n",
       "    };\n",
       "    root.data(\"keyboard_zoom\", keyboard_zoom);\n",
       "    window.addEventListener(\"keyup\", keyboard_zoom);\n",
       "\n",
       "    var xgridlines = root.select(\".xgridlines\"),\n",
       "        ygridlines = root.select(\".ygridlines\");\n",
       "\n",
       "    xgridlines.data(\"unfocused_strokedash\",\n",
       "                    xgridlines.attribute(\"stroke-dasharray\").replace(/(\\d)(,|$)/g, \"$1mm$2\"));\n",
       "    ygridlines.data(\"unfocused_strokedash\",\n",
       "                    ygridlines.attribute(\"stroke-dasharray\").replace(/(\\d)(,|$)/g, \"$1mm$2\"));\n",
       "\n",
       "    // emphasize grid lines\n",
       "    var destcolor = root.data(\"focused_xgrid_color\");\n",
       "    xgridlines.attribute(\"stroke-dasharray\", \"none\")\n",
       "              .selectAll(\"path\")\n",
       "              .animate({stroke: destcolor}, 250);\n",
       "\n",
       "    destcolor = root.data(\"focused_ygrid_color\");\n",
       "    ygridlines.attribute(\"stroke-dasharray\", \"none\")\n",
       "              .selectAll(\"path\")\n",
       "              .animate({stroke: destcolor}, 250);\n",
       "\n",
       "    // reveal zoom slider\n",
       "    root.select(\".zoomslider\")\n",
       "        .animate({opacity: 1.0}, 250);\n",
       "};\n",
       "\n",
       "// Reset pan and zoom on double click\n",
       "Gadfly.plot_dblclick = function(event) {\n",
       "  set_plot_pan_zoom(this.plotroot(), 0.0, 0.0, 1.0);\n",
       "};\n",
       "\n",
       "// Unemphasize grid lines on mouse out.\n",
       "Gadfly.plot_mouseout = function(event) {\n",
       "    var root = this.plotroot();\n",
       "\n",
       "    window.removeEventListener(\"keyup\", root.data(\"keyboard_zoom\"));\n",
       "    root.data(\"keyboard_zoom\", undefined);\n",
       "\n",
       "    var xgridlines = root.select(\".xgridlines\"),\n",
       "        ygridlines = root.select(\".ygridlines\");\n",
       "\n",
       "    var destcolor = root.data(\"unfocused_xgrid_color\");\n",
       "\n",
       "    xgridlines.attribute(\"stroke-dasharray\", xgridlines.data(\"unfocused_strokedash\"))\n",
       "              .selectAll(\"path\")\n",
       "              .animate({stroke: destcolor}, 250);\n",
       "\n",
       "    destcolor = root.data(\"unfocused_ygrid_color\");\n",
       "    ygridlines.attribute(\"stroke-dasharray\", ygridlines.data(\"unfocused_strokedash\"))\n",
       "              .selectAll(\"path\")\n",
       "              .animate({stroke: destcolor}, 250);\n",
       "\n",
       "    // hide zoom slider\n",
       "    root.select(\".zoomslider\")\n",
       "        .animate({opacity: 0.0}, 250);\n",
       "};\n",
       "\n",
       "\n",
       "var set_geometry_transform = function(root, tx, ty, scale) {\n",
       "    var xscalable = root.hasClass(\"xscalable\"),\n",
       "        yscalable = root.hasClass(\"yscalable\");\n",
       "\n",
       "    var old_scale = root.data(\"scale\");\n",
       "\n",
       "    var xscale = xscalable ? scale : 1.0,\n",
       "        yscale = yscalable ? scale : 1.0;\n",
       "\n",
       "    tx = xscalable ? tx : 0.0;\n",
       "    ty = yscalable ? ty : 0.0;\n",
       "\n",
       "    var t = new Snap.Matrix().translate(tx, ty).scale(xscale, yscale);\n",
       "\n",
       "    root.selectAll(\".geometry, image\")\n",
       "        .forEach(function (element, i) {\n",
       "            element.transform(t);\n",
       "        });\n",
       "\n",
       "    bounds = root.plotbounds();\n",
       "\n",
       "    if (yscalable) {\n",
       "        var xfixed_t = new Snap.Matrix().translate(0, ty).scale(1.0, yscale);\n",
       "        root.selectAll(\".xfixed\")\n",
       "            .forEach(function (element, i) {\n",
       "                element.transform(xfixed_t);\n",
       "            });\n",
       "\n",
       "        root.select(\".ylabels\")\n",
       "            .transform(xfixed_t)\n",
       "            .selectAll(\"text\")\n",
       "            .forEach(function (element, i) {\n",
       "                if (element.attribute(\"gadfly:inscale\") == \"true\") {\n",
       "                    var cx = element.asPX(\"x\"),\n",
       "                        cy = element.asPX(\"y\");\n",
       "                    var st = element.data(\"static_transform\");\n",
       "                    unscale_t = new Snap.Matrix();\n",
       "                    unscale_t.scale(1, 1/scale, cx, cy).add(st);\n",
       "                    element.transform(unscale_t);\n",
       "\n",
       "                    var y = cy * scale + ty;\n",
       "                    element.attr(\"visibility\",\n",
       "                        bounds.y0 <= y && y <= bounds.y1 ? \"visible\" : \"hidden\");\n",
       "                }\n",
       "            });\n",
       "    }\n",
       "\n",
       "    if (xscalable) {\n",
       "        var yfixed_t = new Snap.Matrix().translate(tx, 0).scale(xscale, 1.0);\n",
       "        var xtrans = new Snap.Matrix().translate(tx, 0);\n",
       "        root.selectAll(\".yfixed\")\n",
       "            .forEach(function (element, i) {\n",
       "                element.transform(yfixed_t);\n",
       "            });\n",
       "\n",
       "        root.select(\".xlabels\")\n",
       "            .transform(yfixed_t)\n",
       "            .selectAll(\"text\")\n",
       "            .forEach(function (element, i) {\n",
       "                if (element.attribute(\"gadfly:inscale\") == \"true\") {\n",
       "                    var cx = element.asPX(\"x\"),\n",
       "                        cy = element.asPX(\"y\");\n",
       "                    var st = element.data(\"static_transform\");\n",
       "                    unscale_t = new Snap.Matrix();\n",
       "                    unscale_t.scale(1/scale, 1, cx, cy).add(st);\n",
       "\n",
       "                    element.transform(unscale_t);\n",
       "\n",
       "                    var x = cx * scale + tx;\n",
       "                    element.attr(\"visibility\",\n",
       "                        bounds.x0 <= x && x <= bounds.x1 ? \"visible\" : \"hidden\");\n",
       "                    }\n",
       "            });\n",
       "    }\n",
       "\n",
       "    // we must unscale anything that is scale invariance: widths, raiduses, etc.\n",
       "    var size_attribs = [\"font-size\"];\n",
       "    var unscaled_selection = \".geometry, .geometry *\";\n",
       "    if (xscalable) {\n",
       "        size_attribs.push(\"rx\");\n",
       "        unscaled_selection += \", .xgridlines\";\n",
       "    }\n",
       "    if (yscalable) {\n",
       "        size_attribs.push(\"ry\");\n",
       "        unscaled_selection += \", .ygridlines\";\n",
       "    }\n",
       "\n",
       "    root.selectAll(unscaled_selection)\n",
       "        .forEach(function (element, i) {\n",
       "            // circle need special help\n",
       "            if (element.node.nodeName == \"circle\") {\n",
       "                var cx = element.attribute(\"cx\"),\n",
       "                    cy = element.attribute(\"cy\");\n",
       "                unscale_t = new Snap.Matrix().scale(1/xscale, 1/yscale,\n",
       "                                                        cx, cy);\n",
       "                element.transform(unscale_t);\n",
       "                return;\n",
       "            }\n",
       "\n",
       "            for (i in size_attribs) {\n",
       "                var key = size_attribs[i];\n",
       "                var val = parseFloat(element.attribute(key));\n",
       "                if (val !== undefined && val != 0 && !isNaN(val)) {\n",
       "                    element.attribute(key, val * old_scale / scale);\n",
       "                }\n",
       "            }\n",
       "        });\n",
       "};\n",
       "\n",
       "\n",
       "// Find the most appropriate tick scale and update label visibility.\n",
       "var update_tickscale = function(root, scale, axis) {\n",
       "    if (!root.hasClass(axis + \"scalable\")) return;\n",
       "\n",
       "    var tickscales = root.data(axis + \"tickscales\");\n",
       "    var best_tickscale = 1.0;\n",
       "    var best_tickscale_dist = Infinity;\n",
       "    for (tickscale in tickscales) {\n",
       "        var dist = Math.abs(Math.log(tickscale) - Math.log(scale));\n",
       "        if (dist < best_tickscale_dist) {\n",
       "            best_tickscale_dist = dist;\n",
       "            best_tickscale = tickscale;\n",
       "        }\n",
       "    }\n",
       "\n",
       "    if (best_tickscale != root.data(axis + \"tickscale\")) {\n",
       "        root.data(axis + \"tickscale\", best_tickscale);\n",
       "        var mark_inscale_gridlines = function (element, i) {\n",
       "            var inscale = element.attr(\"gadfly:scale\") == best_tickscale;\n",
       "            element.attribute(\"gadfly:inscale\", inscale);\n",
       "            element.attr(\"visibility\", inscale ? \"visible\" : \"hidden\");\n",
       "        };\n",
       "\n",
       "        var mark_inscale_labels = function (element, i) {\n",
       "            var inscale = element.attr(\"gadfly:scale\") == best_tickscale;\n",
       "            element.attribute(\"gadfly:inscale\", inscale);\n",
       "            element.attr(\"visibility\", inscale ? \"visible\" : \"hidden\");\n",
       "        };\n",
       "\n",
       "        root.select(\".\" + axis + \"gridlines\").selectAll(\"path\").forEach(mark_inscale_gridlines);\n",
       "        root.select(\".\" + axis + \"labels\").selectAll(\"text\").forEach(mark_inscale_labels);\n",
       "    }\n",
       "};\n",
       "\n",
       "\n",
       "var set_plot_pan_zoom = function(root, tx, ty, scale) {\n",
       "    var old_scale = root.data(\"scale\");\n",
       "    var bounds = root.plotbounds();\n",
       "\n",
       "    var width = bounds.x1 - bounds.x0,\n",
       "        height = bounds.y1 - bounds.y0;\n",
       "\n",
       "    // compute the viewport derived from tx, ty, and scale\n",
       "    var x_min = -width * scale - (scale * width - width),\n",
       "        x_max = width * scale,\n",
       "        y_min = -height * scale - (scale * height - height),\n",
       "        y_max = height * scale;\n",
       "\n",
       "    var x0 = bounds.x0 - scale * bounds.x0,\n",
       "        y0 = bounds.y0 - scale * bounds.y0;\n",
       "\n",
       "    var tx = Math.max(Math.min(tx - x0, x_max), x_min),\n",
       "        ty = Math.max(Math.min(ty - y0, y_max), y_min);\n",
       "\n",
       "    tx += x0;\n",
       "    ty += y0;\n",
       "\n",
       "    // when the scale change, we may need to alter which set of\n",
       "    // ticks is being displayed\n",
       "    if (scale != old_scale) {\n",
       "        update_tickscale(root, scale, \"x\");\n",
       "        update_tickscale(root, scale, \"y\");\n",
       "    }\n",
       "\n",
       "    set_geometry_transform(root, tx, ty, scale);\n",
       "\n",
       "    root.data(\"scale\", scale);\n",
       "    root.data(\"tx\", tx);\n",
       "    root.data(\"ty\", ty);\n",
       "};\n",
       "\n",
       "\n",
       "var scale_centered_translation = function(root, scale) {\n",
       "    var bounds = root.plotbounds();\n",
       "\n",
       "    var width = bounds.x1 - bounds.x0,\n",
       "        height = bounds.y1 - bounds.y0;\n",
       "\n",
       "    var tx0 = root.data(\"tx\"),\n",
       "        ty0 = root.data(\"ty\");\n",
       "\n",
       "    var scale0 = root.data(\"scale\");\n",
       "\n",
       "    // how off from center the current view is\n",
       "    var xoff = tx0 - (bounds.x0 * (1 - scale0) + (width * (1 - scale0)) / 2),\n",
       "        yoff = ty0 - (bounds.y0 * (1 - scale0) + (height * (1 - scale0)) / 2);\n",
       "\n",
       "    // rescale offsets\n",
       "    xoff = xoff * scale / scale0;\n",
       "    yoff = yoff * scale / scale0;\n",
       "\n",
       "    // adjust for the panel position being scaled\n",
       "    var x_edge_adjust = bounds.x0 * (1 - scale),\n",
       "        y_edge_adjust = bounds.y0 * (1 - scale);\n",
       "\n",
       "    return {\n",
       "        x: xoff + x_edge_adjust + (width - width * scale) / 2,\n",
       "        y: yoff + y_edge_adjust + (height - height * scale) / 2\n",
       "    };\n",
       "};\n",
       "\n",
       "\n",
       "// Initialize data for panning zooming if it isn't already.\n",
       "var init_pan_zoom = function(root) {\n",
       "    if (root.data(\"zoompan-ready\")) {\n",
       "        return;\n",
       "    }\n",
       "\n",
       "    // The non-scaling-stroke trick. Rather than try to correct for the\n",
       "    // stroke-width when zooming, we force it to a fixed value.\n",
       "    var px_per_mm = root.node.getCTM().a;\n",
       "\n",
       "    // Drag events report deltas in pixels, which we'd like to convert to\n",
       "    // millimeters.\n",
       "    root.data(\"px_per_mm\", px_per_mm);\n",
       "\n",
       "    root.selectAll(\"path\")\n",
       "        .forEach(function (element, i) {\n",
       "        sw = element.asPX(\"stroke-width\") * px_per_mm;\n",
       "        if (sw > 0) {\n",
       "            element.attribute(\"stroke-width\", sw);\n",
       "            element.attribute(\"vector-effect\", \"non-scaling-stroke\");\n",
       "        }\n",
       "    });\n",
       "\n",
       "    // Store ticks labels original tranformation\n",
       "    root.selectAll(\".xlabels > text, .ylabels > text\")\n",
       "        .forEach(function (element, i) {\n",
       "            var lm = element.transform().localMatrix;\n",
       "            element.data(\"static_transform\",\n",
       "                new Snap.Matrix(lm.a, lm.b, lm.c, lm.d, lm.e, lm.f));\n",
       "        });\n",
       "\n",
       "    var xgridlines = root.select(\".xgridlines\");\n",
       "    var ygridlines = root.select(\".ygridlines\");\n",
       "    var xlabels = root.select(\".xlabels\");\n",
       "    var ylabels = root.select(\".ylabels\");\n",
       "\n",
       "    if (root.data(\"tx\") === undefined) root.data(\"tx\", 0);\n",
       "    if (root.data(\"ty\") === undefined) root.data(\"ty\", 0);\n",
       "    if (root.data(\"scale\") === undefined) root.data(\"scale\", 1.0);\n",
       "    if (root.data(\"xtickscales\") === undefined) {\n",
       "\n",
       "        // index all the tick scales that are listed\n",
       "        var xtickscales = {};\n",
       "        var ytickscales = {};\n",
       "        var add_x_tick_scales = function (element, i) {\n",
       "            xtickscales[element.attribute(\"gadfly:scale\")] = true;\n",
       "        };\n",
       "        var add_y_tick_scales = function (element, i) {\n",
       "            ytickscales[element.attribute(\"gadfly:scale\")] = true;\n",
       "        };\n",
       "\n",
       "        if (xgridlines) xgridlines.selectAll(\"path\").forEach(add_x_tick_scales);\n",
       "        if (ygridlines) ygridlines.selectAll(\"path\").forEach(add_y_tick_scales);\n",
       "        if (xlabels) xlabels.selectAll(\"text\").forEach(add_x_tick_scales);\n",
       "        if (ylabels) ylabels.selectAll(\"text\").forEach(add_y_tick_scales);\n",
       "\n",
       "        root.data(\"xtickscales\", xtickscales);\n",
       "        root.data(\"ytickscales\", ytickscales);\n",
       "        root.data(\"xtickscale\", 1.0);\n",
       "    }\n",
       "\n",
       "    var min_scale = 1.0, max_scale = 1.0;\n",
       "    for (scale in xtickscales) {\n",
       "        min_scale = Math.min(min_scale, scale);\n",
       "        max_scale = Math.max(max_scale, scale);\n",
       "    }\n",
       "    for (scale in ytickscales) {\n",
       "        min_scale = Math.min(min_scale, scale);\n",
       "        max_scale = Math.max(max_scale, scale);\n",
       "    }\n",
       "    root.data(\"min_scale\", min_scale);\n",
       "    root.data(\"max_scale\", max_scale);\n",
       "\n",
       "    // store the original positions of labels\n",
       "    if (xlabels) {\n",
       "        xlabels.selectAll(\"text\")\n",
       "               .forEach(function (element, i) {\n",
       "                   element.data(\"x\", element.asPX(\"x\"));\n",
       "               });\n",
       "    }\n",
       "\n",
       "    if (ylabels) {\n",
       "        ylabels.selectAll(\"text\")\n",
       "               .forEach(function (element, i) {\n",
       "                   element.data(\"y\", element.asPX(\"y\"));\n",
       "               });\n",
       "    }\n",
       "\n",
       "    // mark grid lines and ticks as in or out of scale.\n",
       "    var mark_inscale = function (element, i) {\n",
       "        element.attribute(\"gadfly:inscale\", element.attribute(\"gadfly:scale\") == 1.0);\n",
       "    };\n",
       "\n",
       "    if (xgridlines) xgridlines.selectAll(\"path\").forEach(mark_inscale);\n",
       "    if (ygridlines) ygridlines.selectAll(\"path\").forEach(mark_inscale);\n",
       "    if (xlabels) xlabels.selectAll(\"text\").forEach(mark_inscale);\n",
       "    if (ylabels) ylabels.selectAll(\"text\").forEach(mark_inscale);\n",
       "\n",
       "    // figure out the upper ond lower bounds on panning using the maximum\n",
       "    // and minum grid lines\n",
       "    var bounds = root.plotbounds();\n",
       "    var pan_bounds = {\n",
       "        x0: 0.0,\n",
       "        y0: 0.0,\n",
       "        x1: 0.0,\n",
       "        y1: 0.0\n",
       "    };\n",
       "\n",
       "    if (xgridlines) {\n",
       "        xgridlines\n",
       "            .selectAll(\"path\")\n",
       "            .forEach(function (element, i) {\n",
       "                if (element.attribute(\"gadfly:inscale\") == \"true\") {\n",
       "                    var bbox = element.node.getBBox();\n",
       "                    if (bounds.x1 - bbox.x < pan_bounds.x0) {\n",
       "                        pan_bounds.x0 = bounds.x1 - bbox.x;\n",
       "                    }\n",
       "                    if (bounds.x0 - bbox.x > pan_bounds.x1) {\n",
       "                        pan_bounds.x1 = bounds.x0 - bbox.x;\n",
       "                    }\n",
       "                    element.attr(\"visibility\", \"visible\");\n",
       "                }\n",
       "            });\n",
       "    }\n",
       "\n",
       "    if (ygridlines) {\n",
       "        ygridlines\n",
       "            .selectAll(\"path\")\n",
       "            .forEach(function (element, i) {\n",
       "                if (element.attribute(\"gadfly:inscale\") == \"true\") {\n",
       "                    var bbox = element.node.getBBox();\n",
       "                    if (bounds.y1 - bbox.y < pan_bounds.y0) {\n",
       "                        pan_bounds.y0 = bounds.y1 - bbox.y;\n",
       "                    }\n",
       "                    if (bounds.y0 - bbox.y > pan_bounds.y1) {\n",
       "                        pan_bounds.y1 = bounds.y0 - bbox.y;\n",
       "                    }\n",
       "                    element.attr(\"visibility\", \"visible\");\n",
       "                }\n",
       "            });\n",
       "    }\n",
       "\n",
       "    // nudge these values a little\n",
       "    pan_bounds.x0 -= 5;\n",
       "    pan_bounds.x1 += 5;\n",
       "    pan_bounds.y0 -= 5;\n",
       "    pan_bounds.y1 += 5;\n",
       "    root.data(\"pan_bounds\", pan_bounds);\n",
       "\n",
       "    root.data(\"zoompan-ready\", true)\n",
       "};\n",
       "\n",
       "\n",
       "// drag actions, i.e. zooming and panning\n",
       "var pan_action = {\n",
       "    start: function(root, x, y, event) {\n",
       "        root.data(\"dx\", 0);\n",
       "        root.data(\"dy\", 0);\n",
       "        root.data(\"tx0\", root.data(\"tx\"));\n",
       "        root.data(\"ty0\", root.data(\"ty\"));\n",
       "    },\n",
       "    update: function(root, dx, dy, x, y, event) {\n",
       "        var px_per_mm = root.data(\"px_per_mm\");\n",
       "        dx /= px_per_mm;\n",
       "        dy /= px_per_mm;\n",
       "\n",
       "        var tx0 = root.data(\"tx\"),\n",
       "            ty0 = root.data(\"ty\");\n",
       "\n",
       "        var dx0 = root.data(\"dx\"),\n",
       "            dy0 = root.data(\"dy\");\n",
       "\n",
       "        root.data(\"dx\", dx);\n",
       "        root.data(\"dy\", dy);\n",
       "\n",
       "        dx = dx - dx0;\n",
       "        dy = dy - dy0;\n",
       "\n",
       "        var tx = tx0 + dx,\n",
       "            ty = ty0 + dy;\n",
       "\n",
       "        set_plot_pan_zoom(root, tx, ty, root.data(\"scale\"));\n",
       "    },\n",
       "    end: function(root, event) {\n",
       "\n",
       "    },\n",
       "    cancel: function(root) {\n",
       "        set_plot_pan_zoom(root, root.data(\"tx0\"), root.data(\"ty0\"), root.data(\"scale\"));\n",
       "    }\n",
       "};\n",
       "\n",
       "var zoom_box;\n",
       "var zoom_action = {\n",
       "    start: function(root, x, y, event) {\n",
       "        var bounds = root.plotbounds();\n",
       "        var width = bounds.x1 - bounds.x0,\n",
       "            height = bounds.y1 - bounds.y0;\n",
       "        var ratio = width / height;\n",
       "        var xscalable = root.hasClass(\"xscalable\"),\n",
       "            yscalable = root.hasClass(\"yscalable\");\n",
       "        var px_per_mm = root.data(\"px_per_mm\");\n",
       "        x = xscalable ? x / px_per_mm : bounds.x0;\n",
       "        y = yscalable ? y / px_per_mm : bounds.y0;\n",
       "        var w = xscalable ? 0 : width;\n",
       "        var h = yscalable ? 0 : height;\n",
       "        zoom_box = root.rect(x, y, w, h).attr({\n",
       "            \"fill\": \"#000\",\n",
       "            \"opacity\": 0.25\n",
       "        });\n",
       "        zoom_box.data(\"ratio\", ratio);\n",
       "    },\n",
       "    update: function(root, dx, dy, x, y, event) {\n",
       "        var xscalable = root.hasClass(\"xscalable\"),\n",
       "            yscalable = root.hasClass(\"yscalable\");\n",
       "        var px_per_mm = root.data(\"px_per_mm\");\n",
       "        var bounds = root.plotbounds();\n",
       "        if (yscalable) {\n",
       "            y /= px_per_mm;\n",
       "            y = Math.max(bounds.y0, y);\n",
       "            y = Math.min(bounds.y1, y);\n",
       "        } else {\n",
       "            y = bounds.y1;\n",
       "        }\n",
       "        if (xscalable) {\n",
       "            x /= px_per_mm;\n",
       "            x = Math.max(bounds.x0, x);\n",
       "            x = Math.min(bounds.x1, x);\n",
       "        } else {\n",
       "            x = bounds.x1;\n",
       "        }\n",
       "\n",
       "        dx = x - zoom_box.attr(\"x\");\n",
       "        dy = y - zoom_box.attr(\"y\");\n",
       "        if (xscalable && yscalable) {\n",
       "            var ratio = zoom_box.data(\"ratio\");\n",
       "            var width = Math.min(Math.abs(dx), ratio * Math.abs(dy));\n",
       "            var height = Math.min(Math.abs(dy), Math.abs(dx) / ratio);\n",
       "            dx = width * dx / Math.abs(dx);\n",
       "            dy = height * dy / Math.abs(dy);\n",
       "        }\n",
       "        var xoffset = 0,\n",
       "            yoffset = 0;\n",
       "        if (dx < 0) {\n",
       "            xoffset = dx;\n",
       "            dx = -1 * dx;\n",
       "        }\n",
       "        if (dy < 0) {\n",
       "            yoffset = dy;\n",
       "            dy = -1 * dy;\n",
       "        }\n",
       "        if (isNaN(dy)) {\n",
       "            dy = 0.0;\n",
       "        }\n",
       "        if (isNaN(dx)) {\n",
       "            dx = 0.0;\n",
       "        }\n",
       "        zoom_box.transform(\"T\" + xoffset + \",\" + yoffset);\n",
       "        zoom_box.attr(\"width\", dx);\n",
       "        zoom_box.attr(\"height\", dy);\n",
       "    },\n",
       "    end: function(root, event) {\n",
       "        var xscalable = root.hasClass(\"xscalable\"),\n",
       "            yscalable = root.hasClass(\"yscalable\");\n",
       "        var zoom_bounds = zoom_box.getBBox();\n",
       "        if (zoom_bounds.width * zoom_bounds.height <= 0) {\n",
       "            return;\n",
       "        }\n",
       "        var plot_bounds = root.plotbounds();\n",
       "        var zoom_factor = 1.0;\n",
       "        if (yscalable) {\n",
       "            zoom_factor = (plot_bounds.y1 - plot_bounds.y0) / zoom_bounds.height;\n",
       "        } else {\n",
       "            zoom_factor = (plot_bounds.x1 - plot_bounds.x0) / zoom_bounds.width;\n",
       "        }\n",
       "        var tx = (root.data(\"tx\") - zoom_bounds.x) * zoom_factor + plot_bounds.x0,\n",
       "            ty = (root.data(\"ty\") - zoom_bounds.y) * zoom_factor + plot_bounds.y0;\n",
       "        set_plot_pan_zoom(root, tx, ty, root.data(\"scale\") * zoom_factor);\n",
       "        zoom_box.remove();\n",
       "    },\n",
       "    cancel: function(root) {\n",
       "        zoom_box.remove();\n",
       "    }\n",
       "};\n",
       "\n",
       "\n",
       "Gadfly.guide_background_drag_onstart = function(x, y, event) {\n",
       "    var root = this.plotroot();\n",
       "    var scalable = root.hasClass(\"xscalable\") || root.hasClass(\"yscalable\");\n",
       "    var zoomable = !event.altKey && !event.ctrlKey && event.shiftKey && scalable;\n",
       "    var panable = !event.altKey && !event.ctrlKey && !event.shiftKey && scalable;\n",
       "    var drag_action = zoomable ? zoom_action :\n",
       "                      panable  ? pan_action :\n",
       "                                 undefined;\n",
       "    root.data(\"drag_action\", drag_action);\n",
       "    if (drag_action) {\n",
       "        var cancel_drag_action = function(event) {\n",
       "            if (event.which == 27) { // esc key\n",
       "                drag_action.cancel(root);\n",
       "                root.data(\"drag_action\", undefined);\n",
       "            }\n",
       "        };\n",
       "        window.addEventListener(\"keyup\", cancel_drag_action);\n",
       "        root.data(\"cancel_drag_action\", cancel_drag_action);\n",
       "        drag_action.start(root, x, y, event);\n",
       "    }\n",
       "};\n",
       "\n",
       "\n",
       "Gadfly.guide_background_drag_onmove = function(dx, dy, x, y, event) {\n",
       "    var root = this.plotroot();\n",
       "    var drag_action = root.data(\"drag_action\");\n",
       "    if (drag_action) {\n",
       "        drag_action.update(root, dx, dy, x, y, event);\n",
       "    }\n",
       "};\n",
       "\n",
       "\n",
       "Gadfly.guide_background_drag_onend = function(event) {\n",
       "    var root = this.plotroot();\n",
       "    window.removeEventListener(\"keyup\", root.data(\"cancel_drag_action\"));\n",
       "    root.data(\"cancel_drag_action\", undefined);\n",
       "    var drag_action = root.data(\"drag_action\");\n",
       "    if (drag_action) {\n",
       "        drag_action.end(root, event);\n",
       "    }\n",
       "    root.data(\"drag_action\", undefined);\n",
       "};\n",
       "\n",
       "\n",
       "Gadfly.guide_background_scroll = function(event) {\n",
       "    if (event.shiftKey) {\n",
       "        increase_zoom_by_position(this.plotroot(), 0.001 * event.wheelDelta);\n",
       "        event.preventDefault();\n",
       "    }\n",
       "};\n",
       "\n",
       "\n",
       "Gadfly.zoomslider_button_mouseover = function(event) {\n",
       "    this.select(\".button_logo\")\n",
       "         .animate({fill: this.data(\"mouseover_color\")}, 100);\n",
       "};\n",
       "\n",
       "\n",
       "Gadfly.zoomslider_button_mouseout = function(event) {\n",
       "     this.select(\".button_logo\")\n",
       "         .animate({fill: this.data(\"mouseout_color\")}, 100);\n",
       "};\n",
       "\n",
       "\n",
       "Gadfly.zoomslider_zoomout_click = function(event) {\n",
       "    increase_zoom_by_position(this.plotroot(), -0.1, true);\n",
       "};\n",
       "\n",
       "\n",
       "Gadfly.zoomslider_zoomin_click = function(event) {\n",
       "    increase_zoom_by_position(this.plotroot(), 0.1, true);\n",
       "};\n",
       "\n",
       "\n",
       "Gadfly.zoomslider_track_click = function(event) {\n",
       "    // TODO\n",
       "};\n",
       "\n",
       "\n",
       "// Map slider position x to scale y using the function y = a*exp(b*x)+c.\n",
       "// The constants a, b, and c are solved using the constraint that the function\n",
       "// should go through the points (0; min_scale), (0.5; 1), and (1; max_scale).\n",
       "var scale_from_slider_position = function(position, min_scale, max_scale) {\n",
       "    var a = (1 - 2 * min_scale + min_scale * min_scale) / (min_scale + max_scale - 2),\n",
       "        b = 2 * Math.log((max_scale - 1) / (1 - min_scale)),\n",
       "        c = (min_scale * max_scale - 1) / (min_scale + max_scale - 2);\n",
       "    return a * Math.exp(b * position) + c;\n",
       "}\n",
       "\n",
       "// inverse of scale_from_slider_position\n",
       "var slider_position_from_scale = function(scale, min_scale, max_scale) {\n",
       "    var a = (1 - 2 * min_scale + min_scale * min_scale) / (min_scale + max_scale - 2),\n",
       "        b = 2 * Math.log((max_scale - 1) / (1 - min_scale)),\n",
       "        c = (min_scale * max_scale - 1) / (min_scale + max_scale - 2);\n",
       "    return 1 / b * Math.log((scale - c) / a);\n",
       "}\n",
       "\n",
       "var increase_zoom_by_position = function(root, delta_position, animate) {\n",
       "    var scale = root.data(\"scale\"),\n",
       "        min_scale = root.data(\"min_scale\"),\n",
       "        max_scale = root.data(\"max_scale\");\n",
       "    var position = slider_position_from_scale(scale, min_scale, max_scale);\n",
       "    position += delta_position;\n",
       "    scale = scale_from_slider_position(position, min_scale, max_scale);\n",
       "    set_zoom(root, scale, animate);\n",
       "}\n",
       "\n",
       "var set_zoom = function(root, scale, animate) {\n",
       "    var min_scale = root.data(\"min_scale\"),\n",
       "        max_scale = root.data(\"max_scale\"),\n",
       "        old_scale = root.data(\"scale\");\n",
       "    var new_scale = Math.max(min_scale, Math.min(scale, max_scale));\n",
       "    if (animate) {\n",
       "        Snap.animate(\n",
       "            old_scale,\n",
       "            new_scale,\n",
       "            function (new_scale) {\n",
       "                update_plot_scale(root, new_scale);\n",
       "            },\n",
       "            200);\n",
       "    } else {\n",
       "        update_plot_scale(root, new_scale);\n",
       "    }\n",
       "}\n",
       "\n",
       "\n",
       "var update_plot_scale = function(root, new_scale) {\n",
       "    var trans = scale_centered_translation(root, new_scale);\n",
       "    set_plot_pan_zoom(root, trans.x, trans.y, new_scale);\n",
       "\n",
       "    root.selectAll(\".zoomslider_thumb\")\n",
       "        .forEach(function (element, i) {\n",
       "            var min_pos = element.data(\"min_pos\"),\n",
       "                max_pos = element.data(\"max_pos\"),\n",
       "                min_scale = root.data(\"min_scale\"),\n",
       "                max_scale = root.data(\"max_scale\");\n",
       "            var xmid = (min_pos + max_pos) / 2;\n",
       "            var xpos = slider_position_from_scale(new_scale, min_scale, max_scale);\n",
       "            element.transform(new Snap.Matrix().translate(\n",
       "                Math.max(min_pos, Math.min(\n",
       "                         max_pos, min_pos + (max_pos - min_pos) * xpos)) - xmid, 0));\n",
       "    });\n",
       "};\n",
       "\n",
       "\n",
       "Gadfly.zoomslider_thumb_dragmove = function(dx, dy, x, y, event) {\n",
       "    var root = this.plotroot();\n",
       "    var min_pos = this.data(\"min_pos\"),\n",
       "        max_pos = this.data(\"max_pos\"),\n",
       "        min_scale = root.data(\"min_scale\"),\n",
       "        max_scale = root.data(\"max_scale\"),\n",
       "        old_scale = root.data(\"old_scale\");\n",
       "\n",
       "    var px_per_mm = root.data(\"px_per_mm\");\n",
       "    dx /= px_per_mm;\n",
       "    dy /= px_per_mm;\n",
       "\n",
       "    var xmid = (min_pos + max_pos) / 2;\n",
       "    var xpos = slider_position_from_scale(old_scale, min_scale, max_scale) +\n",
       "                   dx / (max_pos - min_pos);\n",
       "\n",
       "    // compute the new scale\n",
       "    var new_scale = scale_from_slider_position(xpos, min_scale, max_scale);\n",
       "    new_scale = Math.min(max_scale, Math.max(min_scale, new_scale));\n",
       "\n",
       "    update_plot_scale(root, new_scale);\n",
       "    event.stopPropagation();\n",
       "};\n",
       "\n",
       "\n",
       "Gadfly.zoomslider_thumb_dragstart = function(x, y, event) {\n",
       "    this.animate({fill: this.data(\"mouseover_color\")}, 100);\n",
       "    var root = this.plotroot();\n",
       "\n",
       "    // keep track of what the scale was when we started dragging\n",
       "    root.data(\"old_scale\", root.data(\"scale\"));\n",
       "    event.stopPropagation();\n",
       "};\n",
       "\n",
       "\n",
       "Gadfly.zoomslider_thumb_dragend = function(event) {\n",
       "    this.animate({fill: this.data(\"mouseout_color\")}, 100);\n",
       "    event.stopPropagation();\n",
       "};\n",
       "\n",
       "\n",
       "var toggle_color_class = function(root, color_class, ison) {\n",
       "    var guides = root.selectAll(\".guide.\" + color_class + \",.guide .\" + color_class);\n",
       "    var geoms = root.selectAll(\".geometry.\" + color_class + \",.geometry .\" + color_class);\n",
       "    if (ison) {\n",
       "        guides.animate({opacity: 0.5}, 250);\n",
       "        geoms.animate({opacity: 0.0}, 250);\n",
       "    } else {\n",
       "        guides.animate({opacity: 1.0}, 250);\n",
       "        geoms.animate({opacity: 1.0}, 250);\n",
       "    }\n",
       "};\n",
       "\n",
       "\n",
       "Gadfly.colorkey_swatch_click = function(event) {\n",
       "    var root = this.plotroot();\n",
       "    var color_class = this.data(\"color_class\");\n",
       "\n",
       "    if (event.shiftKey) {\n",
       "        root.selectAll(\".colorkey text\")\n",
       "            .forEach(function (element) {\n",
       "                var other_color_class = element.data(\"color_class\");\n",
       "                if (other_color_class != color_class) {\n",
       "                    toggle_color_class(root, other_color_class,\n",
       "                                       element.attr(\"opacity\") == 1.0);\n",
       "                }\n",
       "            });\n",
       "    } else {\n",
       "        toggle_color_class(root, color_class, this.attr(\"opacity\") == 1.0);\n",
       "    }\n",
       "};\n",
       "\n",
       "\n",
       "return Gadfly;\n",
       "\n",
       "}));\n",
       "\n",
       "\n",
       "//@ sourceURL=gadfly.js\n",
       "\n",
       "(function (glob, factory) {\n",
       "    // AMD support\n",
       "      if (typeof require === \"function\" && typeof define === \"function\" && define.amd) {\n",
       "        require([\"Snap.svg\", \"Gadfly\"], function (Snap, Gadfly) {\n",
       "            factory(Snap, Gadfly);\n",
       "        });\n",
       "      } else {\n",
       "          factory(glob.Snap, glob.Gadfly);\n",
       "      }\n",
       "})(window, function (Snap, Gadfly) {\n",
       "    var fig = Snap(\"#img-c54ac09e\");\n",
       "fig.select(\"#img-c54ac09e-4\")\n",
       "   .drag(function() {}, function() {}, function() {});\n",
       "fig.select(\"#img-c54ac09e-6\")\n",
       "   .data(\"color_class\", \"color_f1\")\n",
       ".click(Gadfly.colorkey_swatch_click)\n",
       ";\n",
       "fig.select(\"#img-c54ac09e-7\")\n",
       "   .data(\"color_class\", \"color_f2\")\n",
       ".click(Gadfly.colorkey_swatch_click)\n",
       ";\n",
       "fig.select(\"#img-c54ac09e-9\")\n",
       "   .data(\"color_class\", \"color_f1\")\n",
       ".click(Gadfly.colorkey_swatch_click)\n",
       ";\n",
       "fig.select(\"#img-c54ac09e-10\")\n",
       "   .data(\"color_class\", \"color_f2\")\n",
       ".click(Gadfly.colorkey_swatch_click)\n",
       ";\n",
       "fig.select(\"#img-c54ac09e-14\")\n",
       "   .init_gadfly();\n",
       "fig.select(\"#img-c54ac09e-17\")\n",
       "   .plotroot().data(\"unfocused_ygrid_color\", \"#D0D0E0\")\n",
       ";\n",
       "fig.select(\"#img-c54ac09e-17\")\n",
       "   .plotroot().data(\"focused_ygrid_color\", \"#A0A0A0\")\n",
       ";\n",
       "fig.select(\"#img-c54ac09e-130\")\n",
       "   .plotroot().data(\"unfocused_xgrid_color\", \"#D0D0E0\")\n",
       ";\n",
       "fig.select(\"#img-c54ac09e-130\")\n",
       "   .plotroot().data(\"focused_xgrid_color\", \"#A0A0A0\")\n",
       ";\n",
       "fig.select(\"#img-c54ac09e-254\")\n",
       "   .data(\"mouseover_color\", \"#CD5C5C\")\n",
       ";\n",
       "fig.select(\"#img-c54ac09e-254\")\n",
       "   .data(\"mouseout_color\", \"#6A6A6A\")\n",
       ";\n",
       "fig.select(\"#img-c54ac09e-254\")\n",
       "   .click(Gadfly.zoomslider_zoomin_click)\n",
       ".mouseenter(Gadfly.zoomslider_button_mouseover)\n",
       ".mouseleave(Gadfly.zoomslider_button_mouseout)\n",
       ";\n",
       "fig.select(\"#img-c54ac09e-258\")\n",
       "   .data(\"max_pos\", 210.16)\n",
       ";\n",
       "fig.select(\"#img-c54ac09e-258\")\n",
       "   .data(\"min_pos\", 193.16)\n",
       ";\n",
       "fig.select(\"#img-c54ac09e-258\")\n",
       "   .click(Gadfly.zoomslider_track_click);\n",
       "fig.select(\"#img-c54ac09e-260\")\n",
       "   .data(\"max_pos\", 210.16)\n",
       ";\n",
       "fig.select(\"#img-c54ac09e-260\")\n",
       "   .data(\"min_pos\", 193.16)\n",
       ";\n",
       "fig.select(\"#img-c54ac09e-260\")\n",
       "   .data(\"mouseover_color\", \"#CD5C5C\")\n",
       ";\n",
       "fig.select(\"#img-c54ac09e-260\")\n",
       "   .data(\"mouseout_color\", \"#6A6A6A\")\n",
       ";\n",
       "fig.select(\"#img-c54ac09e-260\")\n",
       "   .drag(Gadfly.zoomslider_thumb_dragmove,\n",
       "     Gadfly.zoomslider_thumb_dragstart,\n",
       "     Gadfly.zoomslider_thumb_dragend)\n",
       ";\n",
       "fig.select(\"#img-c54ac09e-262\")\n",
       "   .data(\"mouseover_color\", \"#CD5C5C\")\n",
       ";\n",
       "fig.select(\"#img-c54ac09e-262\")\n",
       "   .data(\"mouseout_color\", \"#6A6A6A\")\n",
       ";\n",
       "fig.select(\"#img-c54ac09e-262\")\n",
       "   .click(Gadfly.zoomslider_zoomout_click)\n",
       ".mouseenter(Gadfly.zoomslider_button_mouseover)\n",
       ".mouseleave(Gadfly.zoomslider_button_mouseout)\n",
       ";\n",
       "    });\n",
       "]]> </script>\n",
       "</svg>\n"
      ],
      "text/plain": [
       "Plot(...)"
      ]
     },
     "execution_count": 48,
     "metadata": {},
     "output_type": "execute_result"
    }
   ],
   "source": [
    "plot([convert(Function,f), convert(Function,f')], -pi, pi)"
   ]
  },
  {
   "cell_type": "code",
   "execution_count": 49,
   "metadata": {
    "collapsed": false
   },
   "outputs": [
    {
     "name": "stderr",
     "output_type": "stream",
     "text": [
      "// Success\n"
     ]
    },
    {
     "data": {
      "text/plain": [
       " (x)-> \n",
       "  if (x>0) x^2; else x^3; ; "
      ]
     },
     "execution_count": 49,
     "metadata": {},
     "output_type": "execute_result"
    }
   ],
   "source": [
    "mysqcu = giac(\"\"\"\n",
    "  proc(x) // comment inside Giac  program\n",
    "    if x > 0 then \n",
    "      x^2 \n",
    "    else\n",
    "      x^3 \n",
    "    fi \n",
    "  end\n",
    "\"\"\") # define Giac program"
   ]
  },
  {
   "cell_type": "code",
   "execution_count": 50,
   "metadata": {
    "collapsed": false
   },
   "outputs": [
    {
     "data": {
      "text/plain": [
       "25"
      ]
     },
     "execution_count": 50,
     "metadata": {},
     "output_type": "execute_result"
    }
   ],
   "source": [
    "mysqcu(5)"
   ]
  },
  {
   "cell_type": "code",
   "execution_count": 51,
   "metadata": {
    "collapsed": false
   },
   "outputs": [
    {
     "data": {
      "text/plain": [
       "-125"
      ]
     },
     "execution_count": 51,
     "metadata": {},
     "output_type": "execute_result"
    }
   ],
   "source": [
    "mysqcu(-5)"
   ]
  }
 ],
 "metadata": {
  "kernelspec": {
   "display_name": "Julia 0.4.5",
   "language": "julia",
   "name": "julia-0.4"
  },
  "language_info": {
   "file_extension": ".jl",
   "mimetype": "application/julia",
   "name": "julia",
   "version": "0.4.5"
  }
 },
 "nbformat": 4,
 "nbformat_minor": 0
}
